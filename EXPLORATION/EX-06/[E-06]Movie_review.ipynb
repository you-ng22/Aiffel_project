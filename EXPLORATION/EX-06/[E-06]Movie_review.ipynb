{
 "cells": [
  {
   "cell_type": "markdown",
   "id": "bedace3e",
   "metadata": {},
   "source": [
    "# 네이버 영화리뷰 감성분석 도전"
   ]
  },
  {
   "cell_type": "markdown",
   "id": "fa595fe6",
   "metadata": {},
   "source": [
    "## 데이터 준비와 확인"
   ]
  },
  {
   "cell_type": "code",
   "execution_count": 1,
   "id": "c438d06f",
   "metadata": {},
   "outputs": [
    {
     "name": "stdout",
     "output_type": "stream",
     "text": [
      "Requirement already satisfied: gensim in /opt/conda/lib/python3.9/site-packages (3.8.3)\n",
      "Requirement already satisfied: smart-open>=1.8.1 in /opt/conda/lib/python3.9/site-packages (from gensim) (5.2.1)\n",
      "Requirement already satisfied: scipy>=0.18.1 in /opt/conda/lib/python3.9/site-packages (from gensim) (1.7.1)\n",
      "Requirement already satisfied: numpy>=1.11.3 in /opt/conda/lib/python3.9/site-packages (from gensim) (1.21.4)\n",
      "Requirement already satisfied: six>=1.5.0 in /opt/conda/lib/python3.9/site-packages (from gensim) (1.16.0)\n",
      "\u001b[33mWARNING: Running pip as the 'root' user can result in broken permissions and conflicting behaviour with the system package manager. It is recommended to use a virtual environment instead: https://pip.pypa.io/warnings/venv\u001b[0m\n",
      "Requirement already satisfied: gensim==3.8.3 in /opt/conda/lib/python3.9/site-packages (3.8.3)\n",
      "Requirement already satisfied: smart-open>=1.8.1 in /opt/conda/lib/python3.9/site-packages (from gensim==3.8.3) (5.2.1)\n",
      "Requirement already satisfied: numpy>=1.11.3 in /opt/conda/lib/python3.9/site-packages (from gensim==3.8.3) (1.21.4)\n",
      "Requirement already satisfied: six>=1.5.0 in /opt/conda/lib/python3.9/site-packages (from gensim==3.8.3) (1.16.0)\n",
      "Requirement already satisfied: scipy>=0.18.1 in /opt/conda/lib/python3.9/site-packages (from gensim==3.8.3) (1.7.1)\n",
      "\u001b[33mWARNING: Running pip as the 'root' user can result in broken permissions and conflicting behaviour with the system package manager. It is recommended to use a virtual environment instead: https://pip.pypa.io/warnings/venv\u001b[0m\n"
     ]
    }
   ],
   "source": [
    "!pip install gensim\n",
    "\n",
    "!pip install --upgrade gensim==3.8.3"
   ]
  },
  {
   "cell_type": "code",
   "execution_count": 2,
   "id": "acca7dfb",
   "metadata": {},
   "outputs": [
    {
     "data": {
      "text/html": [
       "<div>\n",
       "<style scoped>\n",
       "    .dataframe tbody tr th:only-of-type {\n",
       "        vertical-align: middle;\n",
       "    }\n",
       "\n",
       "    .dataframe tbody tr th {\n",
       "        vertical-align: top;\n",
       "    }\n",
       "\n",
       "    .dataframe thead th {\n",
       "        text-align: right;\n",
       "    }\n",
       "</style>\n",
       "<table border=\"1\" class=\"dataframe\">\n",
       "  <thead>\n",
       "    <tr style=\"text-align: right;\">\n",
       "      <th></th>\n",
       "      <th>id</th>\n",
       "      <th>document</th>\n",
       "      <th>label</th>\n",
       "    </tr>\n",
       "  </thead>\n",
       "  <tbody>\n",
       "    <tr>\n",
       "      <th>0</th>\n",
       "      <td>9976970</td>\n",
       "      <td>아 더빙.. 진짜 짜증나네요 목소리</td>\n",
       "      <td>0</td>\n",
       "    </tr>\n",
       "    <tr>\n",
       "      <th>1</th>\n",
       "      <td>3819312</td>\n",
       "      <td>흠...포스터보고 초딩영화줄....오버연기조차 가볍지 않구나</td>\n",
       "      <td>1</td>\n",
       "    </tr>\n",
       "    <tr>\n",
       "      <th>2</th>\n",
       "      <td>10265843</td>\n",
       "      <td>너무재밓었다그래서보는것을추천한다</td>\n",
       "      <td>0</td>\n",
       "    </tr>\n",
       "    <tr>\n",
       "      <th>3</th>\n",
       "      <td>9045019</td>\n",
       "      <td>교도소 이야기구먼 ..솔직히 재미는 없다..평점 조정</td>\n",
       "      <td>0</td>\n",
       "    </tr>\n",
       "    <tr>\n",
       "      <th>4</th>\n",
       "      <td>6483659</td>\n",
       "      <td>사이몬페그의 익살스런 연기가 돋보였던 영화!스파이더맨에서 늙어보이기만 했던 커스틴 ...</td>\n",
       "      <td>1</td>\n",
       "    </tr>\n",
       "  </tbody>\n",
       "</table>\n",
       "</div>"
      ],
      "text/plain": [
       "         id                                           document  label\n",
       "0   9976970                                아 더빙.. 진짜 짜증나네요 목소리      0\n",
       "1   3819312                  흠...포스터보고 초딩영화줄....오버연기조차 가볍지 않구나      1\n",
       "2  10265843                                  너무재밓었다그래서보는것을추천한다      0\n",
       "3   9045019                      교도소 이야기구먼 ..솔직히 재미는 없다..평점 조정      0\n",
       "4   6483659  사이몬페그의 익살스런 연기가 돋보였던 영화!스파이더맨에서 늙어보이기만 했던 커스틴 ...      1"
      ]
     },
     "execution_count": 2,
     "metadata": {},
     "output_type": "execute_result"
    }
   ],
   "source": [
    "import pandas as pd\n",
    "import urllib.request\n",
    "%matplotlib inline\n",
    "import matplotlib.pyplot as plt\n",
    "import re\n",
    "from konlpy.tag import Okt\n",
    "from tensorflow import keras\n",
    "from tensorflow.keras.preprocessing.text import Tokenizer\n",
    "import numpy as np\n",
    "from tensorflow.keras.preprocessing.sequence import pad_sequences\n",
    "from collections import Counter\n",
    "\n",
    "# 데이터를 읽어보자\n",
    "train_data = pd.read_table('~/aiffel/sentiment_classification/data/ratings_train.txt')\n",
    "test_data = pd.read_table('~/aiffel/sentiment_classification/data/ratings_test.txt')\n",
    "\n",
    "train_data.head()"
   ]
  },
  {
   "cell_type": "markdown",
   "id": "c4b955b4",
   "metadata": {},
   "source": [
    "## 데이터로더 구성"
   ]
  },
  {
   "cell_type": "markdown",
   "id": "db9eb839",
   "metadata": {},
   "source": [
    "#### data_loader\n",
    "데이터 중복 제거\n",
    "\n",
    "NaN 결측치 제거\n",
    "\n",
    "한국어 토크나이저로 토큰화\n",
    "\n",
    "불용어 제거\n",
    "\n",
    "사전 word_to_index 구성\n",
    "\n",
    "텍스트 스트링을 사전 인덱스 스트링으로 변환\n",
    "\n",
    "X_train, y_train, X_test, y_test, word_to_index 리턴"
   ]
  },
  {
   "cell_type": "code",
   "execution_count": 3,
   "id": "6dc99a07",
   "metadata": {},
   "outputs": [
    {
     "name": "stdout",
     "output_type": "stream",
     "text": [
      "train data 개수 : 146182\n",
      "test data 개수 : 49157\n"
     ]
    }
   ],
   "source": [
    "from konlpy.tag import Mecab\n",
    "tokenizer = Mecab()\n",
    "stopwords = ['의','가','이','은','들','는','좀','잘','걍','과','도','를','으로','자','에','와','한','하다']\n",
    "\n",
    "def load_data(train_data, test_data, num_words=10000):\n",
    "    #train 전처리\n",
    "    train_data.drop_duplicates(subset=['document'], inplace=True) # 데이터 중복 제거\n",
    "    train_data = train_data.dropna(how='any')                     # 결측치 제거       \n",
    "    #Test 전처리\n",
    "    test_data.drop_duplicates(subset=['document'], inplace=True) # 데이터 중복 제거\n",
    "    test_data = test_data.dropna(how = 'any')                    # 결측치 제거\n",
    "    \n",
    "    X_train = []\n",
    "    for sentence in train_data['document']:\n",
    "        temp_X = tokenizer.morphs(sentence) # 토큰화\n",
    "        temp_X = [word for word in temp_X if not word in stopwords] # stopwords 제거\n",
    "        X_train.append(temp_X)\n",
    "\n",
    "    X_test = []\n",
    "    for sentence in test_data['document']:\n",
    "        temp_X = tokenizer.morphs(sentence) # 토큰화\n",
    "        temp_X = [word for word in temp_X if not word in stopwords] # stopwords 제거\n",
    "        X_test.append(temp_X)\n",
    "\n",
    "    words = np.concatenate(X_train).tolist()\n",
    "    counter = Counter(words)\n",
    "    counter = counter.most_common(70000-4)\n",
    "    vocab = ['<PAD>', '<BOS>', '<UNK>', '<UNUSED>'] + [key for key, _ in counter]\n",
    "    word_to_index = {word:index for index, word in enumerate(vocab)}\n",
    "\n",
    "    def wordlist_to_indexlist(wordlist):\n",
    "        return [word_to_index[word] if word in word_to_index else word_to_index['<UNK>'] for word in wordlist]\n",
    "\n",
    "    X_train = list(map(wordlist_to_indexlist, X_train))\n",
    "    X_test = list(map(wordlist_to_indexlist, X_test))\n",
    "\n",
    "    return X_train, np.array(list(train_data['label'])), X_test, np.array(list(test_data['label'])), word_to_index\n",
    "    \n",
    "X_train, y_train, X_test, y_test, word_to_index = load_data(train_data, test_data) \n",
    "print(\"train data 개수 :\", len(X_train))\n",
    "print(\"test data 개수 :\", len(X_test))"
   ]
  },
  {
   "cell_type": "code",
   "execution_count": 4,
   "id": "755ba857",
   "metadata": {},
   "outputs": [],
   "source": [
    "#딕셔너리 생성\n",
    "index_to_word = {index:word for word, index in word_to_index.items()}"
   ]
  },
  {
   "cell_type": "code",
   "execution_count": 5,
   "id": "b270bdab",
   "metadata": {},
   "outputs": [
    {
     "name": "stdout",
     "output_type": "stream",
     "text": [
      "[32, 74, 919, 4, 4, 39, 228, 20, 33, 748]\n",
      "더 빙 . . 진짜 짜증 나 네요 목소리\n",
      "라벨:  0\n",
      "[1028, 4, 11, 519, 549, 687, 5, 120, 4, 70, 1639, 52, 925, 1006, 15, 44, 391]\n",
      ". .. 포스터 보고 초딩 영화 줄 . ... 오버 연기 조차 가볍 지 않 구나\n",
      "라벨:  1\n",
      "[24, 205, 30113]\n",
      "재 밓었다그래서보는것을추천한다\n",
      "라벨:  0\n",
      "[8409, 158, 3925, 4, 4, 298, 94, 17, 6, 4, 4, 58, 3479]\n",
      "이야기 구먼 . . 솔직히 재미 없 다 . . 평점 조정\n",
      "라벨:  0\n",
      "[22672, 8894, 1108, 52, 2832, 60, 5, 14, 2758, 41, 1188, 35, 351, 42, 22, 40, 60, 16052, 22673, 427, 3102, 1766, 6]\n",
      "익살 스런 연기 돋보였 던 영화 ! 스파이더맨 에서 늙 어 보이 기 만 했 던 커스틴 던스트 너무나 이뻐 보였 다\n",
      "라벨:  1\n",
      "[675, 22674, 18655, 131, 420, 185, 1547, 712, 65, 1694, 715, 53, 375, 192, 271, 5, 4, 69, 4, 11, 2179, 122, 750, 4]\n",
      "걸음마 뗀 3 세 부터 초등 학교 1 학년 생 인 8 살 용 영화 . ㅋㅋㅋ . .. 별반 개 아까움 .\n",
      "라벨:  0\n",
      "[253, 381, 9, 384, 2012, 55, 15, 817, 6, 4]\n",
      "긴장감 을 제대로 살려 내 지 못했 다 .\n",
      "라벨:  0\n",
      "[232, 1450, 144, 6, 425, 756, 10855, 16053, 52, 1532, 290, 99, 250, 4, 4, 28, 855, 29, 353, 652, 540, 509, 583, 6, 3318, 4, 8895, 22, 1460, 1460, 4, 4, 71, 304, 17, 6, 52, 104, 8, 77, 22, 30114, 43]\n",
      "반개 아깝 다 욕 나온다 이응경 길용우 연기 생활 몇 년 인지 . . 정말 발 로 해도 그것 보단 낫 겟 다 납치 . 감금 만 반복 반복 . . 드라마 가족 없 다 연기 못 하 사람 만 모엿 네\n",
      "라벨:  0\n",
      "[128, 17, 23, 94, 16, 290, 27, 48, 5]\n",
      "없 는데 재미 있 몇 안 되 영화\n",
      "라벨:  1\n",
      "[63, 656, 58, 240, 760, 18, 574, 89, 10063, 4, 4, 1482, 637, 736, 81, 22, 24, 16054, 16, 20, 18]\n",
      "케 평점 낮 건데 ? 꽤 볼 만한데 . . 헐리우드 식 화려 함 만 너무 길들여져 있 나 ?\n",
      "라벨:  1\n"
     ]
    }
   ],
   "source": [
    "# 문장 1개를 활용할 딕셔너리와 함께 주면, 단어 인덱스 리스트 벡터로 변환해 주는 함수 \n",
    "# 단, 모든 문장은 <BOS>로 시작하는 것으로 \n",
    "def get_encoded_sentence(sentence, word_to_index):\n",
    "    return [word_to_index['<BOS>']]+[word_to_index[word] if word in word_to_index else word_to_index['<UNK>'] for word in sentence.split()]\n",
    "\n",
    "# 여러 개의 문장 리스트를 한꺼번에 단어 인덱스 리스트 벡터로 encode해 주는 함수 \n",
    "def get_encoded_sentences(sentences, word_to_index):\n",
    "    return [get_encoded_sentence(sentence, word_to_index) for sentence in sentences]\n",
    "\n",
    "# 숫자 벡터로 encode된 문장을 원래대로 decode하는 함수\n",
    "def get_decoded_sentence(encoded_sentence, index_to_word):\n",
    "    return ' '.join(index_to_word[index] if index in index_to_word else '<UNK>' for index in encoded_sentence[1:])  #[1:]를 통해 <BOS>를 제외\n",
    "\n",
    "# 여러 개의 숫자 벡터로 encode된 문장을 한꺼번에 원래대로 decode하는 함수 \n",
    "def get_decoded_sentences(encoded_sentences, index_to_word):\n",
    "    return [get_decoded_sentence(encoded_sentence, index_to_word) for encoded_sentence in encoded_sentences]\n",
    "\n",
    "for i in range(10):\n",
    "    print(X_train[i])\n",
    "    print(get_decoded_sentence(X_train[i], index_to_word))\n",
    "    print('라벨: ', y_train[i])"
   ]
  },
  {
   "cell_type": "markdown",
   "id": "c340f442",
   "metadata": {},
   "source": [
    "## 모델 구성을 위한 데이터 분석 및 가공"
   ]
  },
  {
   "cell_type": "markdown",
   "id": "b56542c5",
   "metadata": {},
   "source": [
    "### 데이터셋 내의 문장 길이 분포\n",
    "\n",
    "### 적절한 최대 문장 길이 지정\n",
    "\n",
    "### keras.preprocessing.sequence.pad_sequences 을 활용한 패딩 추가"
   ]
  },
  {
   "cell_type": "code",
   "execution_count": 6,
   "id": "936f1003",
   "metadata": {},
   "outputs": [
    {
     "name": "stdout",
     "output_type": "stream",
     "text": [
      "문장길이 평균 :  15.96940191154864\n",
      "문장길이 최대 :  116\n",
      "문장길이 표준편차 :  12.843571191092\n",
      "pad_sequences maxlen :  41\n",
      "전체 문장의 0.9342988343341575%가 maxlen 설정값 이내에 포함됩니다. \n"
     ]
    }
   ],
   "source": [
    "total_data_text = list(X_train) + list(X_test)\n",
    "# 텍스트데이터 문장길이의 리스트를 생성\n",
    "num_tokens = [len(tokens) for tokens in total_data_text]\n",
    "\n",
    "num_tokens = np.array(num_tokens)\n",
    "# 문장길이의 평균값, 최대값, 표준편차를 계산\n",
    "print('문장길이 평균 : ', np.mean(num_tokens))\n",
    "print('문장길이 최대 : ', np.max(num_tokens))\n",
    "print('문장길이 표준편차 : ', np.std(num_tokens))\n",
    "\n",
    "# 예를들어, 최대 길이를 (평균 + 2*표준편차)로 한다면,  \n",
    "max_tokens = np.mean(num_tokens) + 2 * np.std(num_tokens)\n",
    "maxlen = int(max_tokens)\n",
    "print('pad_sequences maxlen : ', maxlen)\n",
    "print('전체 문장의 {}%가 maxlen 설정값 이내에 포함됩니다. '.format(np.sum(num_tokens < max_tokens) / len(num_tokens)))"
   ]
  },
  {
   "cell_type": "code",
   "execution_count": 7,
   "id": "6dc058bb",
   "metadata": {},
   "outputs": [
    {
     "name": "stdout",
     "output_type": "stream",
     "text": [
      "(146182, 41)\n"
     ]
    }
   ],
   "source": [
    "X_train = keras.preprocessing.sequence.pad_sequences(X_train,\n",
    "                                                        value=word_to_index[\"<PAD>\"],\n",
    "                                                        padding='pre', # 혹은 'pre'\n",
    "                                                        maxlen=maxlen)\n",
    "\n",
    "X_test = keras.preprocessing.sequence.pad_sequences(X_test,\n",
    "                                                       value=word_to_index[\"<PAD>\"],\n",
    "                                                       padding='pre', # 혹은 'pre'\n",
    "                                                       maxlen=maxlen)\n",
    "\n",
    "\n",
    "print(X_train.shape)"
   ]
  },
  {
   "cell_type": "code",
   "execution_count": 8,
   "id": "08cc1487",
   "metadata": {},
   "outputs": [
    {
     "name": "stdout",
     "output_type": "stream",
     "text": [
      "partial_x_train : (116945, 41)\n",
      "partial_y_train : (116945,)\n",
      "x_valid : (29237, 41)\n",
      "y_valid : (29237,)\n"
     ]
    }
   ],
   "source": [
    "# train data set에서 80:20의 비율로 train과 validation으로 분리\n",
    "#RNN에서는 순서가 중요하므로 shuffle은 진행하지 않도록 한다.\n",
    "# train set\n",
    "partial_X_train = X_train[:int(X_train.shape[0]*0.8)]\n",
    "partial_y_train = y_train[:int(y_train.shape[0]*0.8)]\n",
    "\n",
    "# validation set\n",
    "x_valid = X_train[int(X_train.shape[0]*0.8):]\n",
    "y_valid = y_train[int(X_train.shape[0]*0.8):]\n",
    "\n",
    "print('partial_x_train :', partial_X_train.shape)\n",
    "print('partial_y_train :', partial_y_train.shape)\n",
    "print('x_valid :', x_valid.shape)\n",
    "print('y_valid :', y_valid.shape)"
   ]
  },
  {
   "cell_type": "markdown",
   "id": "2157d8fd",
   "metadata": {},
   "source": [
    "## 모델 구성 및 validation set 구성"
   ]
  },
  {
   "cell_type": "markdown",
   "id": "32687a78",
   "metadata": {},
   "source": [
    "### RNN 모델"
   ]
  },
  {
   "cell_type": "code",
   "execution_count": 9,
   "id": "4260c45a",
   "metadata": {},
   "outputs": [
    {
     "name": "stdout",
     "output_type": "stream",
     "text": [
      "Model: \"sequential\"\n",
      "_________________________________________________________________\n",
      "Layer (type)                 Output Shape              Param #   \n",
      "=================================================================\n",
      "embedding (Embedding)        (None, None, 128)         1280000   \n",
      "_________________________________________________________________\n",
      "lstm (LSTM)                  (None, 8)                 4384      \n",
      "_________________________________________________________________\n",
      "dense (Dense)                (None, 16)                144       \n",
      "_________________________________________________________________\n",
      "dense_1 (Dense)              (None, 1)                 17        \n",
      "=================================================================\n",
      "Total params: 1,284,545\n",
      "Trainable params: 1,284,545\n",
      "Non-trainable params: 0\n",
      "_________________________________________________________________\n"
     ]
    }
   ],
   "source": [
    "# 어휘 사전의 크기\n",
    "vocab_size = 10000\n",
    "word_vector_dim = 128  \n",
    "# 워드 벡터의 차원수\n",
    "\n",
    "model = keras.Sequential()\n",
    "model.add(keras.layers.Embedding(vocab_size, word_vector_dim, input_shape=(None,)))\n",
    "model.add(keras.layers.LSTM(8))\n",
    "model.add(keras.layers.Dense(16, activation='relu',kernel_regularizer='l1'))\n",
    "model.add(keras.layers.Dense(1, activation='sigmoid'))  \n",
    "# 최종 출력은 긍정/부정을 나타내는 1dim\n",
    "\n",
    "model.summary()"
   ]
  },
  {
   "cell_type": "markdown",
   "id": "34e1a360",
   "metadata": {},
   "source": [
    "### 모델 훈련"
   ]
  },
  {
   "cell_type": "code",
   "execution_count": 10,
   "id": "4a53306c",
   "metadata": {},
   "outputs": [
    {
     "name": "stdout",
     "output_type": "stream",
     "text": [
      "Epoch 1/10\n",
      "229/229 [==============================] - 5s 8ms/step - loss: 0.6828 - accuracy: 0.8010 - val_loss: 0.5037 - val_accuracy: 0.8466\n",
      "Epoch 2/10\n",
      "229/229 [==============================] - 1s 6ms/step - loss: 0.4329 - accuracy: 0.8605 - val_loss: 0.4155 - val_accuracy: 0.8504\n",
      "Epoch 3/10\n",
      "229/229 [==============================] - 1s 6ms/step - loss: 0.3655 - accuracy: 0.8752 - val_loss: 0.3970 - val_accuracy: 0.8510\n",
      "Epoch 4/10\n",
      "229/229 [==============================] - 1s 6ms/step - loss: 0.3332 - accuracy: 0.8845 - val_loss: 0.3869 - val_accuracy: 0.8509\n",
      "Epoch 5/10\n",
      "229/229 [==============================] - 1s 6ms/step - loss: 0.3091 - accuracy: 0.8944 - val_loss: 0.3887 - val_accuracy: 0.8512\n",
      "Epoch 6/10\n",
      "229/229 [==============================] - 1s 6ms/step - loss: 0.2883 - accuracy: 0.9029 - val_loss: 0.3913 - val_accuracy: 0.8506\n",
      "Epoch 7/10\n",
      "229/229 [==============================] - 1s 6ms/step - loss: 0.2699 - accuracy: 0.9113 - val_loss: 0.4048 - val_accuracy: 0.8472\n",
      "Epoch 8/10\n",
      "229/229 [==============================] - 1s 6ms/step - loss: 0.2550 - accuracy: 0.9174 - val_loss: 0.4072 - val_accuracy: 0.8481\n",
      "Epoch 9/10\n",
      "229/229 [==============================] - 1s 6ms/step - loss: 0.2404 - accuracy: 0.9228 - val_loss: 0.4082 - val_accuracy: 0.8476\n",
      "Epoch 10/10\n",
      "229/229 [==============================] - 1s 6ms/step - loss: 0.2304 - accuracy: 0.9271 - val_loss: 0.4230 - val_accuracy: 0.8485\n"
     ]
    }
   ],
   "source": [
    "model.compile(optimizer='adam',\n",
    "              loss='binary_crossentropy',\n",
    "              metrics=['accuracy'])\n",
    "              \n",
    "epochs=10\n",
    "\n",
    "history = model.fit(partial_X_train,\n",
    "                    partial_y_train,\n",
    "                    epochs=epochs,\n",
    "                    batch_size=512,\n",
    "                    validation_data=(x_valid, y_valid),\n",
    "                    verbose=1)"
   ]
  },
  {
   "cell_type": "markdown",
   "id": "9cbca900",
   "metadata": {},
   "source": [
    "### 그래프 시각화"
   ]
  },
  {
   "cell_type": "code",
   "execution_count": 11,
   "id": "bcda8a2b",
   "metadata": {},
   "outputs": [],
   "source": [
    "history_dict = history.history"
   ]
  },
  {
   "cell_type": "code",
   "execution_count": 12,
   "id": "f4b72f4c",
   "metadata": {
    "scrolled": true
   },
   "outputs": [
    {
     "data": {
      "image/png": "[encoded data removed]",
      "text/plain": [
       "<Figure size 432x288 with 1 Axes>"
      ]
     },
     "metadata": {
      "needs_background": "light"
     },
     "output_type": "display_data"
    },
    {
     "data": {
      "image/png": "[encoded data removed]",
      "text/plain": [
       "<Figure size 432x288 with 1 Axes>"
      ]
     },
     "metadata": {
      "needs_background": "light"
     },
     "output_type": "display_data"
    }
   ],
   "source": [
    "import matplotlib.pyplot as plt\n",
    "\n",
    "acc = history_dict['accuracy']\n",
    "val_acc = history_dict['val_accuracy']\n",
    "loss = history_dict['loss']\n",
    "val_loss = history_dict['val_loss']\n",
    "\n",
    "epochs = range(1, len(acc) + 1)\n",
    "\n",
    "\n",
    "plt.plot(epochs, loss, 'ro', label='Training loss')\n",
    "# b는 \"파란 실선\"입니다\n",
    "plt.plot(epochs, val_loss, 'r', label='Validation loss')\n",
    "plt.title('Training and validation loss')\n",
    "plt.xlabel('Epochs')\n",
    "plt.ylabel('Loss')\n",
    "plt.legend()\n",
    "\n",
    "plt.show()\n",
    "\n",
    "plt.plot(epochs, acc, 'bo', label='Training acc')\n",
    "plt.plot(epochs, val_acc, 'b', label='Validation acc')\n",
    "plt.title('Training and validation accuracy')\n",
    "plt.xlabel('Epochs')\n",
    "plt.ylabel('Accuracy')\n",
    "plt.legend()\n",
    "\n",
    "plt.show()"
   ]
  },
  {
   "cell_type": "markdown",
   "id": "3909ce96",
   "metadata": {},
   "source": [
    "### 테스트 평가"
   ]
  },
  {
   "cell_type": "code",
   "execution_count": 13,
   "id": "240e13fd",
   "metadata": {},
   "outputs": [
    {
     "name": "stdout",
     "output_type": "stream",
     "text": [
      "1537/1537 - 3s - loss: 0.4384 - accuracy: 0.8421\n",
      "[0.43842825293540955, 0.8420977592468262]\n"
     ]
    }
   ],
   "source": [
    "results = model.evaluate(X_test,  y_test, verbose=2)\n",
    "\n",
    "print(results)"
   ]
  },
  {
   "cell_type": "markdown",
   "id": "79593ff1",
   "metadata": {},
   "source": [
    "### 1-D CNN 모델"
   ]
  },
  {
   "cell_type": "code",
   "execution_count": 14,
   "id": "76df1a1b",
   "metadata": {},
   "outputs": [
    {
     "name": "stdout",
     "output_type": "stream",
     "text": [
      "Model: \"sequential_1\"\n",
      "_________________________________________________________________\n",
      "Layer (type)                 Output Shape              Param #   \n",
      "=================================================================\n",
      "embedding_1 (Embedding)      (None, None, 200)         2000000   \n",
      "_________________________________________________________________\n",
      "conv1d (Conv1D)              (None, None, 32)          44832     \n",
      "_________________________________________________________________\n",
      "max_pooling1d (MaxPooling1D) (None, None, 32)          0         \n",
      "_________________________________________________________________\n",
      "conv1d_1 (Conv1D)            (None, None, 32)          7200      \n",
      "_________________________________________________________________\n",
      "global_max_pooling1d (Global (None, 32)                0         \n",
      "_________________________________________________________________\n",
      "dense_2 (Dense)              (None, 16)                528       \n",
      "_________________________________________________________________\n",
      "dense_3 (Dense)              (None, 1)                 17        \n",
      "=================================================================\n",
      "Total params: 2,052,577\n",
      "Trainable params: 2,052,577\n",
      "Non-trainable params: 0\n",
      "_________________________________________________________________\n"
     ]
    }
   ],
   "source": [
    "# 어휘 사전의 크기(10,000개의 단어)\n",
    "vocab_size = 10000  \n",
    "word_vector_dim = 200   # 단어 하나를 표현하는 임베딩 벡터의 차원 \n",
    "\n",
    "model2 = keras.Sequential()\n",
    "model2.add(keras.layers.Embedding(vocab_size, word_vector_dim, input_shape=(None,)))\n",
    "model2.add(keras.layers.Conv1D(32, 7, activation='relu'))\n",
    "model2.add(keras.layers.MaxPooling1D(5))\n",
    "model2.add(keras.layers.Conv1D(32, 7, activation='relu'))\n",
    "model2.add(keras.layers.GlobalMaxPooling1D())\n",
    "model2.add(keras.layers.Dense(16, activation='relu'))\n",
    "model2.add(keras.layers.Dense(1, activation='sigmoid'))  # 최종 출력은 긍정/부정을 나타내는 1dim 입니다.\n",
    "\n",
    "model2.summary()"
   ]
  },
  {
   "cell_type": "markdown",
   "id": "acade72d",
   "metadata": {},
   "source": [
    "### 1-D CNN 모델 훈련"
   ]
  },
  {
   "cell_type": "code",
   "execution_count": 15,
   "id": "823ee851",
   "metadata": {},
   "outputs": [
    {
     "name": "stdout",
     "output_type": "stream",
     "text": [
      "Epoch 1/5\n",
      "457/457 [==============================] - 5s 6ms/step - loss: 0.3985 - accuracy: 0.8120 - val_loss: 0.3272 - val_accuracy: 0.8586\n",
      "Epoch 2/5\n",
      "457/457 [==============================] - 3s 6ms/step - loss: 0.2672 - accuracy: 0.8902 - val_loss: 0.3275 - val_accuracy: 0.8580\n",
      "Epoch 3/5\n",
      "457/457 [==============================] - 3s 6ms/step - loss: 0.1717 - accuracy: 0.9356 - val_loss: 0.3800 - val_accuracy: 0.8522\n",
      "Epoch 4/5\n",
      "457/457 [==============================] - 3s 6ms/step - loss: 0.0936 - accuracy: 0.9674 - val_loss: 0.4707 - val_accuracy: 0.8456\n",
      "Epoch 5/5\n",
      "457/457 [==============================] - 3s 6ms/step - loss: 0.0585 - accuracy: 0.9811 - val_loss: 0.5578 - val_accuracy: 0.8474\n"
     ]
    }
   ],
   "source": [
    "# 학습 환경 설정\n",
    "model2.compile(optimizer='adam',\n",
    "              loss='binary_crossentropy',\n",
    "              metrics=['accuracy'])\n",
    "              \n",
    "epochs=5  # 몇 epoch를 훈련하면 좋을지 결과를 보면서 바꾸어 봅시다. \n",
    "\n",
    "# 모델 학습\n",
    "history = model2.fit(partial_X_train,\n",
    "                    partial_y_train,\n",
    "                    epochs=epochs,\n",
    "                    batch_size=256,\n",
    "                    validation_data=(x_valid, y_valid),\n",
    "                    verbose=1)"
   ]
  },
  {
   "cell_type": "markdown",
   "id": "e7c48560",
   "metadata": {},
   "source": [
    "### 그래프 시각화"
   ]
  },
  {
   "cell_type": "code",
   "execution_count": 16,
   "id": "d350a045",
   "metadata": {},
   "outputs": [
    {
     "name": "stdout",
     "output_type": "stream",
     "text": [
      "dict_keys(['loss', 'accuracy', 'val_loss', 'val_accuracy'])\n"
     ]
    },
    {
     "data": {
      "image/png": "[encoded data removed]",
      "text/plain": [
       "<Figure size 432x288 with 1 Axes>"
      ]
     },
     "metadata": {
      "needs_background": "light"
     },
     "output_type": "display_data"
    },
    {
     "data": {
      "image/png": "[encoded data removed]",
      "text/plain": [
       "<Figure size 432x288 with 1 Axes>"
      ]
     },
     "metadata": {
      "needs_background": "light"
     },
     "output_type": "display_data"
    }
   ],
   "source": [
    "history_dict = history.history\n",
    "print(history_dict.keys()) # epoch에 따른 그래프를 그려볼 수 있는 항목들\n",
    "\n",
    "acc = history_dict['accuracy']\n",
    "val_acc = history_dict['val_accuracy']\n",
    "loss = history_dict['loss']\n",
    "val_loss = history_dict['val_loss']\n",
    "\n",
    "epochs = range(1, len(acc) + 1)\n",
    "\n",
    "# \"bo\"는 \"파란색 점\"입니다\n",
    "plt.plot(epochs, loss, 'ro', label='Training loss')\n",
    "# b는 \"파란 실선\"입니다\n",
    "plt.plot(epochs, val_loss, 'r', label='Validation loss')\n",
    "plt.title('Training and validation loss')\n",
    "plt.xlabel('Epochs')\n",
    "plt.ylabel('Loss')\n",
    "plt.legend()\n",
    "\n",
    "plt.show()\n",
    "\n",
    "plt.clf()   # 그림을 초기화합니다\n",
    "\n",
    "plt.plot(epochs, acc, 'bo', label='Training acc')\n",
    "plt.plot(epochs, val_acc, 'b', label='Validation acc')\n",
    "plt.title('Training and validation accuracy')\n",
    "plt.xlabel('Epochs')\n",
    "plt.ylabel('Accuracy')\n",
    "plt.legend()\n",
    "\n",
    "plt.show()"
   ]
  },
  {
   "cell_type": "markdown",
   "id": "278fc0e2",
   "metadata": {},
   "source": [
    "### 테스트 평가"
   ]
  },
  {
   "cell_type": "code",
   "execution_count": 17,
   "id": "970fb89c",
   "metadata": {},
   "outputs": [
    {
     "name": "stdout",
     "output_type": "stream",
     "text": [
      "1537/1537 - 3s - loss: 0.5627 - accuracy: 0.8454\n",
      "[0.56266188621521, 0.8453933596611023]\n"
     ]
    }
   ],
   "source": [
    "results = model2.evaluate(X_test, y_test, verbose=2)\n",
    "\n",
    "print(results)"
   ]
  },
  {
   "cell_type": "markdown",
   "id": "5acffbb5",
   "metadata": {},
   "source": [
    "### GlobalMaxPooling1D() 모델"
   ]
  },
  {
   "cell_type": "code",
   "execution_count": 18,
   "id": "657362c3",
   "metadata": {},
   "outputs": [
    {
     "name": "stdout",
     "output_type": "stream",
     "text": [
      "Model: \"sequential_2\"\n",
      "_________________________________________________________________\n",
      "Layer (type)                 Output Shape              Param #   \n",
      "=================================================================\n",
      "embedding_2 (Embedding)      (None, None, 200)         2000000   \n",
      "_________________________________________________________________\n",
      "global_max_pooling1d_1 (Glob (None, 200)               0         \n",
      "_________________________________________________________________\n",
      "dense_4 (Dense)              (None, 16)                3216      \n",
      "_________________________________________________________________\n",
      "dense_5 (Dense)              (None, 1)                 17        \n",
      "=================================================================\n",
      "Total params: 2,003,233\n",
      "Trainable params: 2,003,233\n",
      "Non-trainable params: 0\n",
      "_________________________________________________________________\n"
     ]
    }
   ],
   "source": [
    "vocab_size = 10000  \n",
    "word_vector_dim = 200   \n",
    "\n",
    "model3 = keras.Sequential()\n",
    "model3.add(keras.layers.Embedding(vocab_size, word_vector_dim, input_shape=(None,)))\n",
    "model3.add(keras.layers.GlobalMaxPooling1D())\n",
    "model3.add(keras.layers.Dense(16, activation='relu'))\n",
    "model3.add(keras.layers.Dense(1, activation='sigmoid'))  # 최종 출력은 긍정/부정을 나타내는 1dim 입니다.\n",
    "\n",
    "model3.summary()"
   ]
  },
  {
   "cell_type": "markdown",
   "id": "af624a9d",
   "metadata": {},
   "source": [
    "### GlobalMaxPooling1D() 모델 훈련"
   ]
  },
  {
   "cell_type": "code",
   "execution_count": 19,
   "id": "31b434a5",
   "metadata": {},
   "outputs": [
    {
     "name": "stdout",
     "output_type": "stream",
     "text": [
      "Epoch 1/5\n",
      "457/457 [==============================] - 2s 4ms/step - loss: 0.4184 - accuracy: 0.8190 - val_loss: 0.3448 - val_accuracy: 0.8496\n",
      "Epoch 2/5\n",
      "457/457 [==============================] - 2s 4ms/step - loss: 0.2976 - accuracy: 0.8741 - val_loss: 0.3353 - val_accuracy: 0.8559\n",
      "Epoch 3/5\n",
      "457/457 [==============================] - 2s 4ms/step - loss: 0.2474 - accuracy: 0.9005 - val_loss: 0.3464 - val_accuracy: 0.8563\n",
      "Epoch 4/5\n",
      "457/457 [==============================] - 2s 4ms/step - loss: 0.2009 - accuracy: 0.9240 - val_loss: 0.3679 - val_accuracy: 0.8545\n",
      "Epoch 5/5\n",
      "457/457 [==============================] - 2s 4ms/step - loss: 0.1535 - accuracy: 0.9452 - val_loss: 0.4038 - val_accuracy: 0.8493\n"
     ]
    }
   ],
   "source": [
    "# 학습 환경 설정\n",
    "model3.compile(optimizer='adam',\n",
    "              loss='binary_crossentropy',\n",
    "              metrics=['accuracy'])\n",
    "              \n",
    "epochs=5  # 몇 epoch를 훈련하면 좋을지 결과를 보면서 바꾸어 봅시다. \n",
    "\n",
    "# 모델 학습\n",
    "history = model3.fit(partial_X_train,\n",
    "                    partial_y_train,\n",
    "                    epochs=epochs,\n",
    "                    batch_size=256,\n",
    "                    validation_data=(x_valid, y_valid),\n",
    "                    verbose=1)"
   ]
  },
  {
   "cell_type": "markdown",
   "id": "20ae2352",
   "metadata": {},
   "source": [
    "### 그래프 시각화"
   ]
  },
  {
   "cell_type": "code",
   "execution_count": 20,
   "id": "9076a017",
   "metadata": {},
   "outputs": [
    {
     "name": "stdout",
     "output_type": "stream",
     "text": [
      "dict_keys(['loss', 'accuracy', 'val_loss', 'val_accuracy'])\n"
     ]
    },
    {
     "data": {
      "image/png": "[encoded data removed]",
      "text/plain": [
       "<Figure size 432x288 with 1 Axes>"
      ]
     },
     "metadata": {
      "needs_background": "light"
     },
     "output_type": "display_data"
    },
    {
     "data": {
      "image/png": "[encoded data removed]",
      "text/plain": [
       "<Figure size 432x288 with 1 Axes>"
      ]
     },
     "metadata": {
      "needs_background": "light"
     },
     "output_type": "display_data"
    }
   ],
   "source": [
    "history_dict = history.history\n",
    "print(history_dict.keys()) # epoch에 따른 그래프를 그려볼 수 있는 항목들\n",
    "\n",
    "acc = history_dict['accuracy']\n",
    "val_acc = history_dict['val_accuracy']\n",
    "loss = history_dict['loss']\n",
    "val_loss = history_dict['val_loss']\n",
    "\n",
    "epochs = range(1, len(acc) + 1)\n",
    "\n",
    "# \"bo\"는 \"파란색 점\"입니다\n",
    "plt.plot(epochs, loss, 'ro', label='Training loss')\n",
    "# b는 \"파란 실선\"입니다\n",
    "plt.plot(epochs, val_loss, 'r', label='Validation loss')\n",
    "plt.title('Training and validation loss')\n",
    "plt.xlabel('Epochs')\n",
    "plt.ylabel('Loss')\n",
    "plt.legend()\n",
    "\n",
    "plt.show()\n",
    "\n",
    "plt.clf()   # 그림을 초기화합니다\n",
    "\n",
    "plt.plot(epochs, acc, 'bo', label='Training acc')\n",
    "plt.plot(epochs, val_acc, 'b', label='Validation acc')\n",
    "plt.title('Training and validation accuracy')\n",
    "plt.xlabel('Epochs')\n",
    "plt.ylabel('Accuracy')\n",
    "plt.legend()\n",
    "\n",
    "plt.show()"
   ]
  },
  {
   "cell_type": "markdown",
   "id": "b3539335",
   "metadata": {},
   "source": [
    "### 테스트 평가"
   ]
  },
  {
   "cell_type": "code",
   "execution_count": 21,
   "id": "3cb9ac3a",
   "metadata": {},
   "outputs": [
    {
     "name": "stdout",
     "output_type": "stream",
     "text": [
      "1537/1537 - 2s - loss: 0.4179 - accuracy: 0.8439\n",
      "[0.41794005036354065, 0.8439489603042603]\n"
     ]
    }
   ],
   "source": [
    "results = model3.evaluate(X_test, y_test, verbose=2)\n",
    "\n",
    "print(results)"
   ]
  },
  {
   "cell_type": "markdown",
   "id": "ab052bb2",
   "metadata": {},
   "source": [
    "## 학습된 Embedding 레이어 분석"
   ]
  },
  {
   "cell_type": "code",
   "execution_count": 22,
   "id": "bb5b3fbb",
   "metadata": {},
   "outputs": [
    {
     "data": {
      "text/plain": [
       "'3.8.3'"
      ]
     },
     "execution_count": 22,
     "metadata": {},
     "output_type": "execute_result"
    }
   ],
   "source": [
    "import gensim\n",
    "\n",
    "gensim.__version__"
   ]
  },
  {
   "cell_type": "code",
   "execution_count": 23,
   "id": "fd19fad0",
   "metadata": {},
   "outputs": [
    {
     "name": "stdout",
     "output_type": "stream",
     "text": [
      "(10000, 128)\n"
     ]
    }
   ],
   "source": [
    "embedding_layer = model.layers[0]\n",
    "weights = embedding_layer.get_weights()[0]\n",
    "print(weights.shape)    \n",
    "# (vocab_size, embedding_dim)"
   ]
  },
  {
   "cell_type": "code",
   "execution_count": 24,
   "id": "4e5f71d6",
   "metadata": {},
   "outputs": [],
   "source": [
    "import os\n",
    "from gensim import models     # gensim : 워드벡터를 다루는데 유용한 패키지\n",
    "\n",
    "# 학습한 Embedding 파라미터를 파일에 써서 저장합니다. \n",
    "word2vec_file_path = os.getenv('HOME') + '/aiffel/sentiment_classification/word2vec.txt'\n",
    "f = open(word2vec_file_path, 'w')\n",
    "f.write('{} {}\\n'.format(vocab_size-4, word_vector_dim))  # 몇개의 벡터를 얼마 사이즈로 기재할지 타이틀을 씁니다.\n",
    "\n",
    "# 단어 개수(에서 특수문자 4개는 제외하고)만큼의 워드 벡터를 파일에 기록합니다. \n",
    "vectors = model2.get_weights()[0]\n",
    "for i in range(4, vocab_size):\n",
    "    f.write('{} {}\\n'.format(index_to_word[i], ' '.join(map(str, list(vectors[i, :])))))\n",
    "f.close()"
   ]
  },
  {
   "cell_type": "code",
   "execution_count": 25,
   "id": "cd97a0f3",
   "metadata": {
    "scrolled": true
   },
   "outputs": [
    {
     "data": {
      "text/plain": [
       "array([ 0.00298243,  0.03629273,  0.07553025, -0.0256631 , -0.10245076,\n",
       "       -0.00024081,  0.02677947, -0.05570004, -0.03147957, -0.10485361,\n",
       "        0.03430258, -0.09504105,  0.04646764,  0.00960688,  0.0100025 ,\n",
       "        0.03331741, -0.00329086,  0.00997714,  0.03858838, -0.0180506 ,\n",
       "        0.0853744 , -0.12932716,  0.02288478,  0.02846933, -0.01234714,\n",
       "       -0.08489335,  0.04599746, -0.04173204,  0.06993158,  0.00599571,\n",
       "        0.03050537, -0.00818854,  0.02907939,  0.07376331,  0.08104419,\n",
       "       -0.0685163 ,  0.04238701,  0.02164599,  0.03197124,  0.07717489,\n",
       "       -0.06571599, -0.11724969, -0.09982794,  0.03416464, -0.02041588,\n",
       "       -0.07950258, -0.02181779,  0.03231262,  0.02225761, -0.03274778,\n",
       "       -0.00461151, -0.08794027,  0.07175048, -0.07931879,  0.06415883,\n",
       "       -0.00113903,  0.07840498,  0.00201071,  0.09725379,  0.01378213,\n",
       "       -0.07394913, -0.01681222,  0.08653425, -0.08448678, -0.12771103,\n",
       "        0.10973126, -0.07188851,  0.00783227,  0.06795713, -0.0925578 ,\n",
       "       -0.04303915, -0.00163173, -0.02606597, -0.02180066,  0.08037672,\n",
       "       -0.06578365, -0.01805061,  0.00643173, -0.03447161, -0.03752272,\n",
       "        0.09901717,  0.00596355, -0.01964413,  0.0274325 ,  0.09901766,\n",
       "        0.02887065,  0.05702423, -0.03923995,  0.09758651, -0.07247025,\n",
       "       -0.12344095,  0.0342668 , -0.0484721 , -0.10901181, -0.06192292,\n",
       "       -0.01742987,  0.09610473,  0.0145312 ,  0.09023523, -0.01419106,\n",
       "       -0.00907207,  0.00071499,  0.08301467,  0.03816309,  0.00275853,\n",
       "        0.00188484, -0.06186265, -0.04026488,  0.06310196,  0.04690234,\n",
       "       -0.03832684, -0.0193377 ,  0.00253807, -0.00705545,  0.05948441,\n",
       "        0.09669607,  0.02834294, -0.00688692,  0.07339077,  0.02178176,\n",
       "       -0.06100683, -0.02681908, -0.04451037, -0.08386604, -0.02528721,\n",
       "        0.07552958, -0.0211343 ,  0.00758025, -0.01155584, -0.06370959,\n",
       "       -0.06752017, -0.03226079,  0.0477539 , -0.08514302,  0.06444098,\n",
       "        0.10192975,  0.09063087, -0.00547851, -0.07039341, -0.01096372,\n",
       "       -0.09155815, -0.12052991,  0.00551589,  0.03740425, -0.10048939,\n",
       "       -0.09198774,  0.06339619,  0.06955495, -0.04744086, -0.11166964,\n",
       "        0.01234162, -0.00077911,  0.03576435, -0.04438747, -0.02714076,\n",
       "       -0.06140852,  0.13373806, -0.00552924, -0.03974722,  0.03592042,\n",
       "        0.0003709 ,  0.09162436, -0.00941824,  0.04283723, -0.0209135 ,\n",
       "        0.12558474,  0.02592557, -0.05332144, -0.08941228, -0.00429923,\n",
       "       -0.03160855, -0.05521153,  0.02225548,  0.09587766,  0.00638855,\n",
       "        0.00619757,  0.09119117, -0.04600037,  0.01923111,  0.02006599,\n",
       "        0.01772183, -0.07666975,  0.02610561, -0.0045842 , -0.01471349,\n",
       "        0.00293838,  0.00132117, -0.03064084,  0.08111057, -0.06932235,\n",
       "       -0.04756005,  0.07059156, -0.12257495,  0.02167984,  0.06576695,\n",
       "        0.08512044, -0.04350876,  0.09547213,  0.03660496,  0.06962285],\n",
       "      dtype=float32)"
      ]
     },
     "execution_count": 25,
     "metadata": {},
     "output_type": "execute_result"
    }
   ],
   "source": [
    "# 임베딩 파라미터를 읽어서 word vector로 활용\n",
    "from gensim.models.keyedvectors import Word2VecKeyedVectors\n",
    "\n",
    "word_vectors = Word2VecKeyedVectors.load_word2vec_format(word2vec_file_path, binary=False)\n",
    "vector = word_vectors['좋']\n",
    "vector"
   ]
  },
  {
   "cell_type": "code",
   "execution_count": 26,
   "id": "41450cd1",
   "metadata": {},
   "outputs": [
    {
     "data": {
      "text/plain": [
       "[('나타낸', 0.6359171867370605),\n",
       " ('재발견', 0.60007643699646),\n",
       " ('완소', 0.5974013805389404),\n",
       " ('압도', 0.58885657787323),\n",
       " ('놀라웠', 0.5876014232635498),\n",
       " ('씁시다', 0.5866413116455078),\n",
       " ('디테일', 0.584139347076416),\n",
       " ('즐거웠', 0.5810163021087646),\n",
       " ('섬세', 0.5796032547950745),\n",
       " ('훈', 0.5776602029800415)]"
      ]
     },
     "execution_count": 26,
     "metadata": {},
     "output_type": "execute_result"
    }
   ],
   "source": [
    "word_vectors.similar_by_word(\"좋\")\n",
    "# 별로 유사하지 않음\n",
    "# 학습이 잘 되지 않음"
   ]
  },
  {
   "cell_type": "markdown",
   "id": "131a30b7",
   "metadata": {},
   "source": [
    "## 한국어 Word2Vec 임베딩 활용하여 성능 개선"
   ]
  },
  {
   "cell_type": "markdown",
   "id": "1d1699cd",
   "metadata": {},
   "source": [
    "### 임베딩 모델(ko.bin)을 활용한 전이학습"
   ]
  },
  {
   "cell_type": "code",
   "execution_count": 27,
   "id": "dc9c0d41",
   "metadata": {},
   "outputs": [
    {
     "name": "stderr",
     "output_type": "stream",
     "text": [
      "/tmp/ipykernel_861/1025019223.py:5: DeprecationWarning: Call to deprecated `__getitem__` (Method will be removed in 4.0.0, use self.wv.__getitem__() instead).\n",
      "  vector = word2vec['영화']\n"
     ]
    },
    {
     "data": {
      "text/plain": [
       "(200,)"
      ]
     },
     "execution_count": 27,
     "metadata": {},
     "output_type": "execute_result"
    }
   ],
   "source": [
    "from gensim.models import KeyedVectors\n",
    "\n",
    "word2vec_path = os.getenv('HOME')+'/aiffel/sentiment_classification/data/ko.bin'\n",
    "word2vec = gensim.models.Word2Vec.load(word2vec_path)\n",
    "vector = word2vec['영화']\n",
    "vector.shape"
   ]
  },
  {
   "cell_type": "code",
   "execution_count": 28,
   "id": "2291e380",
   "metadata": {
    "scrolled": true
   },
   "outputs": [
    {
     "data": {
      "text/plain": [
       "[('취미', 0.5857348442077637),\n",
       " ('유머', 0.5140613913536072),\n",
       " ('매력', 0.5105490684509277),\n",
       " ('흥미', 0.4988338351249695),\n",
       " ('공짜', 0.4960595667362213),\n",
       " ('일자리', 0.49294644594192505),\n",
       " ('즐거움', 0.48700767755508423),\n",
       " ('비애', 0.4836210310459137),\n",
       " ('관객', 0.48286449909210205),\n",
       " ('향수', 0.4823310971260071)]"
      ]
     },
     "execution_count": 28,
     "metadata": {},
     "output_type": "execute_result"
    }
   ],
   "source": [
    "# 유사한 단어와 그 유사도 확인\n",
    "word2vec.wv.most_similar(\"재미\")  # 학습이 잘 되어 유사함"
   ]
  },
  {
   "cell_type": "markdown",
   "id": "bbf2311c",
   "metadata": {},
   "source": [
    "### 임베딩 메트릭스"
   ]
  },
  {
   "cell_type": "code",
   "execution_count": 29,
   "id": "d14a1d7d",
   "metadata": {},
   "outputs": [
    {
     "name": "stderr",
     "output_type": "stream",
     "text": [
      "/tmp/ipykernel_861/1410859879.py:10: DeprecationWarning: Call to deprecated `__contains__` (Method will be removed in 4.0.0, use self.wv.__contains__() instead).\n",
      "  if index_to_word[i] in word2vec:\n",
      "/tmp/ipykernel_861/1410859879.py:11: DeprecationWarning: Call to deprecated `__getitem__` (Method will be removed in 4.0.0, use self.wv.__getitem__() instead).\n",
      "  embedding_matrix[i] = word2vec[index_to_word[i]]\n"
     ]
    }
   ],
   "source": [
    "from tensorflow.keras.initializers import Constant\n",
    "\n",
    "vocab_size = 10000     # 어휘 사전의 크기(10,000개의 단어)\n",
    "word_vector_dim = 200  # 워드 벡터의 차원수 (변경가능한 하이퍼파라미터)\n",
    "\n",
    "embedding_matrix = np.random.rand(vocab_size, word_vector_dim)\n",
    "\n",
    "# embedding_matrix에 Word2Vec 워드벡터를 단어 하나씩 차례대로 카피\n",
    "for i in range(4,vocab_size):\n",
    "    if index_to_word[i] in word2vec:\n",
    "        embedding_matrix[i] = word2vec[index_to_word[i]]"
   ]
  },
  {
   "cell_type": "markdown",
   "id": "454d6173",
   "metadata": {},
   "source": [
    "### 학습된 Word2Vec 모델 사용"
   ]
  },
  {
   "cell_type": "code",
   "execution_count": 30,
   "id": "67d69914",
   "metadata": {
    "scrolled": false
   },
   "outputs": [
    {
     "name": "stdout",
     "output_type": "stream",
     "text": [
      "Model: \"sequential_3\"\n",
      "_________________________________________________________________\n",
      "Layer (type)                 Output Shape              Param #   \n",
      "=================================================================\n",
      "embedding_3 (Embedding)      (None, 41, 200)           2000000   \n",
      "_________________________________________________________________\n",
      "lstm_1 (LSTM)                (None, 128)               168448    \n",
      "_________________________________________________________________\n",
      "dense_6 (Dense)              (None, 1)                 129       \n",
      "=================================================================\n",
      "Total params: 2,168,577\n",
      "Trainable params: 2,168,577\n",
      "Non-trainable params: 0\n",
      "_________________________________________________________________\n"
     ]
    }
   ],
   "source": [
    "# 모델 구성\n",
    "model = keras.Sequential()\n",
    "model.add(keras.layers.Embedding(vocab_size, \n",
    "                                 word_vector_dim, \n",
    "                                 embeddings_initializer=Constant(embedding_matrix),  # 카피한 임베딩을 여기서 활용\n",
    "                                 input_length=maxlen, \n",
    "                                 trainable=True))   # trainable을 True로 주면 Fine-tuning\n",
    "model.add(keras.layers.LSTM(128))\n",
    "model.add(keras.layers.Dense(1, activation='sigmoid'))\n",
    "\n",
    "model.summary()"
   ]
  },
  {
   "cell_type": "markdown",
   "id": "0861d352",
   "metadata": {},
   "source": [
    "### 모델 훈련"
   ]
  },
  {
   "cell_type": "code",
   "execution_count": 31,
   "id": "72ce805c",
   "metadata": {},
   "outputs": [
    {
     "name": "stdout",
     "output_type": "stream",
     "text": [
      "Epoch 1/5\n",
      "1828/1828 [==============================] - 13s 6ms/step - loss: 0.3877 - accuracy: 0.8222 - val_loss: 0.3250 - val_accuracy: 0.8604\n",
      "Epoch 2/5\n",
      "1828/1828 [==============================] - 11s 6ms/step - loss: 0.2892 - accuracy: 0.8786 - val_loss: 0.3099 - val_accuracy: 0.8688\n",
      "Epoch 3/5\n",
      "1828/1828 [==============================] - 11s 6ms/step - loss: 0.2439 - accuracy: 0.8997 - val_loss: 0.3123 - val_accuracy: 0.8710\n",
      "Epoch 4/5\n",
      "1828/1828 [==============================] - 11s 6ms/step - loss: 0.2018 - accuracy: 0.9188 - val_loss: 0.3238 - val_accuracy: 0.8678\n",
      "Epoch 5/5\n",
      "1828/1828 [==============================] - 11s 6ms/step - loss: 0.1579 - accuracy: 0.9388 - val_loss: 0.3671 - val_accuracy: 0.8665\n"
     ]
    }
   ],
   "source": [
    "# 학습 진행\n",
    "model.compile(optimizer='adam',\n",
    "              loss='binary_crossentropy',\n",
    "              metrics=['accuracy'])\n",
    "              \n",
    "epochs=5  # 몇 epoch를 훈련하면 좋을지 결과를 보면서 바꾸어 봅시다. \n",
    "\n",
    "history = model.fit(partial_X_train,\n",
    "                    partial_y_train,\n",
    "                    epochs=epochs,\n",
    "                    batch_size=64,\n",
    "                    validation_data=(x_valid, y_valid),\n",
    "                    verbose=1)"
   ]
  },
  {
   "cell_type": "code",
   "execution_count": 32,
   "id": "1cec5d3c",
   "metadata": {},
   "outputs": [],
   "source": [
    "### Loss, Accuracy 그래프 시각화"
   ]
  },
  {
   "cell_type": "code",
   "execution_count": 33,
   "id": "fc6c5178",
   "metadata": {},
   "outputs": [
    {
     "name": "stdout",
     "output_type": "stream",
     "text": [
      "dict_keys(['loss', 'accuracy', 'val_loss', 'val_accuracy'])\n"
     ]
    },
    {
     "data": {
      "image/png": "[encoded data removed]",
      "text/plain": [
       "<Figure size 432x288 with 1 Axes>"
      ]
     },
     "metadata": {
      "needs_background": "light"
     },
     "output_type": "display_data"
    },
    {
     "data": {
      "image/png": "[encoded data removed]",
      "text/plain": [
       "<Figure size 432x288 with 1 Axes>"
      ]
     },
     "metadata": {
      "needs_background": "light"
     },
     "output_type": "display_data"
    }
   ],
   "source": [
    "history_dict = history.history\n",
    "print(history_dict.keys()) # epoch에 따른 그래프를 그려볼 수 있는 항목들\n",
    "\n",
    "acc = history_dict['accuracy']\n",
    "val_acc = history_dict['val_accuracy']\n",
    "loss = history_dict['loss']\n",
    "val_loss = history_dict['val_loss']\n",
    "\n",
    "epochs = range(1, len(acc) + 1)\n",
    "\n",
    "# \"bo\"는 \"파란색 점\"입니다\n",
    "plt.plot(epochs, loss, 'ro', label='Training loss')\n",
    "# b는 \"파란 실선\"입니다\n",
    "plt.plot(epochs, val_loss, 'r', label='Validation loss')\n",
    "plt.title('Training and validation loss')\n",
    "plt.xlabel('Epochs')\n",
    "plt.ylabel('Loss')\n",
    "plt.legend()\n",
    "\n",
    "plt.show()\n",
    "\n",
    "plt.clf()   # 그림을 초기화합니다\n",
    "\n",
    "plt.plot(epochs, acc, 'bo', label='Training acc')\n",
    "plt.plot(epochs, val_acc, 'b', label='Validation acc')\n",
    "plt.title('Training and validation accuracy')\n",
    "plt.xlabel('Epochs')\n",
    "plt.ylabel('Accuracy')\n",
    "plt.legend()\n",
    "\n",
    "plt.show()"
   ]
  },
  {
   "cell_type": "markdown",
   "id": "f3b8b0d2",
   "metadata": {},
   "source": [
    "### 모델 평가"
   ]
  },
  {
   "cell_type": "code",
   "execution_count": 34,
   "id": "15c88c7a",
   "metadata": {},
   "outputs": [
    {
     "name": "stdout",
     "output_type": "stream",
     "text": [
      "1537/1537 - 3s - loss: 0.3752 - accuracy: 0.8600\n",
      "[0.3751676380634308, 0.8599792718887329]\n"
     ]
    }
   ],
   "source": [
    "results = model.evaluate(X_test,  y_test, verbose=2)\n",
    "print(results)   # 정확도가 0.85으로 개선됨"
   ]
  },
  {
   "cell_type": "markdown",
   "id": "22890a58",
   "metadata": {},
   "source": [
    "# 회고"
   ]
  },
  {
   "cell_type": "markdown",
   "id": "55aa2bcc",
   "metadata": {},
   "source": [
    "## 이번 프로젝트에서 어려웠던 점"
   ]
  },
  {
   "cell_type": "markdown",
   "id": "293adb31",
   "metadata": {},
   "source": [
    "### 이번 프로젝트는 혼자서 코드를 짜야하는 부분들이 너무 많았다. 그래서 구글링도 많이 했지만 이 전에 내가 썼던 코드와는 달라서 Error 뜨는 것들을 처리하는 부분에서 시간이 많이 걸리고, 버전 바꾸는 방법도 너무 어려웠다. word2vec 파일 찾는 것도 어려웠지만 불러오는 것에서도 처음보는 에러가 뜨는 걸로도 모자라 단어를 찾을 수 없다는 것을 보고 한숨이 절로 나왔습니다. epoch 값을 올리면 오버피팅이 되어서 이 문제를 해결하기 위해 조금 더 공부를 해봐야겠다는 생각을 했다"
   ]
  },
  {
   "cell_type": "markdown",
   "id": "c8aac731",
   "metadata": {},
   "source": [
    "## 프로젝트를 진행하면서 알아내거나 모호한 점"
   ]
  },
  {
   "cell_type": "markdown",
   "id": "d3f6518e",
   "metadata": {},
   "source": [
    "### 버전을 바꾸는 방법이 여러가지가 있는데 클라우드 셀에서 하는 법 말고도 주피터 노트북에서도 할 수 있는 것을 알았습니다. 언어별로 word2vec 임베딩을 활용할 수 있는 것도 알아냈습니다. "
   ]
  },
  {
   "cell_type": "markdown",
   "id": "de3da7af",
   "metadata": {},
   "source": [
    "## 루브릭 평가 지표에 맞추기 위해 시도한 것"
   ]
  },
  {
   "cell_type": "markdown",
   "id": "c66c7a77",
   "metadata": {},
   "source": [
    "### 버전 바꾸는 법을 몰라서 함께 공부하는 분들께 도움을 요청해보기도 했습니다. epoch 값을 올리면 오버피팅이 되어서 epoch 값을 낮추고 지표를 맞췄습니다."
   ]
  },
  {
   "cell_type": "markdown",
   "id": "bb8ac4fd",
   "metadata": {},
   "source": [
    "## 자기다짐"
   ]
  },
  {
   "cell_type": "markdown",
   "id": "3f030bd3",
   "metadata": {},
   "source": [
    "### 오버피팅이 되지 않기 위해 어떻게 해야하는지도 공부하고, 어떤 모델들이 있고 그 모델 구성은 어떻게 하는지에 대해 조금 더 공부해야겠다. 데이터를 어디서 가져와서 어떻게 쓰이고 어떤식으로 불러오는지도 알아봐야겠다."
   ]
  }
 ],
 "metadata": {
  "kernelspec": {
   "display_name": "Python 3 (ipykernel)",
   "language": "python",
   "name": "python3"
  },
  "language_info": {
   "codemirror_mode": {
    "name": "ipython",
    "version": 3
   },
   "file_extension": ".py",
   "mimetype": "text/x-python",
   "name": "python",
   "nbconvert_exporter": "python",
   "pygments_lexer": "ipython3",
   "version": "3.9.7"
  }
 },
 "nbformat": 4,
 "nbformat_minor": 5
}
