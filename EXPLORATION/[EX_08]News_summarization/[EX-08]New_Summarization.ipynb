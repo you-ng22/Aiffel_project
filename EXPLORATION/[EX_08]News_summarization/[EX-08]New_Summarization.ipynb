{
 "cells": [
  {
   "cell_type": "markdown",
   "id": "2b303776",
   "metadata": {},
   "source": [
    "# 뉴스 요약봇 만들기"
   ]
  },
  {
   "cell_type": "markdown",
   "id": "7ae9d51b",
   "metadata": {},
   "source": [
    "### 텍스트 요약"
   ]
  },
  {
   "cell_type": "markdown",
   "id": "d8916a2a",
   "metadata": {},
   "source": [
    "텍스트 요약(Text Summarization)\n",
    " \n",
    " 위 그림과 같이 긴 길이의 문서(Document) 원문을 핵심 주제만으로 구성된 짧은 요약(Summary) 문장들로 변환하는 것\n",
    "\n",
    "-추출적 요약(Extractive Summarization)\n",
    " \n",
    " 단어 그대로 원문에서 문장들을 추출해서 요약하는 방식\n",
    "\n",
    "-추상적 요약(Abstractive Summarization)\n",
    "\n",
    " 추출적 요약보다 좀 더 흥미로운 접근을 사용합니다. 원문으로부터 내용이 요약된 새로운 문장을 생성해내는 것"
   ]
  },
  {
   "cell_type": "markdown",
   "id": "0b450456",
   "metadata": {},
   "source": [
    "### 인공 신경망으로 텍스트 요약 훈련시키기"
   ]
  },
  {
   "cell_type": "markdown",
   "id": "a9dee6e5",
   "metadata": {},
   "source": [
    "#### seq2seq\n",
    "\n",
    "두 개의 RNN 아키텍처를 사용하여 입력 시퀀스로부터 출력 시퀀스를 생성해 내는 자연어 생성 모델\n",
    "\n",
    "#### LSTM과 컨텍스트 \n",
    "\n",
    "LSTM이 바닐라 RNN과 다른 점은 다음 time step의 셀에 hidden state뿐만 아니라, cell state도 함께 전달한다는 점\n",
    "\n",
    "인코더가 디코더에 전달하는 컨텍스트 벡터 또한 hidden state와 cell state 두 개의 값 모두 존재해야 함\n",
    "\n",
    "#### LSTM과 컨텍스트 \n",
    "\n",
    "인코더의 모든 step의 hidden state의 정보가 컨텍스트 벡터에 전부 반영되도록 하는 것\n",
    "\n",
    "디코더의 현재 time step의 예측에 인코더의 각 step이 얼마나 영향을 미치는지에 따른 가중합으로 계산되는 방식\n",
    "\n",
    "- 컨텍스트 벡터를 구성하기 위한 인코더 hidden state의 가중치 값은 디코더의 현재 스텝이 어디냐에 따라 계속 달라진다\n",
    "\n",
    "- 기본적인 seq2seq 모델에서 컨텍스트 벡터는 디코더의 현재 스텝 위치에 무관하게 한번 계산되면 고정값을 가집니다"
   ]
  },
  {
   "cell_type": "markdown",
   "id": "0d5417d2",
   "metadata": {},
   "source": [
    "## 데이터 준비"
   ]
  },
  {
   "cell_type": "code",
   "execution_count": 1,
   "id": "777cd1a2",
   "metadata": {},
   "outputs": [
    {
     "name": "stderr",
     "output_type": "stream",
     "text": [
      "[nltk_data] Downloading package stopwords to /aiffel/nltk_data...\n",
      "[nltk_data]   Unzipping corpora/stopwords.zip.\n"
     ]
    },
    {
     "name": "stdout",
     "output_type": "stream",
     "text": [
      "=3\n"
     ]
    }
   ],
   "source": [
    "# NLTK 패키지에서 불용어 사전을 다운로드\n",
    "# 데이터 전처리를 위한 나머지 패키지\n",
    "import nltk\n",
    "nltk.download('stopwords')\n",
    "\n",
    "import numpy as np\n",
    "import pandas as pd\n",
    "import os\n",
    "import re\n",
    "import matplotlib.pyplot as plt\n",
    "from nltk.corpus import stopwords\n",
    "from bs4 import BeautifulSoup \n",
    "from tensorflow.keras.preprocessing.text import Tokenizer \n",
    "from tensorflow.keras.preprocessing.sequence import pad_sequences\n",
    "import urllib.request\n",
    "import warnings\n",
    "warnings.filterwarnings(\"ignore\", category=UserWarning, module='bs4')\n",
    "\n",
    "print('=3')"
   ]
  },
  {
   "cell_type": "code",
   "execution_count": 2,
   "id": "3958da9f",
   "metadata": {},
   "outputs": [],
   "source": [
    "urllib.request.urlretrieve(\"https://raw.githubusercontent.com/sunnysai12345/News_Summary/master/news_summary_more.csv\", filename=\"news_summary_more.csv\")\n",
    "data = pd.read_csv('news_summary_more.csv', encoding='iso-8859-1')"
   ]
  },
  {
   "cell_type": "code",
   "execution_count": 3,
   "id": "82d62012",
   "metadata": {},
   "outputs": [
    {
     "data": {
      "text/html": [
       "<div>\n",
       "<style scoped>\n",
       "    .dataframe tbody tr th:only-of-type {\n",
       "        vertical-align: middle;\n",
       "    }\n",
       "\n",
       "    .dataframe tbody tr th {\n",
       "        vertical-align: top;\n",
       "    }\n",
       "\n",
       "    .dataframe thead th {\n",
       "        text-align: right;\n",
       "    }\n",
       "</style>\n",
       "<table border=\"1\" class=\"dataframe\">\n",
       "  <thead>\n",
       "    <tr style=\"text-align: right;\">\n",
       "      <th></th>\n",
       "      <th>headlines</th>\n",
       "      <th>text</th>\n",
       "    </tr>\n",
       "  </thead>\n",
       "  <tbody>\n",
       "    <tr>\n",
       "      <th>11896</th>\n",
       "      <td>Ireland votes to overturn constitutional ban o...</td>\n",
       "      <td>In a referendum held on Friday, Ireland voted ...</td>\n",
       "    </tr>\n",
       "    <tr>\n",
       "      <th>60984</th>\n",
       "      <td>Pop-up sushi bar for dogs 'Poochi Sushi' to co...</td>\n",
       "      <td>A pop-up sushi bar for dogs will come up for a...</td>\n",
       "    </tr>\n",
       "    <tr>\n",
       "      <th>43809</th>\n",
       "      <td>Cab driver given 10-year jail term for raping ...</td>\n",
       "      <td>A sessions court on Tuesday sentenced a cab dr...</td>\n",
       "    </tr>\n",
       "    <tr>\n",
       "      <th>35628</th>\n",
       "      <td>US struck Syria when it had chance for peace: ...</td>\n",
       "      <td>The US struck Syria \"just at the moment when [...</td>\n",
       "    </tr>\n",
       "    <tr>\n",
       "      <th>78523</th>\n",
       "      <td>IAF to showcase attack helicopter Rudra in R-D...</td>\n",
       "      <td>Indian Air Force will showcase the indigenousl...</td>\n",
       "    </tr>\n",
       "    <tr>\n",
       "      <th>88373</th>\n",
       "      <td>Irrfan Khan's 'Hindi Medium' hits the theatres</td>\n",
       "      <td>The Irrfan Khan and Saba Qamar starrer film 'H...</td>\n",
       "    </tr>\n",
       "    <tr>\n",
       "      <th>42884</th>\n",
       "      <td>Travis invests $150 mn in real estate firm, wi...</td>\n",
       "      <td>Uber Co-founder Travis Kalanick has announced ...</td>\n",
       "    </tr>\n",
       "    <tr>\n",
       "      <th>38629</th>\n",
       "      <td>Uber driver asks lesbian couple to get out of ...</td>\n",
       "      <td>A video shows an Uber driver asking a lesbian ...</td>\n",
       "    </tr>\n",
       "    <tr>\n",
       "      <th>84600</th>\n",
       "      <td>Forget group win over Pak: Kohli warns team be...</td>\n",
       "      <td>Ahead of the Champions Trophy 2017 final clash...</td>\n",
       "    </tr>\n",
       "    <tr>\n",
       "      <th>76788</th>\n",
       "      <td>Police complaint over Bigg Boss contestant's s...</td>\n",
       "      <td>A Chennai based lawyer has lodged a complaint ...</td>\n",
       "    </tr>\n",
       "  </tbody>\n",
       "</table>\n",
       "</div>"
      ],
      "text/plain": [
       "                                               headlines  \\\n",
       "11896  Ireland votes to overturn constitutional ban o...   \n",
       "60984  Pop-up sushi bar for dogs 'Poochi Sushi' to co...   \n",
       "43809  Cab driver given 10-year jail term for raping ...   \n",
       "35628  US struck Syria when it had chance for peace: ...   \n",
       "78523  IAF to showcase attack helicopter Rudra in R-D...   \n",
       "88373    Irrfan Khan's 'Hindi Medium' hits the theatres    \n",
       "42884  Travis invests $150 mn in real estate firm, wi...   \n",
       "38629  Uber driver asks lesbian couple to get out of ...   \n",
       "84600  Forget group win over Pak: Kohli warns team be...   \n",
       "76788  Police complaint over Bigg Boss contestant's s...   \n",
       "\n",
       "                                                    text  \n",
       "11896  In a referendum held on Friday, Ireland voted ...  \n",
       "60984  A pop-up sushi bar for dogs will come up for a...  \n",
       "43809  A sessions court on Tuesday sentenced a cab dr...  \n",
       "35628  The US struck Syria \"just at the moment when [...  \n",
       "78523  Indian Air Force will showcase the indigenousl...  \n",
       "88373  The Irrfan Khan and Saba Qamar starrer film 'H...  \n",
       "42884  Uber Co-founder Travis Kalanick has announced ...  \n",
       "38629  A video shows an Uber driver asking a lesbian ...  \n",
       "84600  Ahead of the Champions Trophy 2017 final clash...  \n",
       "76788  A Chennai based lawyer has lodged a complaint ...  "
      ]
     },
     "execution_count": 3,
     "metadata": {},
     "output_type": "execute_result"
    }
   ],
   "source": [
    "data.sample(10)"
   ]
  },
  {
   "cell_type": "markdown",
   "id": "2d142c5f",
   "metadata": {},
   "source": [
    "#### Headlines 열과 Text 열만 훈련에 사용"
   ]
  },
  {
   "cell_type": "code",
   "execution_count": 4,
   "id": "b6e085de",
   "metadata": {},
   "outputs": [
    {
     "data": {
      "text/html": [
       "<div>\n",
       "<style scoped>\n",
       "    .dataframe tbody tr th:only-of-type {\n",
       "        vertical-align: middle;\n",
       "    }\n",
       "\n",
       "    .dataframe tbody tr th {\n",
       "        vertical-align: top;\n",
       "    }\n",
       "\n",
       "    .dataframe thead th {\n",
       "        text-align: right;\n",
       "    }\n",
       "</style>\n",
       "<table border=\"1\" class=\"dataframe\">\n",
       "  <thead>\n",
       "    <tr style=\"text-align: right;\">\n",
       "      <th></th>\n",
       "      <th>text</th>\n",
       "      <th>headlines</th>\n",
       "    </tr>\n",
       "  </thead>\n",
       "  <tbody>\n",
       "    <tr>\n",
       "      <th>63938</th>\n",
       "      <td>The Trivandrum International Airport in Thiruv...</td>\n",
       "      <td>Kerala airport to halt flights for centuries-o...</td>\n",
       "    </tr>\n",
       "    <tr>\n",
       "      <th>78934</th>\n",
       "      <td>President Ram Nath Kovind gave his acceptance ...</td>\n",
       "      <td>Privileged to walk on same path as Kalam, Pran...</td>\n",
       "    </tr>\n",
       "    <tr>\n",
       "      <th>78705</th>\n",
       "      <td>The benchmark index NSE Nifty closed above the...</td>\n",
       "      <td>Nifty closes above 10,000 for the first time ever</td>\n",
       "    </tr>\n",
       "    <tr>\n",
       "      <th>75370</th>\n",
       "      <td>Premier League club Tottenham handed Kyle Walk...</td>\n",
       "      <td>Namesake replaces player in team, wins award o...</td>\n",
       "    </tr>\n",
       "    <tr>\n",
       "      <th>13859</th>\n",
       "      <td>A nine-year-old Noida girl who suffered from c...</td>\n",
       "      <td>9-year-old denied treatment over Aadhaar, Nadd...</td>\n",
       "    </tr>\n",
       "    <tr>\n",
       "      <th>11171</th>\n",
       "      <td>Addressing BJP workers on Saturday, Prime Mini...</td>\n",
       "      <td>Kuch neta AK-47 ki tarah dhar dhar jhoot bolte...</td>\n",
       "    </tr>\n",
       "    <tr>\n",
       "      <th>92383</th>\n",
       "      <td>Author Taslima Nasreen has said Indian Penal C...</td>\n",
       "      <td>Section 295A of IPC should be abolished: Tasli...</td>\n",
       "    </tr>\n",
       "    <tr>\n",
       "      <th>38202</th>\n",
       "      <td>Two Stanford researchers have trained an AI en...</td>\n",
       "      <td>Stanford students train AI bot to make memes</td>\n",
       "    </tr>\n",
       "    <tr>\n",
       "      <th>52141</th>\n",
       "      <td>A 13-year-old girl, who was allegedly gangrape...</td>\n",
       "      <td>Rape victim's medical test delayed over absenc...</td>\n",
       "    </tr>\n",
       "    <tr>\n",
       "      <th>25597</th>\n",
       "      <td>Microsoft is updating Skype to include a built...</td>\n",
       "      <td>Skype to get call recording feature 15 years a...</td>\n",
       "    </tr>\n",
       "    <tr>\n",
       "      <th>96755</th>\n",
       "      <td>During a meeting with French presidential cand...</td>\n",
       "      <td>Russia has no plans to meddle in French electi...</td>\n",
       "    </tr>\n",
       "    <tr>\n",
       "      <th>39256</th>\n",
       "      <td>After the retirement of senior Congress leader...</td>\n",
       "      <td>Cong gives RS seat to ex-ally, party MLAs call...</td>\n",
       "    </tr>\n",
       "    <tr>\n",
       "      <th>41975</th>\n",
       "      <td>Mumbai-based startup Gegadyne is developing an...</td>\n",
       "      <td>Firm making batteries that run 50 times longer...</td>\n",
       "    </tr>\n",
       "    <tr>\n",
       "      <th>1766</th>\n",
       "      <td>A Mumbai police official on Thursday said that...</td>\n",
       "      <td>Canadian woman allegedly molested at 5-star ho...</td>\n",
       "    </tr>\n",
       "    <tr>\n",
       "      <th>22800</th>\n",
       "      <td>Chief Election Commissioner OP Rawat on Sunday...</td>\n",
       "      <td>VVPATs don't click pictures, don't fall for ho...</td>\n",
       "    </tr>\n",
       "  </tbody>\n",
       "</table>\n",
       "</div>"
      ],
      "text/plain": [
       "                                                    text  \\\n",
       "63938  The Trivandrum International Airport in Thiruv...   \n",
       "78934  President Ram Nath Kovind gave his acceptance ...   \n",
       "78705  The benchmark index NSE Nifty closed above the...   \n",
       "75370  Premier League club Tottenham handed Kyle Walk...   \n",
       "13859  A nine-year-old Noida girl who suffered from c...   \n",
       "11171  Addressing BJP workers on Saturday, Prime Mini...   \n",
       "92383  Author Taslima Nasreen has said Indian Penal C...   \n",
       "38202  Two Stanford researchers have trained an AI en...   \n",
       "52141  A 13-year-old girl, who was allegedly gangrape...   \n",
       "25597  Microsoft is updating Skype to include a built...   \n",
       "96755  During a meeting with French presidential cand...   \n",
       "39256  After the retirement of senior Congress leader...   \n",
       "41975  Mumbai-based startup Gegadyne is developing an...   \n",
       "1766   A Mumbai police official on Thursday said that...   \n",
       "22800  Chief Election Commissioner OP Rawat on Sunday...   \n",
       "\n",
       "                                               headlines  \n",
       "63938  Kerala airport to halt flights for centuries-o...  \n",
       "78934  Privileged to walk on same path as Kalam, Pran...  \n",
       "78705  Nifty closes above 10,000 for the first time ever  \n",
       "75370  Namesake replaces player in team, wins award o...  \n",
       "13859  9-year-old denied treatment over Aadhaar, Nadd...  \n",
       "11171  Kuch neta AK-47 ki tarah dhar dhar jhoot bolte...  \n",
       "92383  Section 295A of IPC should be abolished: Tasli...  \n",
       "38202       Stanford students train AI bot to make memes  \n",
       "52141  Rape victim's medical test delayed over absenc...  \n",
       "25597  Skype to get call recording feature 15 years a...  \n",
       "96755  Russia has no plans to meddle in French electi...  \n",
       "39256  Cong gives RS seat to ex-ally, party MLAs call...  \n",
       "41975  Firm making batteries that run 50 times longer...  \n",
       "1766   Canadian woman allegedly molested at 5-star ho...  \n",
       "22800  VVPATs don't click pictures, don't fall for ho...  "
      ]
     },
     "execution_count": 4,
     "metadata": {},
     "output_type": "execute_result"
    }
   ],
   "source": [
    "data = data[['text','headlines']]\n",
    "data.head()\n",
    "\n",
    "#랜덤한 15개 샘플 출력\n",
    "data.sample(15)"
   ]
  },
  {
   "cell_type": "markdown",
   "id": "3e40a8d4",
   "metadata": {},
   "source": [
    "## 데이터 전처리하기\n",
    "\n",
    "### 데이터 정리"
   ]
  },
  {
   "cell_type": "markdown",
   "id": "53c764a3",
   "metadata": {},
   "source": [
    "### 중복 샘플과 NULL 값이 존재하는 샘플 제거\n",
    "\n",
    "중복 샘플 유무 확인"
   ]
  },
  {
   "cell_type": "code",
   "execution_count": 5,
   "id": "161b61af",
   "metadata": {},
   "outputs": [
    {
     "name": "stdout",
     "output_type": "stream",
     "text": [
      "Text 열에서 중복을 배제한 유일한 샘플의 수 : 98360\n",
      "headlines 열에서 중복을 배제한 유일한 샘플의 수 : 98280\n"
     ]
    }
   ],
   "source": [
    "print('Text 열에서 중복을 배제한 유일한 샘플의 수 :', data['text'].nunique())\n",
    "print('headlines 열에서 중복을 배제한 유일한 샘플의 수 :', data['headlines'].nunique())"
   ]
  },
  {
   "cell_type": "code",
   "execution_count": 6,
   "id": "77bbcb3f",
   "metadata": {},
   "outputs": [
    {
     "name": "stdout",
     "output_type": "stream",
     "text": [
      "전체 샘플수 : 98360\n"
     ]
    }
   ],
   "source": [
    "# inplace=True 를 설정하면 DataFrame 타입 값을 return 하지 않고 data 내부를 직접적으로 바꿉니다\n",
    "data.drop_duplicates(subset = ['text'], inplace=True)\n",
    "print('전체 샘플수 :', (len(data)))"
   ]
  },
  {
   "cell_type": "code",
   "execution_count": 7,
   "id": "e94663a1",
   "metadata": {},
   "outputs": [
    {
     "name": "stdout",
     "output_type": "stream",
     "text": [
      "text         0\n",
      "headlines    0\n",
      "dtype: int64\n"
     ]
    }
   ],
   "source": [
    "print(data.isnull().sum())"
   ]
  },
  {
   "cell_type": "code",
   "execution_count": 8,
   "id": "f23a1b55",
   "metadata": {},
   "outputs": [
    {
     "name": "stdout",
     "output_type": "stream",
     "text": [
      "전체 샘플수 : 98360\n"
     ]
    }
   ],
   "source": [
    "data.dropna(axis=0, inplace=True)\n",
    "print('전체 샘플수 :', (len(data)))"
   ]
  },
  {
   "cell_type": "markdown",
   "id": "16cd209e",
   "metadata": {},
   "source": [
    "### 텍스트 정규화와 불용어 제거"
   ]
  },
  {
   "cell_type": "code",
   "execution_count": 9,
   "id": "a7fdba78",
   "metadata": {},
   "outputs": [
    {
     "name": "stdout",
     "output_type": "stream",
     "text": [
      "정규화 사전의 수:  120\n"
     ]
    }
   ],
   "source": [
    "contractions = {\"ain't\": \"is not\", \"aren't\": \"are not\",\"can't\": \"cannot\", \"'cause\": \"because\", \"could've\": \"could have\", \"couldn't\": \"could not\",\n",
    "                           \"didn't\": \"did not\",  \"doesn't\": \"does not\", \"don't\": \"do not\", \"hadn't\": \"had not\", \"hasn't\": \"has not\", \"haven't\": \"have not\",\n",
    "                           \"he'd\": \"he would\",\"he'll\": \"he will\", \"he's\": \"he is\", \"how'd\": \"how did\", \"how'd'y\": \"how do you\", \"how'll\": \"how will\", \"how's\": \"how is\",\n",
    "                           \"I'd\": \"I would\", \"I'd've\": \"I would have\", \"I'll\": \"I will\", \"I'll've\": \"I will have\",\"I'm\": \"I am\", \"I've\": \"I have\", \"i'd\": \"i would\",\n",
    "                           \"i'd've\": \"i would have\", \"i'll\": \"i will\",  \"i'll've\": \"i will have\",\"i'm\": \"i am\", \"i've\": \"i have\", \"isn't\": \"is not\", \"it'd\": \"it would\",\n",
    "                           \"it'd've\": \"it would have\", \"it'll\": \"it will\", \"it'll've\": \"it will have\",\"it's\": \"it is\", \"let's\": \"let us\", \"ma'am\": \"madam\",\n",
    "                           \"mayn't\": \"may not\", \"might've\": \"might have\",\"mightn't\": \"might not\",\"mightn't've\": \"might not have\", \"must've\": \"must have\",\n",
    "                           \"mustn't\": \"must not\", \"mustn't've\": \"must not have\", \"needn't\": \"need not\", \"needn't've\": \"need not have\",\"o'clock\": \"of the clock\",\n",
    "                           \"oughtn't\": \"ought not\", \"oughtn't've\": \"ought not have\", \"shan't\": \"shall not\", \"sha'n't\": \"shall not\", \"shan't've\": \"shall not have\",\n",
    "                           \"she'd\": \"she would\", \"she'd've\": \"she would have\", \"she'll\": \"she will\", \"she'll've\": \"she will have\", \"she's\": \"she is\",\n",
    "                           \"should've\": \"should have\", \"shouldn't\": \"should not\", \"shouldn't've\": \"should not have\", \"so've\": \"so have\",\"so's\": \"so as\",\n",
    "                           \"this's\": \"this is\",\"that'd\": \"that would\", \"that'd've\": \"that would have\", \"that's\": \"that is\", \"there'd\": \"there would\",\n",
    "                           \"there'd've\": \"there would have\", \"there's\": \"there is\", \"here's\": \"here is\",\"they'd\": \"they would\", \"they'd've\": \"they would have\",\n",
    "                           \"they'll\": \"they will\", \"they'll've\": \"they will have\", \"they're\": \"they are\", \"they've\": \"they have\", \"to've\": \"to have\",\n",
    "                           \"wasn't\": \"was not\", \"we'd\": \"we would\", \"we'd've\": \"we would have\", \"we'll\": \"we will\", \"we'll've\": \"we will have\", \"we're\": \"we are\",\n",
    "                           \"we've\": \"we have\", \"weren't\": \"were not\", \"what'll\": \"what will\", \"what'll've\": \"what will have\", \"what're\": \"what are\",\n",
    "                           \"what's\": \"what is\", \"what've\": \"what have\", \"when's\": \"when is\", \"when've\": \"when have\", \"where'd\": \"where did\", \"where's\": \"where is\",\n",
    "                           \"where've\": \"where have\", \"who'll\": \"who will\", \"who'll've\": \"who will have\", \"who's\": \"who is\", \"who've\": \"who have\",\n",
    "                           \"why's\": \"why is\", \"why've\": \"why have\", \"will've\": \"will have\", \"won't\": \"will not\", \"won't've\": \"will not have\",\n",
    "                           \"would've\": \"would have\", \"wouldn't\": \"would not\", \"wouldn't've\": \"would not have\", \"y'all\": \"you all\",\n",
    "                           \"y'all'd\": \"you all would\",\"y'all'd've\": \"you all would have\",\"y'all're\": \"you all are\",\"y'all've\": \"you all have\",\n",
    "                           \"you'd\": \"you would\", \"you'd've\": \"you would have\", \"you'll\": \"you will\", \"you'll've\": \"you will have\",\n",
    "                           \"you're\": \"you are\", \"you've\": \"you have\"}\n",
    "\n",
    "print(\"정규화 사전의 수: \", len(contractions))"
   ]
  },
  {
   "cell_type": "markdown",
   "id": "e951f812",
   "metadata": {},
   "source": [
    "#### 샘플에서 불용어 제거"
   ]
  },
  {
   "cell_type": "code",
   "execution_count": 10,
   "id": "05dd6f0b",
   "metadata": {},
   "outputs": [
    {
     "name": "stdout",
     "output_type": "stream",
     "text": [
      "불용어 개수 : 179\n",
      "['i', 'me', 'my', 'myself', 'we', 'our', 'ours', 'ourselves', 'you', \"you're\", \"you've\", \"you'll\", \"you'd\", 'your', 'yours', 'yourself', 'yourselves', 'he', 'him', 'his', 'himself', 'she', \"she's\", 'her', 'hers', 'herself', 'it', \"it's\", 'its', 'itself', 'they', 'them', 'their', 'theirs', 'themselves', 'what', 'which', 'who', 'whom', 'this', 'that', \"that'll\", 'these', 'those', 'am', 'is', 'are', 'was', 'were', 'be', 'been', 'being', 'have', 'has', 'had', 'having', 'do', 'does', 'did', 'doing', 'a', 'an', 'the', 'and', 'but', 'if', 'or', 'because', 'as', 'until', 'while', 'of', 'at', 'by', 'for', 'with', 'about', 'against', 'between', 'into', 'through', 'during', 'before', 'after', 'above', 'below', 'to', 'from', 'up', 'down', 'in', 'out', 'on', 'off', 'over', 'under', 'again', 'further', 'then', 'once', 'here', 'there', 'when', 'where', 'why', 'how', 'all', 'any', 'both', 'each', 'few', 'more', 'most', 'other', 'some', 'such', 'no', 'nor', 'not', 'only', 'own', 'same', 'so', 'than', 'too', 'very', 's', 't', 'can', 'will', 'just', 'don', \"don't\", 'should', \"should've\", 'now', 'd', 'll', 'm', 'o', 're', 've', 'y', 'ain', 'aren', \"aren't\", 'couldn', \"couldn't\", 'didn', \"didn't\", 'doesn', \"doesn't\", 'hadn', \"hadn't\", 'hasn', \"hasn't\", 'haven', \"haven't\", 'isn', \"isn't\", 'ma', 'mightn', \"mightn't\", 'mustn', \"mustn't\", 'needn', \"needn't\", 'shan', \"shan't\", 'shouldn', \"shouldn't\", 'wasn', \"wasn't\", 'weren', \"weren't\", 'won', \"won't\", 'wouldn', \"wouldn't\"]\n"
     ]
    }
   ],
   "source": [
    "print('불용어 개수 :', len(stopwords.words('english') ))\n",
    "print(stopwords.words('english'))"
   ]
  },
  {
   "cell_type": "code",
   "execution_count": 11,
   "id": "d621f93e",
   "metadata": {},
   "outputs": [
    {
     "name": "stdout",
     "output_type": "stream",
     "text": [
      "=3\n"
     ]
    }
   ],
   "source": [
    "# 데이터 전처리 함수\n",
    "def preprocess_sentence(sentence, remove_stopwords=True):\n",
    "    sentence = sentence.lower() # 텍스트 소문자화\n",
    "    sentence = BeautifulSoup(sentence, \"lxml\").text # <br />, <a href = ...> 등의 html 태그 제거\n",
    "    sentence = re.sub(r'\\([^)]*\\)', '', sentence) # 괄호로 닫힌 문자열 (...) 제거 Ex) my husband (and myself!) for => my husband for\n",
    "    sentence = re.sub('\"','', sentence) # 쌍따옴표 \" 제거\n",
    "    sentence = ' '.join([contractions[t] if t in contractions else t for t in sentence.split(\" \")]) # 약어 정규화\n",
    "    sentence = re.sub(r\"'s\\b\",\"\", sentence) # 소유격 제거. Ex) roland's -> roland\n",
    "    sentence = re.sub(\"[^a-zA-Z]\", \" \", sentence) # 영어 외 문자(숫자, 특수문자 등) 공백으로 변환\n",
    "    sentence = re.sub('[m]{2,}', 'mm', sentence) # m이 3개 이상이면 2개로 변경. Ex) ummmmmmm yeah -> umm yeah\n",
    "    \n",
    "    # 불용어 제거 (Text)\n",
    "    if remove_stopwords:\n",
    "        tokens = ' '.join(word for word in sentence.split() if not word in stopwords.words('english') if len(word) > 1)\n",
    "    # 불용어 미제거 (headlines)\n",
    "    else:\n",
    "        tokens = ' '.join(word for word in sentence.split() if len(word) > 1)\n",
    "    return tokens\n",
    "print('=3')"
   ]
  },
  {
   "cell_type": "markdown",
   "id": "fad5fd57",
   "metadata": {},
   "source": [
    "#### 전처리 전, 후의 결과 확인"
   ]
  },
  {
   "cell_type": "code",
   "execution_count": 12,
   "id": "59a57973",
   "metadata": {},
   "outputs": [
    {
     "name": "stdout",
     "output_type": "stream",
     "text": [
      "text:  everything bought great infact ordered twice third ordered wasfor mother father\n",
      "headlines: great way to start the day\n"
     ]
    }
   ],
   "source": [
    "temp_text = 'Everything I bought was great, infact I ordered twice and the third ordered was<br />for my mother and father.'\n",
    "temp_headlines = 'Great way to start (or finish) the day!!!'\n",
    "\n",
    "print(\"text: \", preprocess_sentence(temp_text))\n",
    "print(\"headlines:\", preprocess_sentence(temp_headlines, False))  # 불용어를 제거하지 않습니다."
   ]
  },
  {
   "cell_type": "markdown",
   "id": "a36bab1d",
   "metadata": {},
   "source": [
    "기본적으로 모든 알파벳이 소문자로 변환\n",
    "\n",
    "html 태그가 제거\n",
    "\n",
    "(or finish)와 같은 괄호로 묶였던 단어 시퀀스가 제거\n",
    "\n",
    "특수문자가 제거되면서 영어만 남음"
   ]
  },
  {
   "cell_type": "code",
   "execution_count": 13,
   "id": "2e1caa7c",
   "metadata": {
    "scrolled": true
   },
   "outputs": [
    {
     "name": "stdout",
     "output_type": "stream",
     "text": [
      "text 전처리 후 결과:  ['saurav kant alumnus upgrad iiit pg program machine learning artificial intelligence sr systems engineer infosys almost years work experience program upgrad degree career support helped transition data scientist tech mahindra salary hike upgrad online power learning powered lakh careers', 'kunal shah credit card bill payment platform cred gave users chance win free food swiggy one year pranav kaushik delhi techie bagged reward spending cred coins users get one cred coin per rupee bill paid used avail rewards brands like ixigo bookmyshow ubereats cult fit', 'new zealand defeated india wickets fourth odi hamilton thursday win first match five match odi series india lost international match rohit sharma captaincy consecutive victories dating back march match witnessed india getting seventh lowest total odi cricket history', 'aegon life iterm insurance plan customers enjoy tax benefits premiums paid save taxes plan provides life cover age years also customers options insure critical illnesses disability accidental death benefit rider life cover age years', 'speaking sexual harassment allegations rajkumar hirani sonam kapoor said known hirani many years true metoo movement get derailed metoo movement always believe woman case need reserve judgment added hirani accused assistant worked sanju']\n"
     ]
    }
   ],
   "source": [
    "clean_text = []\n",
    "# 전체 Text 데이터에 대한 전처리 : 10분 이상 시간이 걸릴 수 있습니다. \n",
    "for s in data['text']:\n",
    "    clean_text.append(preprocess_sentence(s))\n",
    "\n",
    "# 전처리 후 출력\n",
    "print(\"text 전처리 후 결과: \", clean_text[:5])"
   ]
  },
  {
   "cell_type": "markdown",
   "id": "45f8fd68",
   "metadata": {},
   "source": [
    "불용어 제거를 수행하지 않는다는 의미에서 두 번째 인자로 False"
   ]
  },
  {
   "cell_type": "code",
   "execution_count": 14,
   "id": "7c559e45",
   "metadata": {},
   "outputs": [
    {
     "name": "stdout",
     "output_type": "stream",
     "text": [
      "headlines 전처리 후 결과:  ['upgrad learner switches to career in ml al with salary hike', 'delhi techie wins free food from swiggy for one year on cred', 'new zealand end rohit sharma led india match winning streak', 'aegon life iterm insurance plan helps customers save tax', 'have known hirani for yrs what if metoo claims are not true sonam']\n"
     ]
    }
   ],
   "source": [
    "clean_headlines = []\n",
    "# 전체 headlines 데이터에 대한 전처리 : 5분 이상 시간이 걸릴 수 있습니다. \n",
    "for s in data['headlines']:\n",
    "    clean_headlines.append(preprocess_sentence(s, False))\n",
    "\n",
    "print(\"headlines 전처리 후 결과: \", clean_headlines[:5])"
   ]
  },
  {
   "cell_type": "markdown",
   "id": "615f4adb",
   "metadata": {},
   "source": [
    "데이터들을 데이터프레임에 재저장\n",
    "\n",
    "빈(empty) 값을 가진 샘플들이 있다면, 모두 Null 값을 가진 샘플로 대체"
   ]
  },
  {
   "cell_type": "code",
   "execution_count": 15,
   "id": "bd649077",
   "metadata": {},
   "outputs": [
    {
     "name": "stdout",
     "output_type": "stream",
     "text": [
      "=3\n"
     ]
    }
   ],
   "source": [
    "data['text'] = clean_text\n",
    "data['headlines'] = clean_headlines\n",
    "\n",
    "# 빈 값을 Null 값으로 변환\n",
    "data.replace('', np.nan, inplace=True)\n",
    "print('=3')"
   ]
  },
  {
   "cell_type": "code",
   "execution_count": 16,
   "id": "2937cf0c",
   "metadata": {},
   "outputs": [
    {
     "data": {
      "text/plain": [
       "text         0\n",
       "headlines    0\n",
       "dtype: int64"
      ]
     },
     "execution_count": 16,
     "metadata": {},
     "output_type": "execute_result"
    }
   ],
   "source": [
    "data.isnull().sum()"
   ]
  },
  {
   "cell_type": "code",
   "execution_count": 17,
   "id": "b3a4310e",
   "metadata": {},
   "outputs": [
    {
     "name": "stdout",
     "output_type": "stream",
     "text": [
      "전체 샘플수 : 98360\n"
     ]
    }
   ],
   "source": [
    "data.dropna(axis=0, inplace=True)\n",
    "print('전체 샘플수 :', (len(data)))"
   ]
  },
  {
   "cell_type": "markdown",
   "id": "e3e819b0",
   "metadata": {},
   "source": [
    "### 훈련데이터와 테스트데이터 나누기"
   ]
  },
  {
   "cell_type": "markdown",
   "id": "6bb2a99f",
   "metadata": {},
   "source": [
    "#### Text와 Headlines의 최소, 최대, 평균 길이를 구하고 또한 길이 분포를 시각화"
   ]
  },
  {
   "cell_type": "code",
   "execution_count": 18,
   "id": "7483ffff",
   "metadata": {},
   "outputs": [
    {
     "name": "stdout",
     "output_type": "stream",
     "text": [
      "텍스트의 최소 길이 : 1\n",
      "텍스트의 최대 길이 : 60\n",
      "텍스트의 평균 길이 : 35.09968483123221\n",
      "요약의 최소 길이 : 1\n",
      "요약의 최대 길이 : 16\n",
      "요약의 평균 길이 : 9.299532330215534\n"
     ]
    },
    {
     "data": {
      "image/png": "[encoded data removed]",
      "text/plain": [
       "<Figure size 432x288 with 2 Axes>"
      ]
     },
     "metadata": {
      "needs_background": "light"
     },
     "output_type": "display_data"
    },
    {
     "data": {
      "image/png": "[encoded data removed]",
      "text/plain": [
       "<Figure size 432x288 with 1 Axes>"
      ]
     },
     "metadata": {
      "needs_background": "light"
     },
     "output_type": "display_data"
    },
    {
     "data": {
      "image/png": "[encoded data removed]",
      "text/plain": [
       "<Figure size 432x288 with 1 Axes>"
      ]
     },
     "metadata": {
      "needs_background": "light"
     },
     "output_type": "display_data"
    }
   ],
   "source": [
    "# 길이 분포 출력\n",
    "import matplotlib.pyplot as plt\n",
    "\n",
    "text_len = [len(s.split()) for s in data['text']]\n",
    "headlines_len = [len(s.split()) for s in data['headlines']]\n",
    "\n",
    "print('텍스트의 최소 길이 : {}'.format(np.min(text_len)))\n",
    "print('텍스트의 최대 길이 : {}'.format(np.max(text_len)))\n",
    "print('텍스트의 평균 길이 : {}'.format(np.mean(text_len)))\n",
    "print('요약의 최소 길이 : {}'.format(np.min(headlines_len)))\n",
    "print('요약의 최대 길이 : {}'.format(np.max(headlines_len)))\n",
    "print('요약의 평균 길이 : {}'.format(np.mean(headlines_len)))\n",
    "\n",
    "plt.subplot(1,2,1)\n",
    "plt.boxplot(text_len)\n",
    "plt.title('text')\n",
    "plt.subplot(1,2,2)\n",
    "plt.boxplot(headlines_len)\n",
    "plt.title('headlines')\n",
    "plt.tight_layout()\n",
    "plt.show()\n",
    "\n",
    "plt.title('text')\n",
    "plt.hist(text_len, bins = 40)\n",
    "plt.xlabel('length of samples')\n",
    "plt.ylabel('number of samples')\n",
    "plt.show()\n",
    "\n",
    "plt.title('headlines')\n",
    "plt.hist(headlines_len, bins = 40)\n",
    "plt.xlabel('length of samples')\n",
    "plt.ylabel('number of samples')\n",
    "plt.show()"
   ]
  },
  {
   "cell_type": "markdown",
   "id": "ab360f2f",
   "metadata": {},
   "source": [
    "Text의 최대 길이와 headlines의 적절한 최대 길이를 임의로 지정"
   ]
  },
  {
   "cell_type": "code",
   "execution_count": 19,
   "id": "a605d398",
   "metadata": {},
   "outputs": [
    {
     "name": "stdout",
     "output_type": "stream",
     "text": [
      "=3\n"
     ]
    }
   ],
   "source": [
    "text_max_len = 70\n",
    "headlines_max_len = 15\n",
    "print('=3')"
   ]
  },
  {
   "cell_type": "code",
   "execution_count": 20,
   "id": "702dc489",
   "metadata": {},
   "outputs": [
    {
     "name": "stdout",
     "output_type": "stream",
     "text": [
      "=3\n"
     ]
    }
   ],
   "source": [
    "#훈련 데이터와 샘플의 길이를 입력하면, 데이터의 몇 %가 해당하는지 계산하는 함수\n",
    "def below_threshold_len(max_len, nested_list):\n",
    "  cnt = 0\n",
    "  for s in nested_list:\n",
    "    if(len(s.split()) <= max_len):\n",
    "        cnt = cnt + 1\n",
    "  print('전체 샘플 중 길이가 %s 이하인 샘플의 비율: %s'%(max_len, (cnt / len(nested_list))))\n",
    "print('=3')"
   ]
  },
  {
   "cell_type": "code",
   "execution_count": 21,
   "id": "80d2ef1d",
   "metadata": {},
   "outputs": [
    {
     "name": "stdout",
     "output_type": "stream",
     "text": [
      "전체 샘플 중 길이가 70 이하인 샘플의 비율: 1.0\n",
      "전체 샘플 중 길이가 15 이하인 샘플의 비율: 0.9999694997966653\n"
     ]
    }
   ],
   "source": [
    "below_threshold_len(text_max_len, data['text'])\n",
    "below_threshold_len(headlines_max_len,  data['headlines'])"
   ]
  },
  {
   "cell_type": "markdown",
   "id": "2ed7393c",
   "metadata": {},
   "source": [
    "정해진 길이보다 길면 제외하는 방법으로 데이터를 정제"
   ]
  },
  {
   "cell_type": "code",
   "execution_count": 22,
   "id": "19f65e86",
   "metadata": {},
   "outputs": [
    {
     "name": "stdout",
     "output_type": "stream",
     "text": [
      "전체 샘플수 : 98357\n"
     ]
    }
   ],
   "source": [
    "data = data[data['text'].apply(lambda x: len(x.split()) <= text_max_len)]\n",
    "data = data[data['headlines'].apply(lambda x: len(x.split()) <= headlines_max_len)]\n",
    "print('전체 샘플수 :', (len(data)))"
   ]
  },
  {
   "cell_type": "markdown",
   "id": "282e06f4",
   "metadata": {},
   "source": [
    "#### 시작 토큰과 종료 토큰 추가"
   ]
  },
  {
   "cell_type": "code",
   "execution_count": 23,
   "id": "a6e9eb91",
   "metadata": {},
   "outputs": [
    {
     "data": {
      "text/html": [
       "<div>\n",
       "<style scoped>\n",
       "    .dataframe tbody tr th:only-of-type {\n",
       "        vertical-align: middle;\n",
       "    }\n",
       "\n",
       "    .dataframe tbody tr th {\n",
       "        vertical-align: top;\n",
       "    }\n",
       "\n",
       "    .dataframe thead th {\n",
       "        text-align: right;\n",
       "    }\n",
       "</style>\n",
       "<table border=\"1\" class=\"dataframe\">\n",
       "  <thead>\n",
       "    <tr style=\"text-align: right;\">\n",
       "      <th></th>\n",
       "      <th>text</th>\n",
       "      <th>headlines</th>\n",
       "      <th>decoder_input</th>\n",
       "      <th>decoder_target</th>\n",
       "    </tr>\n",
       "  </thead>\n",
       "  <tbody>\n",
       "    <tr>\n",
       "      <th>0</th>\n",
       "      <td>saurav kant alumnus upgrad iiit pg program mac...</td>\n",
       "      <td>upgrad learner switches to career in ml al wit...</td>\n",
       "      <td>sostoken upgrad learner switches to career in ...</td>\n",
       "      <td>upgrad learner switches to career in ml al wit...</td>\n",
       "    </tr>\n",
       "    <tr>\n",
       "      <th>1</th>\n",
       "      <td>kunal shah credit card bill payment platform c...</td>\n",
       "      <td>delhi techie wins free food from swiggy for on...</td>\n",
       "      <td>sostoken delhi techie wins free food from swig...</td>\n",
       "      <td>delhi techie wins free food from swiggy for on...</td>\n",
       "    </tr>\n",
       "    <tr>\n",
       "      <th>2</th>\n",
       "      <td>new zealand defeated india wickets fourth odi ...</td>\n",
       "      <td>new zealand end rohit sharma led india match w...</td>\n",
       "      <td>sostoken new zealand end rohit sharma led indi...</td>\n",
       "      <td>new zealand end rohit sharma led india match w...</td>\n",
       "    </tr>\n",
       "    <tr>\n",
       "      <th>3</th>\n",
       "      <td>aegon life iterm insurance plan customers enjo...</td>\n",
       "      <td>aegon life iterm insurance plan helps customer...</td>\n",
       "      <td>sostoken aegon life iterm insurance plan helps...</td>\n",
       "      <td>aegon life iterm insurance plan helps customer...</td>\n",
       "    </tr>\n",
       "    <tr>\n",
       "      <th>4</th>\n",
       "      <td>speaking sexual harassment allegations rajkuma...</td>\n",
       "      <td>have known hirani for yrs what if metoo claims...</td>\n",
       "      <td>sostoken have known hirani for yrs what if met...</td>\n",
       "      <td>have known hirani for yrs what if metoo claims...</td>\n",
       "    </tr>\n",
       "  </tbody>\n",
       "</table>\n",
       "</div>"
      ],
      "text/plain": [
       "                                                text  \\\n",
       "0  saurav kant alumnus upgrad iiit pg program mac...   \n",
       "1  kunal shah credit card bill payment platform c...   \n",
       "2  new zealand defeated india wickets fourth odi ...   \n",
       "3  aegon life iterm insurance plan customers enjo...   \n",
       "4  speaking sexual harassment allegations rajkuma...   \n",
       "\n",
       "                                           headlines  \\\n",
       "0  upgrad learner switches to career in ml al wit...   \n",
       "1  delhi techie wins free food from swiggy for on...   \n",
       "2  new zealand end rohit sharma led india match w...   \n",
       "3  aegon life iterm insurance plan helps customer...   \n",
       "4  have known hirani for yrs what if metoo claims...   \n",
       "\n",
       "                                       decoder_input  \\\n",
       "0  sostoken upgrad learner switches to career in ...   \n",
       "1  sostoken delhi techie wins free food from swig...   \n",
       "2  sostoken new zealand end rohit sharma led indi...   \n",
       "3  sostoken aegon life iterm insurance plan helps...   \n",
       "4  sostoken have known hirani for yrs what if met...   \n",
       "\n",
       "                                      decoder_target  \n",
       "0  upgrad learner switches to career in ml al wit...  \n",
       "1  delhi techie wins free food from swiggy for on...  \n",
       "2  new zealand end rohit sharma led india match w...  \n",
       "3  aegon life iterm insurance plan helps customer...  \n",
       "4  have known hirani for yrs what if metoo claims...  "
      ]
     },
     "execution_count": 23,
     "metadata": {},
     "output_type": "execute_result"
    }
   ],
   "source": [
    "# 요약 데이터에는 시작 토큰과 종료 토큰을 추가한다.\n",
    "data['decoder_input'] = data['headlines'].apply(lambda x : 'sostoken '+ x)\n",
    "data['decoder_target'] = data['headlines'].apply(lambda x : x + ' eostoken')\n",
    "data.head()"
   ]
  },
  {
   "cell_type": "code",
   "execution_count": 24,
   "id": "6accc39d",
   "metadata": {},
   "outputs": [
    {
     "name": "stdout",
     "output_type": "stream",
     "text": [
      "=3\n"
     ]
    }
   ],
   "source": [
    "#Numpy 타입으로 저장\n",
    "encoder_input = np.array(data['text']) # 인코더의 입력\n",
    "decoder_input = np.array(data['decoder_input']) # 디코더의 입력\n",
    "decoder_target = np.array(data['decoder_target']) # 디코더의 레이블\n",
    "print('=3')"
   ]
  },
  {
   "cell_type": "markdown",
   "id": "6b58728f",
   "metadata": {},
   "source": [
    "encoder_input과 크기와 형태가 같은 순서가 섞인 정수 시퀀스"
   ]
  },
  {
   "cell_type": "code",
   "execution_count": 25,
   "id": "880dc6a5",
   "metadata": {},
   "outputs": [
    {
     "name": "stdout",
     "output_type": "stream",
     "text": [
      "[79778 94495 56643 ... 65422 59821 67922]\n"
     ]
    }
   ],
   "source": [
    "indices = np.arange(encoder_input.shape[0])\n",
    "np.random.shuffle(indices)\n",
    "print(indices)"
   ]
  },
  {
   "cell_type": "code",
   "execution_count": 26,
   "id": "6454537b",
   "metadata": {},
   "outputs": [
    {
     "name": "stdout",
     "output_type": "stream",
     "text": [
      "=3\n"
     ]
    }
   ],
   "source": [
    "encoder_input = encoder_input[indices]\n",
    "decoder_input = decoder_input[indices]\n",
    "decoder_target = decoder_target[indices]\n",
    "print('=3')"
   ]
  },
  {
   "cell_type": "markdown",
   "id": "dd34168a",
   "metadata": {},
   "source": [
    "#### 훈련 데이터 테스트 데이터 8:2 분리"
   ]
  },
  {
   "cell_type": "code",
   "execution_count": 27,
   "id": "9244e4ed",
   "metadata": {},
   "outputs": [
    {
     "name": "stdout",
     "output_type": "stream",
     "text": [
      "테스트 데이터의 수 : 19671\n"
     ]
    }
   ],
   "source": [
    "n_of_val = int(len(encoder_input)*0.2)\n",
    "print('테스트 데이터의 수 :', n_of_val)"
   ]
  },
  {
   "cell_type": "code",
   "execution_count": 28,
   "id": "c2697c55",
   "metadata": {},
   "outputs": [
    {
     "name": "stdout",
     "output_type": "stream",
     "text": [
      "훈련 데이터의 개수 : 78686\n",
      "훈련 레이블의 개수 : 78686\n",
      "테스트 데이터의 개수 : 19671\n",
      "테스트 레이블의 개수 : 19671\n"
     ]
    }
   ],
   "source": [
    "encoder_input_train = encoder_input[:-n_of_val]\n",
    "decoder_input_train = decoder_input[:-n_of_val]\n",
    "decoder_target_train = decoder_target[:-n_of_val]\n",
    "\n",
    "encoder_input_test = encoder_input[-n_of_val:]\n",
    "decoder_input_test = decoder_input[-n_of_val:]\n",
    "decoder_target_test = decoder_target[-n_of_val:]\n",
    "\n",
    "print('훈련 데이터의 개수 :', len(encoder_input_train))\n",
    "print('훈련 레이블의 개수 :', len(decoder_input_train))\n",
    "print('테스트 데이터의 개수 :', len(encoder_input_test))\n",
    "print('테스트 레이블의 개수 :', len(decoder_input_test))"
   ]
  },
  {
   "cell_type": "markdown",
   "id": "6b895c46",
   "metadata": {},
   "source": [
    "### 정수 인코딩"
   ]
  },
  {
   "cell_type": "code",
   "execution_count": 29,
   "id": "2ea09659",
   "metadata": {},
   "outputs": [
    {
     "name": "stdout",
     "output_type": "stream",
     "text": [
      "=3\n"
     ]
    }
   ],
   "source": [
    "# Keras의 토크나이저를 사용하여 훈련 데이터로부터 단어 집합을 만들기\n",
    "src_tokenizer = Tokenizer() # 토크나이저 정의\n",
    "src_tokenizer.fit_on_texts(encoder_input_train) # 입력된 데이터로부터 단어 집합 생성\n",
    "print('=3')"
   ]
  },
  {
   "cell_type": "markdown",
   "id": "2fc21d23",
   "metadata": {},
   "source": [
    "등장 빈도수가 7회 미만인 단어들이 이 데이터에서 얼만큼의 비중을 차지하는지 확인"
   ]
  },
  {
   "cell_type": "code",
   "execution_count": 30,
   "id": "1844ae4f",
   "metadata": {},
   "outputs": [
    {
     "name": "stdout",
     "output_type": "stream",
     "text": [
      "단어 집합(vocabulary)의 크기 : 69419\n",
      "등장 빈도가 6번 이하인 희귀 단어의 수: 47256\n",
      "단어 집합에서 희귀 단어를 제외시킬 경우의 단어 집합의 크기 22163\n",
      "단어 집합에서 희귀 단어의 비율: 68.0735821605036\n",
      "전체 등장 빈도에서 희귀 단어 등장 빈도 비율: 3.472865724380346\n"
     ]
    }
   ],
   "source": [
    "threshold = 7\n",
    "total_cnt = len(src_tokenizer.word_index) # 단어의 수\n",
    "rare_cnt = 0 # 등장 빈도수가 threshold보다 작은 단어의 개수를 카운트\n",
    "total_freq = 0 # 훈련 데이터의 전체 단어 빈도수 총 합\n",
    "rare_freq = 0 # 등장 빈도수가 threshold보다 작은 단어의 등장 빈도수의 총 합\n",
    "\n",
    "# 단어와 빈도수의 쌍(pair)을 key와 value로 받는다.\n",
    "for key, value in src_tokenizer.word_counts.items():\n",
    "    total_freq = total_freq + value\n",
    "\n",
    "    # 단어의 등장 빈도수가 threshold보다 작으면\n",
    "    if(value < threshold):\n",
    "        rare_cnt = rare_cnt + 1\n",
    "        rare_freq = rare_freq + value\n",
    "\n",
    "print('단어 집합(vocabulary)의 크기 :', total_cnt)\n",
    "print('등장 빈도가 %s번 이하인 희귀 단어의 수: %s'%(threshold - 1, rare_cnt))\n",
    "print('단어 집합에서 희귀 단어를 제외시킬 경우의 단어 집합의 크기 %s'%(total_cnt - rare_cnt))\n",
    "print(\"단어 집합에서 희귀 단어의 비율:\", (rare_cnt / total_cnt)*100)\n",
    "print(\"전체 등장 빈도에서 희귀 단어 등장 빈도 비율:\", (rare_freq / total_freq)*100)"
   ]
  },
  {
   "cell_type": "code",
   "execution_count": 31,
   "id": "36af7078",
   "metadata": {},
   "outputs": [
    {
     "name": "stdout",
     "output_type": "stream",
     "text": [
      "=3\n"
     ]
    }
   ],
   "source": [
    "# 단어 집합의 크기를 8,000으로 제한\n",
    "src_vocab = 8000\n",
    "src_tokenizer = Tokenizer(num_words=src_vocab)\n",
    "src_tokenizer.fit_on_texts(encoder_input_train) # 단어 집합 재생성\n",
    "print('=3')"
   ]
  },
  {
   "cell_type": "markdown",
   "id": "bb295bf0",
   "metadata": {},
   "source": [
    "8,000이 넘는 숫자들은 정수 인코딩 후에는 데이터에 존재하지 않음"
   ]
  },
  {
   "cell_type": "code",
   "execution_count": 32,
   "id": "38888335",
   "metadata": {
    "scrolled": true
   },
   "outputs": [
    {
     "name": "stdout",
     "output_type": "stream",
     "text": [
      "[[210, 33, 7262, 1395, 276, 195, 453, 2520, 106, 1648, 371, 894, 2520, 106, 734, 3790, 4110, 371, 1629, 344, 36, 3445, 879, 1420, 1567, 344, 435, 68, 200, 371, 6039, 836, 371, 276], [137, 2431, 1997, 180, 2591, 571, 1144, 387, 41, 255, 441, 6256, 2531, 643, 4805, 2892, 4173, 255, 1528, 5094, 4335, 137, 6475, 100, 16, 2869, 525, 16], [5, 16, 123, 42, 60, 806, 236, 437, 702, 495, 71, 1110, 403, 941, 24, 2208, 2484, 270, 42, 1, 495, 1321, 1437, 2638, 950, 437, 2302, 149, 227, 1830, 417, 1178, 1288, 290, 1124, 1780]]\n"
     ]
    }
   ],
   "source": [
    "# 텍스트 시퀀스를 정수 시퀀스로 변환\n",
    "encoder_input_train = src_tokenizer.texts_to_sequences(encoder_input_train) \n",
    "encoder_input_test = src_tokenizer.texts_to_sequences(encoder_input_test)\n",
    "\n",
    "# 잘 진행되었는지 샘플 출력\n",
    "print(encoder_input_train[:3])"
   ]
  },
  {
   "cell_type": "markdown",
   "id": "669ae93d",
   "metadata": {},
   "source": [
    "텍스트 데이터가 아니라 정수 출력"
   ]
  },
  {
   "cell_type": "code",
   "execution_count": 33,
   "id": "bc5b90ab",
   "metadata": {},
   "outputs": [
    {
     "name": "stdout",
     "output_type": "stream",
     "text": [
      "=3\n"
     ]
    }
   ],
   "source": [
    "tar_tokenizer = Tokenizer()\n",
    "tar_tokenizer.fit_on_texts(decoder_input_train)\n",
    "print('=3')"
   ]
  },
  {
   "cell_type": "code",
   "execution_count": 34,
   "id": "d6838ad7",
   "metadata": {},
   "outputs": [
    {
     "name": "stdout",
     "output_type": "stream",
     "text": [
      "단어 집합(vocabulary)의 크기 : 30008\n",
      "등장 빈도가 5번 이하인 희귀 단어의 수: 19619\n",
      "단어 집합에서 희귀 단어를 제외시킬 경우의 단어 집합의 크기 10389\n",
      "단어 집합에서 희귀 단어의 비율: 65.37923220474539\n",
      "전체 등장 빈도에서 희귀 단어 등장 빈도 비율: 4.666700385005866\n"
     ]
    }
   ],
   "source": [
    "threshold = 6\n",
    "total_cnt = len(tar_tokenizer.word_index) # 단어의 수\n",
    "rare_cnt = 0 # 등장 빈도수가 threshold보다 작은 단어의 개수를 카운트\n",
    "total_freq = 0 # 훈련 데이터의 전체 단어 빈도수 총 합\n",
    "rare_freq = 0 # 등장 빈도수가 threshold보다 작은 단어의 등장 빈도수의 총 합\n",
    "\n",
    "# 단어와 빈도수의 쌍(pair)을 key와 value로 받는다.\n",
    "for key, value in tar_tokenizer.word_counts.items():\n",
    "    total_freq = total_freq + value\n",
    "\n",
    "    # 단어의 등장 빈도수가 threshold보다 작으면\n",
    "    if(value < threshold):\n",
    "        rare_cnt = rare_cnt + 1\n",
    "        rare_freq = rare_freq + value\n",
    "\n",
    "print('단어 집합(vocabulary)의 크기 :', total_cnt)\n",
    "print('등장 빈도가 %s번 이하인 희귀 단어의 수: %s'%(threshold - 1, rare_cnt))\n",
    "print('단어 집합에서 희귀 단어를 제외시킬 경우의 단어 집합의 크기 %s'%(total_cnt - rare_cnt))\n",
    "print(\"단어 집합에서 희귀 단어의 비율:\", (rare_cnt / total_cnt)*100)\n",
    "print(\"전체 등장 빈도에서 희귀 단어 등장 빈도 비율:\", (rare_freq / total_freq)*100)"
   ]
  },
  {
   "cell_type": "markdown",
   "id": "ee8f1b04",
   "metadata": {},
   "source": [
    "등장 빈도가 6회 미만인 단어들은 단어 집합에서 약 77%를 차지\n",
    "\n",
    "등장 빈도로 차지하는 비중은 상대적으로 매우 적은 수치인 5.88%\n",
    "이 단어들은 모두 제거"
   ]
  },
  {
   "cell_type": "code",
   "execution_count": 35,
   "id": "de8bcdc2",
   "metadata": {},
   "outputs": [
    {
     "name": "stdout",
     "output_type": "stream",
     "text": [
      "input\n",
      "input  [[1, 73, 295, 545, 3, 1297, 250, 303, 97], [1, 567, 359, 1014], [1, 13, 109, 28, 1236, 199, 538, 1147, 97, 315], [1, 596, 1529, 4, 525], [1, 193, 422, 92, 3, 972, 827, 917]]\n",
      "target\n",
      "decoder  [[73, 295, 545, 3, 1297, 250, 303, 97, 2], [567, 359, 1014, 2], [13, 109, 28, 1236, 199, 538, 1147, 97, 315, 2], [596, 1529, 4, 525, 2], [193, 422, 92, 3, 972, 827, 917, 2]]\n"
     ]
    }
   ],
   "source": [
    "tar_vocab = 2000\n",
    "tar_tokenizer = Tokenizer(num_words=tar_vocab) \n",
    "tar_tokenizer.fit_on_texts(decoder_input_train)\n",
    "tar_tokenizer.fit_on_texts(decoder_target_train)\n",
    "\n",
    "# 텍스트 시퀀스를 정수 시퀀스로 변환\n",
    "decoder_input_train = tar_tokenizer.texts_to_sequences(decoder_input_train) \n",
    "decoder_target_train = tar_tokenizer.texts_to_sequences(decoder_target_train)\n",
    "decoder_input_test = tar_tokenizer.texts_to_sequences(decoder_input_test)\n",
    "decoder_target_test = tar_tokenizer.texts_to_sequences(decoder_target_test)\n",
    "\n",
    "# 잘 변환되었는지 확인\n",
    "print('input')\n",
    "print('input ',decoder_input_train[:5])\n",
    "print('target')\n",
    "print('decoder ',decoder_target_train[:5])"
   ]
  },
  {
   "cell_type": "markdown",
   "id": "135057d1",
   "metadata": {},
   "source": [
    "훈련 데이터와 테스트 데이터에 대해서 요약문의 길이가 1인 경우의 인덱스를 각각 drop_train과 drop_test에 라는 변수에 저장&삭제"
   ]
  },
  {
   "cell_type": "code",
   "execution_count": 36,
   "id": "7ec00b31",
   "metadata": {},
   "outputs": [
    {
     "name": "stdout",
     "output_type": "stream",
     "text": [
      "삭제할 훈련 데이터의 개수 : 10\n",
      "삭제할 테스트 데이터의 개수 : 3\n",
      "훈련 데이터의 개수 : 78676\n",
      "훈련 레이블의 개수 : 78676\n",
      "테스트 데이터의 개수 : 19668\n",
      "테스트 레이블의 개수 : 19668\n"
     ]
    }
   ],
   "source": [
    "drop_train = [index for index, sentence in enumerate(decoder_input_train) if len(sentence) == 1]\n",
    "drop_test = [index for index, sentence in enumerate(decoder_input_test) if len(sentence) == 1]\n",
    "\n",
    "print('삭제할 훈련 데이터의 개수 :', len(drop_train))\n",
    "print('삭제할 테스트 데이터의 개수 :', len(drop_test))\n",
    "\n",
    "encoder_input_train = [sentence for index, sentence in enumerate(encoder_input_train) if index not in drop_train]\n",
    "decoder_input_train = [sentence for index, sentence in enumerate(decoder_input_train) if index not in drop_train]\n",
    "decoder_target_train = [sentence for index, sentence in enumerate(decoder_target_train) if index not in drop_train]\n",
    "\n",
    "encoder_input_test = [sentence for index, sentence in enumerate(encoder_input_test) if index not in drop_test]\n",
    "decoder_input_test = [sentence for index, sentence in enumerate(decoder_input_test) if index not in drop_test]\n",
    "decoder_target_test = [sentence for index, sentence in enumerate(decoder_target_test) if index not in drop_test]\n",
    "\n",
    "print('훈련 데이터의 개수 :', len(encoder_input_train))\n",
    "print('훈련 레이블의 개수 :', len(decoder_input_train))\n",
    "print('테스트 데이터의 개수 :', len(encoder_input_test))\n",
    "print('테스트 레이블의 개수 :', len(decoder_input_test))"
   ]
  },
  {
   "cell_type": "markdown",
   "id": "1891d121",
   "metadata": {},
   "source": [
    "### 패딩하기\n",
    "\n",
    "최대 길이보다 짧은 데이터들은 뒤의 공간에 숫자 0을 넣어 최대 길이로 길이를 맞춘다"
   ]
  },
  {
   "cell_type": "code",
   "execution_count": 37,
   "id": "2da4bd08",
   "metadata": {},
   "outputs": [
    {
     "name": "stdout",
     "output_type": "stream",
     "text": [
      "=3\n"
     ]
    }
   ],
   "source": [
    "encoder_input_train = pad_sequences(encoder_input_train, maxlen=text_max_len, padding='post')\n",
    "encoder_input_test = pad_sequences(encoder_input_test, maxlen=text_max_len, padding='post')\n",
    "decoder_input_train = pad_sequences(decoder_input_train, maxlen=headlines_max_len, padding='post')\n",
    "decoder_target_train = pad_sequences(decoder_target_train, maxlen=headlines_max_len, padding='post')\n",
    "decoder_input_test = pad_sequences(decoder_input_test, maxlen=headlines_max_len, padding='post')\n",
    "decoder_target_test = pad_sequences(decoder_target_test, maxlen=headlines_max_len, padding='post')\n",
    "print('=3')"
   ]
  },
  {
   "cell_type": "markdown",
   "id": "c38343d1",
   "metadata": {},
   "source": [
    "## 전처리 끝"
   ]
  },
  {
   "cell_type": "markdown",
   "id": "59f43377",
   "metadata": {},
   "source": [
    "## 모델 설계하기\n",
    "\n",
    "#### 함수형 API를 이용해서 인코더를 설계"
   ]
  },
  {
   "cell_type": "code",
   "execution_count": 38,
   "id": "a7f8e42f",
   "metadata": {},
   "outputs": [
    {
     "name": "stdout",
     "output_type": "stream",
     "text": [
      "WARNING:tensorflow:Layer lstm will not use cuDNN kernels since it doesn't meet the criteria. It will use a generic GPU kernel as fallback when running on GPU.\n",
      "WARNING:tensorflow:Layer lstm_1 will not use cuDNN kernels since it doesn't meet the criteria. It will use a generic GPU kernel as fallback when running on GPU.\n",
      "WARNING:tensorflow:Layer lstm_2 will not use cuDNN kernels since it doesn't meet the criteria. It will use a generic GPU kernel as fallback when running on GPU.\n"
     ]
    }
   ],
   "source": [
    "from tensorflow.keras.layers import Input, LSTM, Embedding, Dense, Concatenate, TimeDistributed\n",
    "from tensorflow.keras.models import Model\n",
    "from tensorflow.keras.callbacks import EarlyStopping, ModelCheckpoint\n",
    "\n",
    "\n",
    "# 인코더 설계 시작\n",
    "embedding_dim = 128\n",
    "hidden_size = 256\n",
    "\n",
    "# 인코더\n",
    "encoder_inputs = Input(shape=(text_max_len,))\n",
    "\n",
    "# 인코더의 임베딩 층\n",
    "enc_emb = Embedding(src_vocab, embedding_dim)(encoder_inputs)\n",
    "\n",
    "# 인코더의 LSTM 1\n",
    "encoder_lstm1 = LSTM(hidden_size, return_sequences=True, return_state=True ,dropout = 0.4, recurrent_dropout = 0.4)\n",
    "encoder_output1, state_h1, state_c1 = encoder_lstm1(enc_emb)\n",
    "\n",
    "# 인코더의 LSTM 2\n",
    "encoder_lstm2 = LSTM(hidden_size, return_sequences=True, return_state=True, dropout=0.4, recurrent_dropout=0.4)\n",
    "encoder_output2, state_h2, state_c2 = encoder_lstm2(encoder_output1)\n",
    "\n",
    "# 인코더의 LSTM 3\n",
    "encoder_lstm3 = LSTM(hidden_size, return_state=True, return_sequences=True, dropout=0.4, recurrent_dropout=0.4)\n",
    "encoder_outputs, state_h, state_c= encoder_lstm3(encoder_output2)"
   ]
  },
  {
   "cell_type": "markdown",
   "id": "b229265d",
   "metadata": {},
   "source": [
    "### 디코더 설계"
   ]
  },
  {
   "cell_type": "code",
   "execution_count": 39,
   "id": "337350d0",
   "metadata": {},
   "outputs": [
    {
     "name": "stdout",
     "output_type": "stream",
     "text": [
      "WARNING:tensorflow:Layer lstm_3 will not use cuDNN kernels since it doesn't meet the criteria. It will use a generic GPU kernel as fallback when running on GPU.\n"
     ]
    }
   ],
   "source": [
    "decoder_inputs = Input(shape=(None,))\n",
    "\n",
    "# 디코더의 임베딩 층\n",
    "dec_emb_layer = Embedding(tar_vocab, embedding_dim)\n",
    "dec_emb = dec_emb_layer(decoder_inputs)\n",
    "\n",
    "# 디코더의 LSTM\n",
    "decoder_lstm = LSTM(hidden_size, return_sequences=True, return_state=True, dropout=0.4, recurrent_dropout=0.2)\n",
    "decoder_outputs, _, _ = decoder_lstm(dec_emb, initial_state=[state_h, state_c])"
   ]
  },
  {
   "cell_type": "markdown",
   "id": "99f51dce",
   "metadata": {},
   "source": [
    "### 디코더 출력층 설계"
   ]
  },
  {
   "cell_type": "code",
   "execution_count": 40,
   "id": "12220123",
   "metadata": {},
   "outputs": [
    {
     "name": "stdout",
     "output_type": "stream",
     "text": [
      "Model: \"model\"\n",
      "__________________________________________________________________________________________________\n",
      "Layer (type)                    Output Shape         Param #     Connected to                     \n",
      "==================================================================================================\n",
      "input_1 (InputLayer)            [(None, 70)]         0                                            \n",
      "__________________________________________________________________________________________________\n",
      "embedding (Embedding)           (None, 70, 128)      1024000     input_1[0][0]                    \n",
      "__________________________________________________________________________________________________\n",
      "lstm (LSTM)                     [(None, 70, 256), (N 394240      embedding[0][0]                  \n",
      "__________________________________________________________________________________________________\n",
      "input_2 (InputLayer)            [(None, None)]       0                                            \n",
      "__________________________________________________________________________________________________\n",
      "lstm_1 (LSTM)                   [(None, 70, 256), (N 525312      lstm[0][0]                       \n",
      "__________________________________________________________________________________________________\n",
      "embedding_1 (Embedding)         (None, None, 128)    256000      input_2[0][0]                    \n",
      "__________________________________________________________________________________________________\n",
      "lstm_2 (LSTM)                   [(None, 70, 256), (N 525312      lstm_1[0][0]                     \n",
      "__________________________________________________________________________________________________\n",
      "lstm_3 (LSTM)                   [(None, None, 256),  394240      embedding_1[0][0]                \n",
      "                                                                 lstm_2[0][1]                     \n",
      "                                                                 lstm_2[0][2]                     \n",
      "__________________________________________________________________________________________________\n",
      "dense (Dense)                   (None, None, 2000)   514000      lstm_3[0][0]                     \n",
      "==================================================================================================\n",
      "Total params: 3,633,104\n",
      "Trainable params: 3,633,104\n",
      "Non-trainable params: 0\n",
      "__________________________________________________________________________________________________\n"
     ]
    }
   ],
   "source": [
    "decoder_softmax_layer = Dense(tar_vocab, activation='softmax')\n",
    "decoder_softmax_outputs = decoder_softmax_layer(decoder_outputs) \n",
    "\n",
    "# 모델 정의\n",
    "model = Model([encoder_inputs, decoder_inputs], decoder_softmax_outputs)\n",
    "model.summary()"
   ]
  },
  {
   "cell_type": "markdown",
   "id": "3cf39d02",
   "metadata": {},
   "source": [
    "어텐션 층을 만들고, 위에서 설계한 디코더의 출력층을 수정"
   ]
  },
  {
   "cell_type": "code",
   "execution_count": 41,
   "id": "c540aaee",
   "metadata": {},
   "outputs": [
    {
     "name": "stdout",
     "output_type": "stream",
     "text": [
      "Model: \"model_1\"\n",
      "__________________________________________________________________________________________________\n",
      "Layer (type)                    Output Shape         Param #     Connected to                     \n",
      "==================================================================================================\n",
      "input_1 (InputLayer)            [(None, 70)]         0                                            \n",
      "__________________________________________________________________________________________________\n",
      "embedding (Embedding)           (None, 70, 128)      1024000     input_1[0][0]                    \n",
      "__________________________________________________________________________________________________\n",
      "lstm (LSTM)                     [(None, 70, 256), (N 394240      embedding[0][0]                  \n",
      "__________________________________________________________________________________________________\n",
      "input_2 (InputLayer)            [(None, None)]       0                                            \n",
      "__________________________________________________________________________________________________\n",
      "lstm_1 (LSTM)                   [(None, 70, 256), (N 525312      lstm[0][0]                       \n",
      "__________________________________________________________________________________________________\n",
      "embedding_1 (Embedding)         (None, None, 128)    256000      input_2[0][0]                    \n",
      "__________________________________________________________________________________________________\n",
      "lstm_2 (LSTM)                   [(None, 70, 256), (N 525312      lstm_1[0][0]                     \n",
      "__________________________________________________________________________________________________\n",
      "lstm_3 (LSTM)                   [(None, None, 256),  394240      embedding_1[0][0]                \n",
      "                                                                 lstm_2[0][1]                     \n",
      "                                                                 lstm_2[0][2]                     \n",
      "__________________________________________________________________________________________________\n",
      "attention_layer (AdditiveAttent (None, None, 256)    256         lstm_3[0][0]                     \n",
      "                                                                 lstm_2[0][0]                     \n",
      "__________________________________________________________________________________________________\n",
      "concat_layer (Concatenate)      (None, None, 512)    0           lstm_3[0][0]                     \n",
      "                                                                 attention_layer[0][0]            \n",
      "__________________________________________________________________________________________________\n",
      "dense_1 (Dense)                 (None, None, 2000)   1026000     concat_layer[0][0]               \n",
      "==================================================================================================\n",
      "Total params: 4,145,360\n",
      "Trainable params: 4,145,360\n",
      "Non-trainable params: 0\n",
      "__________________________________________________________________________________________________\n"
     ]
    }
   ],
   "source": [
    "from tensorflow.keras.layers import AdditiveAttention\n",
    "\n",
    "# 어텐션 층(어텐션 함수)\n",
    "attn_layer = AdditiveAttention(name='attention_layer')\n",
    "\n",
    "# 인코더와 디코더의 모든 time step의 hidden state를 어텐션 층에 전달하고 결과를 리턴\n",
    "attn_out = attn_layer([decoder_outputs, encoder_outputs])\n",
    "\n",
    "\n",
    "# 어텐션의 결과와 디코더의 hidden state들을 연결\n",
    "decoder_concat_input = Concatenate(axis=-1, name='concat_layer')([decoder_outputs, attn_out])\n",
    "\n",
    "# 디코더의 출력층\n",
    "decoder_softmax_layer = Dense(tar_vocab, activation='softmax')\n",
    "decoder_softmax_outputs = decoder_softmax_layer(decoder_concat_input)\n",
    "\n",
    "# 모델 정의\n",
    "model = Model([encoder_inputs, decoder_inputs], decoder_softmax_outputs)\n",
    "model.summary()"
   ]
  },
  {
   "cell_type": "markdown",
   "id": "14cf6892",
   "metadata": {},
   "source": [
    "인코더의 hidden state들과 디코더의 hidden state들을 어텐션 함수의 입력으로 사용\n",
    "\n",
    "어텐션 함수가 리턴한 값을 예측 시에 디코더의 hidden state와 함께 활용하는 형태로 작동"
   ]
  },
  {
   "cell_type": "markdown",
   "id": "0cacb9b3",
   "metadata": {},
   "source": [
    "## 모델 훈련하기"
   ]
  },
  {
   "cell_type": "markdown",
   "id": "5c913ca2",
   "metadata": {},
   "source": [
    "#### EarlyStopping\n",
    "\n",
    "'조기 종료'를 뜻함. 특정 조건이 충족되면 훈련을 멈추는 역할\n",
    "\n",
    "EarlyStopping이 작동한다면 epochs가 아무리 크게 설정되어 있어도 모델 훈련을 최적점에서 멈춤"
   ]
  },
  {
   "cell_type": "code",
   "execution_count": 42,
   "id": "45a40dfa",
   "metadata": {},
   "outputs": [
    {
     "name": "stdout",
     "output_type": "stream",
     "text": [
      "Epoch 1/50\n",
      "308/308 [==============================] - 295s 906ms/step - loss: 3.1275 - val_loss: 2.9010\n",
      "Epoch 2/50\n",
      "308/308 [==============================] - 277s 900ms/step - loss: 2.7555 - val_loss: 2.6329\n",
      "Epoch 3/50\n",
      "308/308 [==============================] - 278s 902ms/step - loss: 2.5439 - val_loss: 2.4667\n",
      "Epoch 4/50\n",
      "308/308 [==============================] - 277s 900ms/step - loss: 2.3976 - val_loss: 2.3513\n",
      "Epoch 5/50\n",
      "308/308 [==============================] - 277s 898ms/step - loss: 2.2855 - val_loss: 2.2663\n",
      "Epoch 6/50\n",
      "308/308 [==============================] - 276s 896ms/step - loss: 2.1934 - val_loss: 2.2033\n",
      "Epoch 7/50\n",
      "308/308 [==============================] - 277s 900ms/step - loss: 2.1168 - val_loss: 2.1474\n",
      "Epoch 8/50\n",
      "308/308 [==============================] - 277s 898ms/step - loss: 2.0516 - val_loss: 2.1055\n",
      "Epoch 9/50\n",
      "308/308 [==============================] - 275s 895ms/step - loss: 1.9948 - val_loss: 2.0664\n",
      "Epoch 10/50\n",
      "308/308 [==============================] - 276s 895ms/step - loss: 1.9461 - val_loss: 2.0402\n",
      "Epoch 11/50\n",
      "308/308 [==============================] - 276s 896ms/step - loss: 1.9020 - val_loss: 2.0116\n",
      "Epoch 12/50\n",
      "308/308 [==============================] - 276s 895ms/step - loss: 1.8630 - val_loss: 1.9918\n",
      "Epoch 13/50\n",
      "308/308 [==============================] - 275s 894ms/step - loss: 1.8270 - val_loss: 1.9736\n",
      "Epoch 14/50\n",
      "308/308 [==============================] - 274s 891ms/step - loss: 1.7949 - val_loss: 1.9579\n",
      "Epoch 15/50\n",
      "308/308 [==============================] - 275s 892ms/step - loss: 1.7645 - val_loss: 1.9496\n",
      "Epoch 16/50\n",
      "308/308 [==============================] - 276s 897ms/step - loss: 1.7367 - val_loss: 1.9395\n",
      "Epoch 17/50\n",
      "308/308 [==============================] - 273s 885ms/step - loss: 1.7112 - val_loss: 1.9330\n",
      "Epoch 18/50\n",
      "308/308 [==============================] - 273s 887ms/step - loss: 1.6877 - val_loss: 1.9196\n",
      "Epoch 19/50\n",
      "308/308 [==============================] - 274s 889ms/step - loss: 1.6643 - val_loss: 1.9118\n",
      "Epoch 20/50\n",
      "308/308 [==============================] - 275s 893ms/step - loss: 1.6439 - val_loss: 1.9210\n",
      "Epoch 21/50\n",
      "308/308 [==============================] - 280s 910ms/step - loss: 1.6243 - val_loss: 1.9016\n",
      "Epoch 22/50\n",
      "308/308 [==============================] - 282s 915ms/step - loss: 1.6052 - val_loss: 1.8979\n",
      "Epoch 23/50\n",
      "308/308 [==============================] - 277s 899ms/step - loss: 1.5881 - val_loss: 1.8995\n",
      "Epoch 24/50\n",
      "308/308 [==============================] - 278s 903ms/step - loss: 1.5714 - val_loss: 1.8930\n",
      "Epoch 25/50\n",
      "308/308 [==============================] - 277s 899ms/step - loss: 1.5556 - val_loss: 1.8924\n",
      "Epoch 26/50\n",
      "308/308 [==============================] - 278s 903ms/step - loss: 1.5407 - val_loss: 1.8929\n",
      "Epoch 27/50\n",
      "308/308 [==============================] - 279s 907ms/step - loss: 1.5264 - val_loss: 1.8990\n",
      "Epoch 00027: early stopping\n"
     ]
    }
   ],
   "source": [
    "model.compile(optimizer='rmsprop', loss='sparse_categorical_crossentropy')\n",
    "es = EarlyStopping(monitor='val_loss', patience=2, verbose=1)\n",
    "history = model.fit(x=[encoder_input_train, decoder_input_train], y=decoder_target_train, \\\n",
    "          validation_data=([encoder_input_test, decoder_input_test], decoder_target_test), \\\n",
    "          batch_size=256, callbacks=[es], epochs=50)"
   ]
  },
  {
   "cell_type": "markdown",
   "id": "a7a6ba07",
   "metadata": {},
   "source": [
    "val_loss(검증 데이터의 손실)을 관찰하다가, \n",
    "\n",
    "검증 데이터의 손실이 줄어들지 않고 증가하는 현상이 2회(patience=2) 관측되면 학습을 멈추도록 설정"
   ]
  },
  {
   "cell_type": "markdown",
   "id": "18e39960",
   "metadata": {},
   "source": [
    "#### 훈련 데이터의 손실과 검증 데이터의 손실이 줄어드는 과정을 시각화"
   ]
  },
  {
   "cell_type": "code",
   "execution_count": 43,
   "id": "c98bacf8",
   "metadata": {},
   "outputs": [
    {
     "data": {
      "image/png": "[encoded data removed]",
      "text/plain": [
       "<Figure size 432x288 with 1 Axes>"
      ]
     },
     "metadata": {
      "needs_background": "light"
     },
     "output_type": "display_data"
    }
   ],
   "source": [
    "plt.plot(history.history['loss'], label='train')\n",
    "plt.plot(history.history['val_loss'], label='test')\n",
    "plt.legend()\n",
    "plt.show()"
   ]
  },
  {
   "cell_type": "markdown",
   "id": "6bebfb1c",
   "metadata": {},
   "source": [
    "## 인퍼런스 모델 구현하기"
   ]
  },
  {
   "cell_type": "code",
   "execution_count": 44,
   "id": "1da1934a",
   "metadata": {},
   "outputs": [
    {
     "name": "stdout",
     "output_type": "stream",
     "text": [
      "=3\n"
     ]
    }
   ],
   "source": [
    "#정수 인덱스 행렬로 존재하던 텍스트 데이터를 실제 데이터로 복원해야함\n",
    "#필요한 3개의 사전을 미리 준비\n",
    "src_index_to_word = src_tokenizer.index_word # 원문 단어 집합에서 정수 -> 단어를 얻음\n",
    "tar_word_to_index = tar_tokenizer.word_index # 요약 단어 집합에서 단어 -> 정수를 얻음\n",
    "tar_index_to_word = tar_tokenizer.index_word # 요약 단어 집합에서 정수 -> 단어를 얻음\n",
    "\n",
    "print('=3')"
   ]
  },
  {
   "cell_type": "code",
   "execution_count": 45,
   "id": "468417c2",
   "metadata": {},
   "outputs": [
    {
     "name": "stdout",
     "output_type": "stream",
     "text": [
      "=3\n"
     ]
    }
   ],
   "source": [
    "#인코더 모델과 디코더 모델을 분리해서 설계\n",
    "# 인코더 설계\n",
    "encoder_model = Model(inputs=encoder_inputs, outputs=[encoder_outputs, state_h, state_c])\n",
    "\n",
    "# 이전 시점의 상태들을 저장하는 텐서\n",
    "decoder_state_input_h = Input(shape=(hidden_size,))\n",
    "decoder_state_input_c = Input(shape=(hidden_size,))\n",
    "\n",
    "dec_emb2 = dec_emb_layer(decoder_inputs)\n",
    "\n",
    "# 문장의 다음 단어를 예측하기 위해서 초기 상태(initial_state)를 이전 시점의 상태로 사용. 이는 뒤의 함수 decode_sequence()에 구현\n",
    "# 훈련 과정에서와 달리 LSTM의 리턴하는 은닉 상태와 셀 상태인 state_h와 state_c를 버리지 않음.\n",
    "decoder_outputs2, state_h2, state_c2 = decoder_lstm(dec_emb2, initial_state=[decoder_state_input_h, decoder_state_input_c])\n",
    "\n",
    "print('=3')"
   ]
  },
  {
   "cell_type": "code",
   "execution_count": 46,
   "id": "713e49a3",
   "metadata": {},
   "outputs": [
    {
     "name": "stdout",
     "output_type": "stream",
     "text": [
      "=3\n"
     ]
    }
   ],
   "source": [
    "#어텐션 메커니즘을 사용하는 출력층을 설계\n",
    "# 어텐션 함수\n",
    "decoder_hidden_state_input = Input(shape=(text_max_len, hidden_size))\n",
    "attn_out_inf = attn_layer([decoder_outputs2, decoder_hidden_state_input])\n",
    "decoder_inf_concat = Concatenate(axis=-1, name='concat')([decoder_outputs2, attn_out_inf])\n",
    "\n",
    "# 디코더의 출력층\n",
    "decoder_outputs2 = decoder_softmax_layer(decoder_inf_concat) \n",
    "\n",
    "# 최종 디코더 모델\n",
    "decoder_model = Model(\n",
    "    [decoder_inputs] + [decoder_hidden_state_input,decoder_state_input_h, decoder_state_input_c],\n",
    "    [decoder_outputs2] + [state_h2, state_c2])\n",
    "\n",
    "print('=3')"
   ]
  },
  {
   "cell_type": "code",
   "execution_count": 47,
   "id": "557766f1",
   "metadata": {},
   "outputs": [
    {
     "name": "stdout",
     "output_type": "stream",
     "text": [
      "=3\n"
     ]
    }
   ],
   "source": [
    "#인퍼런스 단계에서 단어 시퀀스를 완성하는 함수\n",
    "def decode_sequence(input_seq):\n",
    "    # 입력으로부터 인코더의 상태를 얻음\n",
    "    e_out, e_h, e_c = encoder_model.predict(input_seq)\n",
    "\n",
    "     # <SOS>에 해당하는 토큰 생성\n",
    "    target_seq = np.zeros((1,1))\n",
    "    target_seq[0, 0] = tar_word_to_index['sostoken']\n",
    "\n",
    "    stop_condition = False\n",
    "    decoded_sentence = ''\n",
    "    while not stop_condition: # stop_condition이 True가 될 때까지 루프 반복\n",
    "\n",
    "        output_tokens, h, c = decoder_model.predict([target_seq] + [e_out, e_h, e_c])\n",
    "        sampled_token_index = np.argmax(output_tokens[0, -1, :])\n",
    "        sampled_token = tar_index_to_word[sampled_token_index]\n",
    "\n",
    "        if (sampled_token!='eostoken'):\n",
    "            decoded_sentence += ' '+sampled_token\n",
    "\n",
    "        #  <eos>에 도달하거나 최대 길이를 넘으면 중단.\n",
    "        if (sampled_token == 'eostoken'  or len(decoded_sentence.split()) >= (headlines_max_len-1)):\n",
    "            stop_condition = True\n",
    "\n",
    "        # 길이가 1인 타겟 시퀀스를 업데이트\n",
    "        target_seq = np.zeros((1,1))\n",
    "        target_seq[0, 0] = sampled_token_index\n",
    "\n",
    "        # 상태를 업데이트 합니다.\n",
    "        e_h, e_c = h, c\n",
    "\n",
    "    return decoded_sentence\n",
    "print('=3')"
   ]
  },
  {
   "cell_type": "markdown",
   "id": "7ea9a964",
   "metadata": {},
   "source": [
    "## 모델 테스트하기"
   ]
  },
  {
   "cell_type": "markdown",
   "id": "fd58e88a",
   "metadata": {},
   "source": [
    "주어진 정수 시퀀스를 텍스트 시퀀스로 변환하는 함수\n",
    "\n",
    "Text의 정수 시퀀스에서는 패딩을 위해 사용되는 숫자 0을 제외\n",
    "\n",
    "headlines의 정수 시퀀스에서는 숫자 0, 시작 토큰의 인덱스, 종료 토큰의 인덱스를 출력에서 제외"
   ]
  },
  {
   "cell_type": "code",
   "execution_count": 48,
   "id": "804a6800",
   "metadata": {},
   "outputs": [
    {
     "name": "stdout",
     "output_type": "stream",
     "text": [
      "=3\n"
     ]
    }
   ],
   "source": [
    "# 원문의 정수 시퀀스를 텍스트 시퀀스로 변환\n",
    "def seq2text(input_seq):\n",
    "    temp=''\n",
    "    for i in input_seq:\n",
    "        if (i!=0):\n",
    "            temp = temp + src_index_to_word[i]+' '\n",
    "    return temp\n",
    "\n",
    "# 요약문의 정수 시퀀스를 텍스트 시퀀스로 변환\n",
    "def seq2headlines(input_seq):\n",
    "    temp=''\n",
    "    for i in input_seq:\n",
    "        if ((i!=0 and i!=tar_word_to_index['sostoken']) and i!=tar_word_to_index['eostoken']):\n",
    "            temp = temp + tar_index_to_word[i] + ' '\n",
    "    return temp\n",
    "\n",
    "print('=3')"
   ]
  },
  {
   "cell_type": "code",
   "execution_count": 49,
   "id": "3574bb06",
   "metadata": {},
   "outputs": [
    {
     "name": "stdout",
     "output_type": "stream",
     "text": [
      "원문 : bid end vip culture state punjab cabinet decided ban use government vehicles foreign travel ministers two years hosting state also decided provide reservation women government jobs cabinet meeting cm amarinder singh \n",
      "실제 요약 : punjab bans on govt cars to end \n",
      "예측 요약 :  govt bans ban on india in india\n",
      "\n",
      "\n",
      "원문 : smart home platform acquired lifestyle technology company owned black singer deal made million plus million commitment towards future manufacturing connects user smart devices smart home network competition amazon alexa apple \n",
      "실제 요약 : black singer smart home platform \n",
      "예측 요약 :  smart startup makes to mn\n",
      "\n",
      "\n",
      "원문 : case filed tamil allegedly making remarks hindu goddess function complainant stated devotees goddess hurt remarks police officials said meanwhile claimed quoting book meant goddess \n",
      "실제 요약 : case against tamil for remark against hindu \n",
      "예측 요약 :  fir against for hindu\n",
      "\n",
      "\n",
      "원문 : police intelligence officer working killed suspected militants south kashmir pulwama district sunday afternoon identified ahmad officer bullet body recovered area travelling private car intercepted abducted suspected militants later shot dead officials said \n",
      "실제 요약 : police officer killed in \n",
      "예측 요약 :  militants killed in encounter in kashmir\n",
      "\n",
      "\n",
      "원문 : delhi court saturday sentenced year old two years prison bmw hit run case one person killed another suffered leg injury court also directed pay compensation lakh family deceased lakh injured victim \n",
      "실제 요약 : accused gets year jail term in hit and run case \n",
      "예측 요약 :  yr old jailed for yrs in gurugram\n",
      "\n",
      "\n",
      "원문 : director kapil sharma starrer said kapil ex girlfriend responsible driving depression soon learnt marrying girlfriend vowed destroy added said threatened saying get kapil thrown industry \n",
      "실제 요약 : kapil ex him into maker \n",
      "예측 요약 :  kapil sharma accuses girlfriend of him\n",
      "\n",
      "\n",
      "원문 : actor shah rukh khan shared picture twitter seen posing women named sejal invited launch first song titled film jab harry met sejal event took place ahmedabad city maximum girls named sejal contest led srk \n",
      "실제 요약 : srk meets women named for harry met song \n",
      "예측 요약 :  srk wears srk st indian woman in\n",
      "\n",
      "\n",
      "원문 : irish company recalled thousands men contain cancer causing chemical third product recall issued year full refund offered customers however spokesperson said levels found health safety risk customers \n",
      "실제 요약 : firm recalls on of cancer chemical \n",
      "예측 요약 :  recalls lakh for cancer\n",
      "\n",
      "\n",
      "원문 : ayushmann khurrana revealed immediately film vicky donor release female fan told vicky need sperm ayushmann said mother mall incident took place jokingly added like mom otherwise would probably given \n",
      "실제 요약 : female fan once told me need your ayushmann \n",
      "예측 요약 :  was not to marry man ayushmann\n",
      "\n",
      "\n",
      "원문 : pakistani cricketer shoaib malik hit six sixes charity cricket match involving shahid afridi foundation pakistan malik slammed six sixes azam later responded ball century malik playing shahid afridi foundation red team azam part shahid afridi foundation green team \n",
      "실제 요약 : hits in an over in match \n",
      "예측 요약 :  pak batsman hits ball ton on field\n",
      "\n",
      "\n",
      "원문 : asteroid strike triggered extinction dinosaurs million years ago also destroyed across globe killing tree bird species per research published cell press birds survived ones lived ground said researchers modern day birds \n",
      "실제 요약 : only killing study \n",
      "예측 요약 :  killing in study\n",
      "\n",
      "\n",
      "원문 : speaking grandmother request get married arjun kapoor said fulfil right time right person never feelings time put added birthday year grandmother gave gift message \n",
      "실제 요약 : to demand of marriage at right time arjun \n",
      "예측 요약 :  arjun slams for calling someone who is\n",
      "\n",
      "\n",
      "원문 : mla arrested sunday allegedly making derogatory comments tamil nadu cm palaniswami deputy cm panneerselvam protest meeting last week also accused making caste based remarks charged criminal conspiracy promoting among charges speaking arrest said prisons new us nn \n",
      "실제 요약 : mla arrested for remarks against tamil nadu cm \n",
      "예측 요약 :  mla arrested for tamil nadu cm\n",
      "\n",
      "\n",
      "원문 : kapoor performing iifa due injury per reports extremely performance planned iifa however suffered injury advised take easy least weeks reports stated iifa awards held june \n",
      "실제 요약 : to performance at due to injury reports \n",
      "예측 요약 :  kapoor to get special treatment reports\n",
      "\n",
      "\n",
      "원문 : inaugural world test league championship played top nine test sides two years starting world cup team play six series three home three away minimum two tests maximum five series final played top two teams \n",
      "실제 요약 : how will icc new world test league be played \n",
      "예측 요약 :  england to wc first ever in years\n",
      "\n",
      "\n",
      "원문 : bound flight forced return england year old passenger believed drunk allegedly abused group female threatened flight landed england aircraft police passengers provided hotel accommodation flight next day \n",
      "실제 요약 : flight turns back after drunk threatens to women \n",
      "예측 요약 :  flight forced to man who was drunk\n",
      "\n",
      "\n",
      "원문 : neha dhupia said husband actor angad bedi revealed everything meant hidden came wife wanted hide everything producer thought right thing put added angad revealed neha parents reaction told pregnancy marriage \n",
      "실제 요약 : to be on my show \n",
      "예측 요약 :  wife reveals she is not\n",
      "\n",
      "\n",
      "원문 : five indian including dr reddy sun pharmaceutical reportedly sued us states price fixing conspiracy companies also face allegations trade reducing competition pharmaceutical industry throughout us companies sued \n",
      "실제 요약 : sun sued over us price fixing \n",
      "예측 요약 :  indian american maker sues for bn\n",
      "\n",
      "\n",
      "원문 : rajasthan home minister chand wednesday said abduction cases children women solved state last three years however women abduction cases cases children registered period added also acknowledged like smile successfully finding missing children \n",
      "실제 요약 : women cases in raj in last yrs min \n",
      "예측 요약 :  girls in every cases in yrs minister\n",
      "\n",
      "\n",
      "원문 : actress kajol speaking shah rukh khan gauri khan daughter khan featuring cover vogue said letting enter world star celebrity things always children added \n",
      "실제 요약 : off to srk on enter world kajol \n",
      "예측 요약 :  srk is the cover of khan\n",
      "\n",
      "\n",
      "원문 : maharashtra government thursday appealed employees donate day salary assist families farmers suicide regions state money reportedly also used farmers children notably state government recently agreed loans small farmers widespread protests \n",
      "실제 요약 : maha govt urges employees to day salary to farmers \n",
      "예측 요약 :  maha govt to pay suicide for farmers\n",
      "\n",
      "\n",
      "원문 : ahmedabad district authority friday awarded indian citizenship hindus india pakistan years ago officials ahmedabad awarded indian citizenship people since centre allowed seven states grant citizenship hindu minorities fled pakistan bangladesh afghanistan people granted citizenship pakistan \n",
      "실제 요약 : gujarat gives indian to hindus from pakistan \n",
      "예측 요약 :  indian men who went missing in pak\n",
      "\n",
      "\n",
      "원문 : lucknow metro started share selfie contest effort attract passengers participate passengers must click selfies inside metro submit via whatsapp selfies best displayed exhibition metro station next month winners lucknow based channel \n",
      "실제 요약 : lucknow metro starts share your selfie contest \n",
      "예측 요약 :  delhi metro to gift on women day\n",
      "\n",
      "\n",
      "원문 : rishi kapoor discussing pictures ranbir kapoor pakistani actress mahira khan smoking together surfaced online said son young man meet girl wants rishi added know something picture could met called unfair ranbir privacy \n",
      "실제 요약 : he is man can meet any girl rishi on ranbir \n",
      "예측 요약 :  rishi kapoor to ranbir on his th birthday\n",
      "\n",
      "\n",
      "원문 : toyota plant near bengaluru declared among japanese automaker plants globally plant total million units energy needed year renewable sources like solar wind energy toyota second plant northern france energy needs renewable sources \n",
      "실제 요약 : india plant is the company in the world \n",
      "예측 요약 :  bengaluru plant waste\n",
      "\n",
      "\n",
      "원문 : chandigarh district court tuesday dismissed bail plea filed haryana bjp chief subhash son vikas friend accused stalking year old woman chandigarh police reportedly submitted reply court accused granted bail duo facing charges stalking attempted abduction \n",
      "실제 요약 : accused bail plea rejected \n",
      "예측 요약 :  cbi court son accused of rape in delhi\n",
      "\n",
      "\n",
      "원문 : railway board chairman directed ministry officials plan improving working conditions directed officials design new uniform also soft skills better interaction passengers also acting city assist rail passengers important information reports said nn \n",
      "실제 요약 : railway board issues for of \n",
      "예측 요약 :  govt to ensure security in\n",
      "\n",
      "\n",
      "원문 : word secular biggest lie since independence term must apologise people country uttar pradesh cm yogi adityanath said monday adding political system neutral said possible say government run one way prayer \n",
      "실제 요약 : word is the biggest since independence cm yogi \n",
      "예측 요약 :  we are not in the world on violence\n",
      "\n",
      "\n",
      "원문 : zomato suspended first ever paid subscription service zomato running months priced year zomato used offer free every online order suspended fresh sign ups zomato however existing members continue enjoy benefits associated program zomato spokesperson said \n",
      "실제 요약 : suspends its service after months \n",
      "예측 요약 :  top paid to pay for\n",
      "\n",
      "\n",
      "원문 : submarine went missing crew members board last week surfaced report electrical navy officials said also confirmed satellite signals detected earlier come missing vessel submarine ordered stop mission return naval base del immediately \n",
      "실제 요약 : missing to report \n",
      "예측 요약 :  missing crew missing from crew\n",
      "\n",
      "\n",
      "원문 : american rapper perform first time india time music festival held goa december said quite excited hear indian music taste indian food local maybe meet bollywood american singer jason dj martin also perform festival \n",
      "실제 요약 : to perform in goa for his st show in india \n",
      "예측 요약 :  first indian to be held in goa\n",
      "\n",
      "\n",
      "원문 : actress kajol said shah rukh khan fine actor comes work said per involved whatever kajol talking cameo shah rukh upcoming zero added actually shot half hour great \n",
      "실제 요약 : working with shah rukh comes to me kajol \n",
      "예측 요약 :  kajol is my kajol on his own films\n",
      "\n",
      "\n",
      "원문 : actor naseeruddin shah talking second wife ratna pathak shah said wife ratna hindu married much term love jihad acted upon added connection respective religions adding eid diwali occasions us celebrate \n",
      "실제 요약 : married hindu lady before term love was shah \n",
      "예측 요약 :  khan wife is not to talk on marriage\n",
      "\n",
      "\n",
      "원문 : actress sophie sunday called twitter user posting deleted racist meme featuring game thrones character tweeted please use promote racism meme promoted race culture read right date marry white user account suspended twitter \n",
      "실제 요약 : do not use me to promote on got \n",
      "예측 요약 :  twitter users slam for\n",
      "\n",
      "\n",
      "원문 : final draft national register citizens released assam bjp said similar exercise would conducted west bengal kick illegal bangladeshi immigrants bjp came power statement came cm mamata banerjee slammed centre said nrc making people refugees country \n",
      "실제 요약 : bjp says will in west bengal if to power \n",
      "예측 요약 :  bjp blames for wb polls\n",
      "\n",
      "\n",
      "원문 : second man walk moon born jr january new jersey us earned child sister word brother retired nasa astronaut made legal first name interestingly mother name moon \n",
      "실제 요약 : changed name to as sister called him \n",
      "예측 요약 :  moon born on st moon\n",
      "\n",
      "\n",
      "원문 : barcelona beat la liga champions real madrid el saturday lionel messi among cristiano ronaldo missed match messi opened scoring within three minutes made seven minutes madrid came back behind scored th minute winner \n",
      "실제 요약 : messi scores as barcelona beat ronaldo less real madrid \n",
      "예측 요약 :  messi scores as real madrid win\n",
      "\n",
      "\n",
      "원문 : assam police friday posted warning micro site twitter sharing rumours hate messages online caption weekend look like may plan us comes various incidents mob lynching reported assam based rumours child whatsapp \n",
      "실제 요약 : assam police warns of date for sharing hate \n",
      "예측 요약 :  assam police tweets on social media\n",
      "\n",
      "\n",
      "원문 : year old boy shot year old grandmother us state arizona told clean room boy shot grandmother using grandfather boy whose identity yet named later killed gun reports said \n",
      "실제 요약 : yr old boy kills after being told to clean room \n",
      "예측 요약 :  year old boy shot dead in us\n",
      "\n",
      "\n",
      "원문 : house woman bengaluru nagar robbed allegedly posted details trip tamil nadu facebook status woman returned trip find jewellery worth lakh cash two wheeler missing police said suspects committed robbery facebook status \n",
      "실제 요약 : luru woman fb status on finds home \n",
      "예측 요약 :  woman returns to luru woman after she denied\n",
      "\n",
      "\n",
      "원문 : uk based scientists shown form debris covered control rate team monitored mount everest nearly days found volume solar radiation temperature understanding crucial water security \n",
      "실제 요약 : on water study \n",
      "예측 요약 :  scientists to study\n",
      "\n",
      "\n",
      "원문 : commerce minister suresh prabhu free trade agreement africa aimed economic ties sides completely unique free trade agreement would african countries added notably nations member african union signed african free trade area agreement earlier week \n",
      "실제 요약 : india free trade with africa minister \n",
      "예측 요약 :  to be in\n",
      "\n",
      "\n",
      "원문 : mumbai attack mastermind jamaat ud chief hafiz saeed friday slammed ousted pakistani prime minister nawaz sharif developing friendly relations india calling saeed released pakistani court recently placed house arrest january year sharif still prime minister \n",
      "실제 요약 : saeed calls ex pak pm sharif \n",
      "예측 요약 :  saeed to sharif pak pm sharif\n",
      "\n",
      "\n",
      "원문 : scoring sixth test double ton indian batsman virat kohli became test captain number double centuries name surpassing former west indies captain brian lara five kohli also became sixth player score double hundreds consecutive innings notably prior kohli single test double ton \n",
      "실제 요약 : kohli beats record of most test as captain \n",
      "예측 요약 :  kohli becomes rd indian to score runs in test\n",
      "\n",
      "\n",
      "원문 : india india coach rahul dravid said wealth reason young cricketers feel entitled come many ways environment happen young age added comments come wake controversy surrounding remarks women made kl rahul hardik pandya \n",
      "실제 요약 : wealth is not only cricketers feel dravid \n",
      "예측 요약 :  dravid has been paid for me dravid\n",
      "\n",
      "\n",
      "원문 : jeweller mehul choksi lawyer sanjay said loans taken gitanjali group legal soon denying allegations gitanjali employees choksi jewellery asked employees remained silent fraud taking place choksi nirav modi accused defrauding pnb billion \n",
      "실제 요약 : loans by legal will be choksi lawyer \n",
      "예측 요약 :  choksi rejects cbi deal with cbi\n",
      "\n",
      "\n",
      "원문 : hotels food outlets including restaurants declare kind oil fat used cooking food items proposal food safety standards authority india passed also wants make mandatory restaurants buy raw materials registered vendors \n",
      "실제 요약 : may have to give of oil used in food \n",
      "예측 요약 :  to get food from food\n",
      "\n",
      "\n",
      "원문 : past inspired future nissan unveiled engaging design new suv india led nissan signature motion spoke wheels add touch whereas floating roof tail add suv look \n",
      "실제 요약 : the new unveiled in india \n",
      "예측 요약 :  unveils its first\n",
      "\n",
      "\n",
      "원문 : nasa study found evidence heat source powerful us called lies deep antarctica ice sheet maximum km believe formed million years ago antarctica covered ice since worked heat frozen \n",
      "실제 요약 : found driving ice \n",
      "예측 요약 :  nasa finds of ice\n",
      "\n",
      "\n",
      "원문 : rafael nadal said female earn male counterparts way male tennis players earn female players audience comparison even make female models earn male models nobody says anything larger following nadal added \n",
      "실제 요약 : if female earn more so should male players nadal \n",
      "예측 요약 :  paid men paid for men who paid men\n",
      "\n",
      "\n"
     ]
    }
   ],
   "source": [
    "for i in range(50, 100):\n",
    "    print(\"원문 :\", seq2text(encoder_input_test[i]))\n",
    "    print(\"실제 요약 :\", seq2headlines(decoder_input_test[i]))\n",
    "    print(\"예측 요약 :\", decode_sequence(encoder_input_test[i].reshape(1, text_max_len)))\n",
    "    print(\"\\n\")"
   ]
  },
  {
   "cell_type": "markdown",
   "id": "db2ecb7b",
   "metadata": {},
   "source": [
    "성능을 개선하기 위해서는\n",
    "\n",
    "seq2seq와 어텐션의 자체의 조합을 좀 더 좋게 수정하는 방법\n",
    "\n",
    "빔 서치(beam search), 사전 훈련된 워드 임베딩(pre-trained word embedding)\n",
    "\n",
    "인코더 - 디코더 자체의 구조를 새로이 변경한 하는 트랜스포머(Transformer)등 여러 방법들이 존재"
   ]
  },
  {
   "cell_type": "markdown",
   "id": "2fdd3511",
   "metadata": {},
   "source": [
    "## 추출적 요약 해보기\n",
    "\n",
    "### 데이터 다운로드"
   ]
  },
  {
   "cell_type": "code",
   "execution_count": 50,
   "id": "f5027347",
   "metadata": {},
   "outputs": [],
   "source": [
    "import requests\n",
    "from summa.summarizer import summarize"
   ]
  },
  {
   "cell_type": "code",
   "execution_count": 51,
   "id": "3f1f7cbe",
   "metadata": {},
   "outputs": [
    {
     "data": {
      "text/plain": [
       "0        Saurav Kant, an alumnus of upGrad and IIIT-B's...\n",
       "1        Kunal Shah's credit card bill payment platform...\n",
       "2        New Zealand defeated India by 8 wickets in the...\n",
       "3        With Aegon Life iTerm Insurance plan, customer...\n",
       "4        Speaking about the sexual harassment allegatio...\n",
       "                               ...                        \n",
       "98396    A CRPF jawan was on Tuesday axed to death with...\n",
       "98397    'Uff Yeh', the first song from the Sonakshi Si...\n",
       "98398    According to reports, a new version of the 199...\n",
       "98399    A new music video shows rapper Snoop Dogg aimi...\n",
       "98400    Madhesi Morcha, an alliance of seven political...\n",
       "Name: text, Length: 98401, dtype: object"
      ]
     },
     "execution_count": 51,
     "metadata": {},
     "output_type": "execute_result"
    }
   ],
   "source": [
    "news_data = pd.read_csv('news_summary_more.csv', encoding='iso-8859-1')\n",
    "news_data['text']"
   ]
  },
  {
   "cell_type": "code",
   "execution_count": 52,
   "id": "38257112",
   "metadata": {},
   "outputs": [
    {
     "name": "stdout",
     "output_type": "stream",
     "text": [
      "<Original_1:> \n",
      "Saurav Kant, an alumnus of upGrad and IIIT-B's PG Program in Machine learning and Artificial Intelligence, was a Sr Systems Engineer at Infosys with almost 5 years of work experience. The program and upGrad's 360-degree career support helped him transition to a Data Scientist at Tech Mahindra with 90% salary hike. upGrad's Online Power Learning has powered 3 lakh+ careers.\n",
      "[Summary:] \n",
      "The program and upGrad's 360-degree career support helped him transition to a Data Scientist at Tech Mahindra with 90% salary hike.\n",
      "upGrad's Online Power Learning has powered 3 lakh+ careers.\n",
      "\n",
      "<Original_2:> \n",
      "Kunal Shah's credit card bill payment platform, CRED, gave users a chance to win free food from Swiggy for one year. Pranav Kaushik, a Delhi techie, bagged this reward after spending 2000 CRED coins. Users get one CRED coin per rupee of bill paid, which can be used to avail rewards from brands like Ixigo, BookMyShow, UberEats, Cult.Fit and more.\n",
      "[Summary:] \n",
      "Users get one CRED coin per rupee of bill paid, which can be used to avail rewards from brands like Ixigo, BookMyShow, UberEats, Cult.Fit and more.\n",
      "\n",
      "<Original_3:> \n",
      "New Zealand defeated India by 8 wickets in the fourth ODI at Hamilton on Thursday to win their first match of the five-match ODI series. India lost an international match under Rohit Sharma's captaincy after 12 consecutive victories dating back to March 2018. The match witnessed India getting all out for 92, their seventh lowest total in ODI cricket history.\n",
      "[Summary:] \n",
      "The match witnessed India getting all out for 92, their seventh lowest total in ODI cricket history.\n",
      "\n",
      "<Original_4:> \n",
      "With Aegon Life iTerm Insurance plan, customers can enjoy tax benefits on your premiums paid and save up to Ã¢ÂÂ¹46,800^ on taxes. The plan provides life cover up to the age of 100 years. Also, customers have options to insure against Critical Illnesses, Disability and Accidental Death Benefit Rider with a life cover up to the age of 80 years.\n",
      "[Summary:] \n",
      "Also, customers have options to insure against Critical Illnesses, Disability and Accidental Death Benefit Rider with a life cover up to the age of 80 years.\n",
      "\n",
      "<Original_5:> \n",
      "Speaking about the sexual harassment allegations against Rajkumar Hirani, Sonam Kapoor said, \"I've known Hirani for many years...What if it's not true, the [#MeToo] movement will get derailed.\" \"In the #MeToo movement, I always believe a woman. But in this case, we need to reserve our judgment,\" she added. Hirani has been accused by an assistant who worked in 'Sanju'.\n",
      "[Summary:] \n",
      "Speaking about the sexual harassment allegations against Rajkumar Hirani, Sonam Kapoor said, \"I've known Hirani for many years...What if it's not true, the [#MeToo] movement will get derailed.\" \"In the #MeToo movement, I always believe a woman.\n",
      "\n",
      "<Original_6:> \n",
      "Pakistani singer Rahat Fateh Ali Khan has denied receiving any notice from the Enforcement Directorate over allegedly smuggling foreign currency out of India. \"It would have been better if the authorities would have served the notice first if any and then publicised this,\" reads a press release issued on behalf of Rahat. The statement further called the allegation \"bizarre\".\n",
      "[Summary:] \n",
      "Pakistani singer Rahat Fateh Ali Khan has denied receiving any notice from the Enforcement Directorate over allegedly smuggling foreign currency out of India.\n",
      "\n",
      "<Original_7:> \n",
      "India recorded their lowest ODI total in New Zealand after getting all out for 92 runs in 30.5 overs in the fourth ODI at Hamilton on Thursday. Seven of India's batsmen were dismissed for single-digit scores, while their number ten batsman Yuzvendra Chahal top-scored with 18*(37). India's previous lowest ODI total in New Zealand was 108.\n",
      "[Summary:] \n",
      "India's previous lowest ODI total in New Zealand was 108.\n",
      "\n",
      "<Original_8:> \n",
      "Weeks after ex-CBI Director Alok Verma told the Department of Personnel and Training to consider him retired, the Home Ministry asked him to join work on the last day of his fixed tenure as Director on Thursday. The ministry directed him to immediately join as DG, Fire Services, the post he was transferred to after his removal as CBI chief.\n",
      "[Summary:] \n",
      "Weeks after ex-CBI Director Alok Verma told the Department of Personnel and Training to consider him retired, the Home Ministry asked him to join work on the last day of his fixed tenure as Director on Thursday.\n",
      "\n",
      "<Original_9:> \n",
      "Andhra Pradesh CM N Chandrababu Naidu has said, \"When I met then US President Bill Clinton, I addressed him as Mr Clinton, not as 'sir'. (PM Narendra) Modi is my junior in politics...I addressed him as sir 10 times.\" \"I did this...to satisfy his ego in the hope that he will do justice to the state,\" he added.\n",
      "[Summary:] \n",
      "Andhra Pradesh CM N Chandrababu Naidu has said, \"When I met then US President Bill Clinton, I addressed him as Mr Clinton, not as 'sir'.\n",
      "\n",
      "<Original_10:> \n",
      "Congress candidate Shafia Zubair won the Ramgarh Assembly seat in Rajasthan, by defeating BJP's Sukhwant Singh with a margin of 12,228 votes in the bypoll. With this victory, Congress has taken its total to 100 seats in the 200-member assembly. The election to the Ramgarh seat was delayed due to the death of sitting MLA and BSP candidate Laxman Singh.\n",
      "[Summary:] \n",
      "Congress candidate Shafia Zubair won the Ramgarh Assembly seat in Rajasthan, by defeating BJP's Sukhwant Singh with a margin of 12,228 votes in the bypoll.\n",
      "\n"
     ]
    }
   ],
   "source": [
    "for idx, text in enumerate(news_data['text'][:10]):\n",
    "    print(f'<Original_{idx+1}:> \\n{text}')\n",
    "    print(f'[Summary:] \\n{summarize(text, words=20)}\\n')"
   ]
  },
  {
   "cell_type": "code",
   "execution_count": 53,
   "id": "450a0b89",
   "metadata": {},
   "outputs": [
    {
     "name": "stdout",
     "output_type": "stream",
     "text": [
      "                                              headlines  \\\n",
      "0     upGrad learner switches to career in ML & Al w...   \n",
      "1     Delhi techie wins free food from Swiggy for on...   \n",
      "2     New Zealand end Rohit Sharma-led India's 12-ma...   \n",
      "3     Aegon life iTerm insurance plan helps customer...   \n",
      "4     Have known Hirani for yrs, what if MeToo claim...   \n",
      "...                                                 ...   \n",
      "1495  Have seen Sachin Tendulkar get angry but not M...   \n",
      "1496  Player ensures wife stays dry in rain during A...   \n",
      "1497  Federer denied entry into locker room by secur...   \n",
      "1498  42/42 seats in West Bengal: CM Mamata's cutout...   \n",
      "1499  Court refuses chargesheet by Delhi Police agai...   \n",
      "\n",
      "                                                   text  \n",
      "0     Saurav Kant, an alumnus of upGrad and IIIT-B's...  \n",
      "1     Kunal Shah's credit card bill payment platform...  \n",
      "2     New Zealand defeated India by 8 wickets in the...  \n",
      "3     With Aegon Life iTerm Insurance plan, customer...  \n",
      "4     Speaking about the sexual harassment allegatio...  \n",
      "...                                                 ...  \n",
      "1495  India head coach Ravi Shastri has said that he...  \n",
      "1496  Italian tennis player Andreas Seppi ensured hi...  \n",
      "1497  World number three Roger Federer was stopped b...  \n",
      "1498  A cutout of TMC chief and West Bengal CM Mamat...  \n",
      "1499  A Delhi court on Saturday pulled up Delhi Poli...  \n",
      "\n",
      "[1500 rows x 2 columns]\n"
     ]
    }
   ],
   "source": [
    "print(news_data[:1500])"
   ]
  },
  {
   "cell_type": "markdown",
   "id": "1dfce8f2",
   "metadata": {},
   "source": [
    "### summarize 사용\n",
    "\n",
    "Summa의 summarize()의 인자로 사용되는 값\n",
    "\n",
    "- text (str) : 요약할 테스트.\n",
    "- ratio (float, optional) – 요약문에서 원본에서 선택되는 문장 비율. 0~1 사이값\n",
    "- words (int or None, optional) – 출력에 포함할 단어 수\n",
    " (만약, ratio와 함께 두 파라미터가 모두 제공되는 경우 ratio는 무시한다.)\n",
    "- split (bool, optional) – True면 문장 list / False는 조인(join)된 문자열을 반환"
   ]
  },
  {
   "cell_type": "code",
   "execution_count": 54,
   "id": "31d4e549",
   "metadata": {},
   "outputs": [
    {
     "name": "stdout",
     "output_type": "stream",
     "text": [
      "Summary:\n",
      "He added decisions like demonetisation and RERA have put a check on black money that used to be \"parked in the real estate sector\".\n"
     ]
    }
   ],
   "source": [
    "print('Summary:')\n",
    "print(summarize(news_data[\"text\"][i], ratio=0.5))"
   ]
  },
  {
   "cell_type": "code",
   "execution_count": 55,
   "id": "874ef66d",
   "metadata": {},
   "outputs": [
    {
     "name": "stdout",
     "output_type": "stream",
     "text": [
      "Summary:\n",
      "['He added decisions like demonetisation and RERA have put a check on black money that used to be \"parked in the real estate sector\".']\n"
     ]
    }
   ],
   "source": [
    "# 리스트로 출력 결과를 받고 싶다면 split 인자의 값을 True\n",
    "print('Summary:')\n",
    "print(summarize(news_data['text'][i], ratio=0.5, split=True))"
   ]
  },
  {
   "cell_type": "code",
   "execution_count": 56,
   "id": "6488b512",
   "metadata": {},
   "outputs": [
    {
     "name": "stdout",
     "output_type": "stream",
     "text": [
      "Summary:\n",
      "Prime Minister Narendra Modi on Wednesday said his government's demonetisation decision made houses affordable for the aspiring youth.\n",
      "He added decisions like demonetisation and RERA have put a check on black money that used to be \"parked in the real estate sector\".\n"
     ]
    }
   ],
   "source": [
    "#단어의 수로 요약문의 크기를 조절\n",
    "print('Summary:')\n",
    "print(summarize(news_data['text'][i], words=50))"
   ]
  },
  {
   "cell_type": "markdown",
   "id": "c822869d",
   "metadata": {},
   "source": [
    "## 비교"
   ]
  },
  {
   "cell_type": "markdown",
   "id": "2996860d",
   "metadata": {},
   "source": [
    "추출적 요약이 추상적 요약보다 더 비슷하게 요약이 잘 된것 같다.\n",
    "\n",
    "추상적 요약은 학습이 완벽하게 되지 않아서 그런지 데이터 양, 학습이 더 필요할 것 같다는 생각을 했다."
   ]
  },
  {
   "cell_type": "markdown",
   "id": "2fd50136",
   "metadata": {},
   "source": [
    "# 회고"
   ]
  },
  {
   "cell_type": "markdown",
   "id": "e34e3ddb",
   "metadata": {},
   "source": [
    "### 이번 프로젝트에서 어려웠던 점"
   ]
  },
  {
   "cell_type": "markdown",
   "id": "b160bcdd",
   "metadata": {},
   "source": [
    "이번 프로젝트는 기다림의 연속이었다. 전처리를 할 때에도 오래걸렸는데 epoch을 돌리는데 너무 많이 걸려서 2시간 동안 아무것도 못하고 앉아있는 일을 3번 정도를 반복하였다.  "
   ]
  },
  {
   "cell_type": "markdown",
   "id": "13cedf46",
   "metadata": {},
   "source": [
    "### 프로젝트를 진행하면서 알아내거나 모호한 점"
   ]
  },
  {
   "cell_type": "markdown",
   "id": "f0ad8792",
   "metadata": {},
   "source": [
    "summarize를 사용할 떄 숫자 변화에 따라 어떻게 나타나는지를 알 수 있었다.\n",
    "\n",
    "split = true로 변화되는 텍스트 양을 확인할 수 있는 것을 알 수 있었다.\n",
    "\n",
    "epoch을 돌릴 때, Early stopping이라는 것을 알게 되어서 너무 행복하다. 훈련을 시킬 떄 최적점에서 멈춰준다는 사실도 너무 좋았고 val_loss값이 다시 올라갈 때 멈출 수 있게 해주는 것이 너무 좋았다. 진작 알았으면 지난 프로젝트에서도 썼을텐데 라는 생각에 조금 아쉬웠다."
   ]
  },
  {
   "cell_type": "markdown",
   "id": "b82db839",
   "metadata": {},
   "source": [
    "### 루브릭 평가 지표에 맞추기 위해 시도한 것"
   ]
  },
  {
   "cell_type": "markdown",
   "id": "8920ce54",
   "metadata": {},
   "source": [
    "epoch을 멈추지 않고 (earlt stopping을 사용하지 않고) 돌리면 어떤 결과값이 나올지 시도해보고\n",
    "\n",
    "attractive 방식의 학습이 잘 이뤄진다면 얼마나 자연스러운 문장이 나올지 궁금했다.\n",
    "\n",
    "text가 긴 문장을 요약할 떄는 어떤 방식이 더 나을까 고민도 해보았지만 아직 미숙한 것 같다."
   ]
  },
  {
   "cell_type": "markdown",
   "id": "ae8671f1",
   "metadata": {},
   "source": [
    "### 자기다짐"
   ]
  },
  {
   "cell_type": "markdown",
   "id": "8d58f9d9",
   "metadata": {},
   "source": [
    "nlp에 대해 조금 더 생각하고 cv에 대해서도 조금 고민을 해봐야할 것 같다."
   ]
  }
 ],
 "metadata": {
  "kernelspec": {
   "display_name": "Python 3 (ipykernel)",
   "language": "python",
   "name": "python3"
  },
  "language_info": {
   "codemirror_mode": {
    "name": "ipython",
    "version": 3
   },
   "file_extension": ".py",
   "mimetype": "text/x-python",
   "name": "python",
   "nbconvert_exporter": "python",
   "pygments_lexer": "ipython3",
   "version": "3.9.7"
  }
 },
 "nbformat": 4,
 "nbformat_minor": 5
}
