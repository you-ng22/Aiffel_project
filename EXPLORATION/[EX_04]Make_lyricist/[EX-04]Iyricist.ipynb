{
 "cells": [
  {
   "cell_type": "markdown",
   "id": "751ff06f",
   "metadata": {},
   "source": [
    "# 멋진 작사가 만들기"
   ]
  },
  {
   "cell_type": "markdown",
   "id": "b98b2a68",
   "metadata": {},
   "source": [
    "## 데이터 불러오기"
   ]
  },
  {
   "cell_type": "code",
   "execution_count": 1,
   "id": "3acfc4a1",
   "metadata": {
    "scrolled": true
   },
   "outputs": [
    {
     "name": "stdout",
     "output_type": "stream",
     "text": [
      "데이터 크기: 187088\n",
      "Examples:\n",
      " [\"Now I've heard there was a secret chord\", 'That David played, and it pleased the Lord', \"But you don't really care for music, do you?\"]\n"
     ]
    }
   ],
   "source": [
    "# 모듈 import\n",
    "import glob\n",
    "import os\n",
    "import re\n",
    "import tensorflow as tf\n",
    "\n",
    "\n",
    "txt_file_path = os.getenv('HOME')+'/aiffel/lyricist/data/lyrics/*'\n",
    "\n",
    "txt_list = glob.glob(txt_file_path)\n",
    "\n",
    "raw_corpus = []\n",
    "\n",
    "# 여러개의 txt 파일을 raw_corpus에 담음\n",
    "for txt_file in txt_list:\n",
    "    with open(txt_file, \"r\") as f:\n",
    "        raw = f.read().splitlines()\n",
    "        raw_corpus.extend(raw)\n",
    "\n",
    "print(\"데이터 크기:\", len(raw_corpus))\n",
    "#앞에서부터 4라인만 출력\n",
    "print(\"Examples:\\n\", raw_corpus[:3])"
   ]
  },
  {
   "cell_type": "markdown",
   "id": "78b835cf",
   "metadata": {},
   "source": [
    "## 데이터 정제"
   ]
  },
  {
   "cell_type": "code",
   "execution_count": 2,
   "id": "b04f9db3",
   "metadata": {},
   "outputs": [
    {
     "name": "stdout",
     "output_type": "stream",
     "text": [
      "Now I've heard there was a secret chord\n",
      "That David played, and it pleased the Lord\n",
      "But you don't really care for music, do you?\n",
      "It goes like this\n",
      "The fourth, the fifth\n",
      "The minor fall, the major lift\n",
      "The baffled king composing Hallelujah Hallelujah\n",
      "Hallelujah\n",
      "Hallelujah\n",
      "Hallelujah Your faith was strong but you needed proof\n",
      "You saw her bathing on the roof\n",
      "Her beauty and the moonlight overthrew her\n",
      "She tied you\n",
      "To a kitchen chair\n",
      "She broke your throne, and she cut your hair\n",
      "And from your lips she drew the Hallelujah Hallelujah\n"
     ]
    }
   ],
   "source": [
    "for idx, sentence in enumerate(raw_corpus):\n",
    "    if len(sentence) == 0: continue   # 길이가 0인 문장\n",
    "    if sentence[-1] == \":\": continue  # 문장의 끝이 : 인 문장\n",
    "\n",
    "    if idx >15: break   # 문장 10개 확인\n",
    "        \n",
    "    print(sentence)"
   ]
  },
  {
   "cell_type": "code",
   "execution_count": 3,
   "id": "5ab78424",
   "metadata": {},
   "outputs": [
    {
     "name": "stdout",
     "output_type": "stream",
     "text": [
      "<start> this is sample sentence . <end>\n"
     ]
    }
   ],
   "source": [
    "\n",
    "# 소문자로 바꾸고, 양쪽 공백 지움\n",
    "# 특수문자 양쪽에 공백\n",
    "# 여러개의 공백을 하나의 공백으로\n",
    "# a-zA-Z?.!,¿가 아닌 문자를 하나의 공백으로\n",
    "# 다시 양쪽 공백을 지웁니다\n",
    "# 문장 시작에는 <start>, 끝에는 <end>를\n",
    "\n",
    "def preprocess_sentence(sentence):\n",
    "    sentence = sentence.lower().strip() # 1\n",
    "    sentence = re.sub(r\"([?.!,¿])\", r\" \\1 \", sentence) # 2\n",
    "    sentence = re.sub(r'[\" \"]+', \" \", sentence) # 3\n",
    "    sentence = re.sub(r\"[^a-zA-Z?.!,¿]+\", \" \", sentence) # 4\n",
    "    sentence = sentence.strip() # 5\n",
    "    sentence = '<start> ' + sentence + ' <end>' # 6\n",
    "    return sentence\n",
    "\n",
    "#어떻게 필터링되는지 확인\n",
    "print(preprocess_sentence(\"This @_is ;;;sample        sentence.\"))"
   ]
  },
  {
   "cell_type": "code",
   "execution_count": 4,
   "id": "1f5677c1",
   "metadata": {},
   "outputs": [
    {
     "data": {
      "text/plain": [
       "['<start> now i ve heard there was a secret chord <end>',\n",
       " '<start> that david played , and it pleased the lord <end>',\n",
       " '<start> but you don t really care for music , do you ? <end>',\n",
       " '<start> it goes like this <end>',\n",
       " '<start> the fourth , the fifth <end>',\n",
       " '<start> the minor fall , the major lift <end>',\n",
       " '<start> the baffled king composing hallelujah hallelujah <end>',\n",
       " '<start> hallelujah <end>',\n",
       " '<start> hallelujah <end>',\n",
       " '<start> hallelujah your faith was strong but you needed proof <end>']"
      ]
     },
     "execution_count": 4,
     "metadata": {},
     "output_type": "execute_result"
    }
   ],
   "source": [
    "#정제된 문장 모음\n",
    "corpus = []\n",
    "\n",
    "for sentence in raw_corpus:\n",
    "    # 원하지 않는 문장은 넘김\n",
    "    if len(sentence) == 0: continue\n",
    "    if sentence[-1] == \":\": continue\n",
    "    if len(preprocess_sentence(sentence).split()) > 15: continue\n",
    "    corpus.append(preprocess_sentence(sentence))\n",
    "        \n",
    "# 결과 10개만 확인\n",
    "corpus[:10]"
   ]
  },
  {
   "cell_type": "code",
   "execution_count": 5,
   "id": "8d8eeded",
   "metadata": {},
   "outputs": [
    {
     "name": "stdout",
     "output_type": "stream",
     "text": [
      "[[   2   50    4 ...    0    0    0]\n",
      " [   2   15 2967 ...    0    0    0]\n",
      " [   2   33    7 ...   46    3    0]\n",
      " ...\n",
      " [   2    4  118 ...    0    0    0]\n",
      " [   2  258  194 ...   12    3    0]\n",
      " [   2    7   34 ...    0    0    0]] <keras_preprocessing.text.Tokenizer object at 0x7fe3ab03afd0>\n"
     ]
    }
   ],
   "source": [
    "# 토큰화 할 때Tokenizer와 pad_sequences를 사용\n",
    "\n",
    "def tokenize(corpus):\n",
    "    # 12000단어를 기억할 수 있는 tokenizer\n",
    "    # 12000단어에 포함되지 못한 단어는 '<unk>'로 \n",
    "    tokenizer = tf.keras.preprocessing.text.Tokenizer(\n",
    "        num_words=12000, \n",
    "        filters=' ',\n",
    "        oov_token=\"<unk>\"\n",
    "    )\n",
    "    # corpus를 이용해 tokenizer 내부의 단어장을 완성\n",
    "    tokenizer.fit_on_texts(corpus)\n",
    "    # 준비한 tokenizer를 이용해 corpus를 Tensor로 변환\n",
    "    tensor = tokenizer.texts_to_sequences(corpus)   \n",
    "    # 시퀀스 길이를 일정하게 맞춤\n",
    "    # 시퀀스가 짧다면 문장 뒤에 패딩을 붙여 길이를 맞춤\n",
    "    # 패딩을 붙여 길이를 맞추고 싶다면 padding='pre'를 사용\n",
    "    tensor = tf.keras.preprocessing.sequence.pad_sequences(tensor, padding='post')  \n",
    "    \n",
    "    print(tensor,tokenizer)\n",
    "    return tensor, tokenizer\n",
    "\n",
    "tensor, tokenizer = tokenize(corpus)"
   ]
  },
  {
   "cell_type": "code",
   "execution_count": 6,
   "id": "333ae225",
   "metadata": {},
   "outputs": [
    {
     "name": "stdout",
     "output_type": "stream",
     "text": [
      "[[   2   50    4   95  303   62   53    9  946 6263]\n",
      " [   2   15 2967  871    5    8   11 5739    6  374]\n",
      " [   2   33    7   40   16  164  288   28  333    5]]\n"
     ]
    }
   ],
   "source": [
    "print(tensor[:3, :10])"
   ]
  },
  {
   "cell_type": "code",
   "execution_count": 7,
   "id": "0c20cb2f",
   "metadata": {},
   "outputs": [
    {
     "name": "stdout",
     "output_type": "stream",
     "text": [
      "1 : <unk>\n",
      "2 : <start>\n",
      "3 : <end>\n",
      "4 : i\n",
      "5 : ,\n",
      "6 : the\n",
      "7 : you\n",
      "8 : and\n",
      "9 : a\n",
      "10 : to\n"
     ]
    }
   ],
   "source": [
    "for idx in tokenizer.index_word:\n",
    "    print(idx, \":\", tokenizer.index_word[idx])\n",
    "\n",
    "    if idx >= 10: break"
   ]
  },
  {
   "cell_type": "code",
   "execution_count": 8,
   "id": "c179fc2e",
   "metadata": {},
   "outputs": [
    {
     "name": "stdout",
     "output_type": "stream",
     "text": [
      "[   2   50    4   95  303   62   53    9  946 6263    3    0    0    0]\n",
      "[  50    4   95  303   62   53    9  946 6263    3    0    0    0    0]\n"
     ]
    }
   ],
   "source": [
    "# 마지막 토큰을 잘라내서 소스 문장을 생성\n",
    "# 마지막 토큰은 <end>가 아니라 <pad>일 가능성이 높습니다.\n",
    "src_input = tensor[:, :-1]  \n",
    "# tensor에서 <start>를 잘라내서 타겟 문장을 생성\n",
    "tgt_input = tensor[:, 1:]    \n",
    "\n",
    "print(src_input[0])\n",
    "print(tgt_input[0])"
   ]
  },
  {
   "cell_type": "code",
   "execution_count": 9,
   "id": "546d627e",
   "metadata": {},
   "outputs": [],
   "source": [
    "#훈련 데이터, 평가데이터 분리\n",
    "#총 데이터의 20%는 평가 데이터로\n",
    "from sklearn.model_selection import train_test_split\n",
    "enc_train, enc_val, dec_train, dec_val = train_test_split(src_input, \n",
    "                                                          tgt_input,\n",
    "                                                          test_size=0.2,\n",
    "                                                          shuffle=True, \n",
    "                                                          random_state=34)"
   ]
  },
  {
   "cell_type": "code",
   "execution_count": 10,
   "id": "b3a70d68",
   "metadata": {},
   "outputs": [
    {
     "name": "stdout",
     "output_type": "stream",
     "text": [
      "Source Train:  (124810, 14)\n",
      "Target Train:  (124810, 14)\n"
     ]
    }
   ],
   "source": [
    "print('Source Train: ', enc_train.shape)\n",
    "print('Target Train: ', dec_train.shape)"
   ]
  },
  {
   "cell_type": "code",
   "execution_count": 11,
   "id": "c65894ff",
   "metadata": {},
   "outputs": [
    {
     "data": {
      "text/plain": [
       "<BatchDataset shapes: ((256, 14), (256, 14)), types: (tf.int32, tf.int32)>"
      ]
     },
     "execution_count": 11,
     "metadata": {},
     "output_type": "execute_result"
    }
   ],
   "source": [
    "BUFFER_SIZE = len(src_input)\n",
    "BATCH_SIZE = 256\n",
    "steps_per_epoch = len(src_input) // BATCH_SIZE\n",
    "\n",
    "VOCAB_SIZE = tokenizer.num_words + 1   \n",
    "\n",
    "# 준비한 데이터 소스로부터 데이터셋을 만듭니다\n",
    "dataset = tf.data.Dataset.from_tensor_slices((src_input, tgt_input))\n",
    "dataset = dataset.shuffle(BUFFER_SIZE)\n",
    "dataset = dataset.batch(BATCH_SIZE, drop_remainder=True)\n",
    "dataset"
   ]
  },
  {
   "cell_type": "code",
   "execution_count": 12,
   "id": "ffca7e4a",
   "metadata": {},
   "outputs": [],
   "source": [
    "class TextGenerator(tf.keras.Model):\n",
    "    def __init__(self, vocab_size, embedding_size, hidden_size):\n",
    "        super().__init__()\n",
    "        \n",
    "        self.embedding = tf.keras.layers.Embedding(vocab_size, embedding_size)\n",
    "        self.rnn_1 = tf.keras.layers.LSTM(hidden_size, return_sequences=True)\n",
    "        self.rnn_2 = tf.keras.layers.LSTM(hidden_size, return_sequences=True)\n",
    "        self.linear = tf.keras.layers.Dense(vocab_size)\n",
    "        \n",
    "    def call(self, x):\n",
    "        out = self.embedding(x)\n",
    "        out = self.rnn_1(out)\n",
    "        out = self.rnn_2(out)\n",
    "        out = self.linear(out)\n",
    "        \n",
    "        return out\n",
    "    \n",
    "embedding_size = 256\n",
    "hidden_size = 2048\n",
    "model = TextGenerator(tokenizer.num_words + 1, embedding_size , hidden_size)"
   ]
  },
  {
   "cell_type": "code",
   "execution_count": 13,
   "id": "d64f04f2",
   "metadata": {},
   "outputs": [
    {
     "data": {
      "text/plain": [
       "<tf.Tensor: shape=(256, 14, 12001), dtype=float32, numpy=\n",
       "array([[[-4.16395778e-07,  1.80750314e-04, -2.60765373e-04, ...,\n",
       "          6.30866780e-05,  6.56587436e-05,  1.33362264e-04],\n",
       "        [-8.11679711e-05,  2.15769847e-04, -6.42851403e-04, ...,\n",
       "         -5.13171435e-05, -1.28693675e-04,  1.43707381e-04],\n",
       "        [-2.11876453e-04,  2.73434416e-04, -6.53212483e-04, ...,\n",
       "         -7.11624816e-05, -9.56941221e-05,  1.76204150e-04],\n",
       "        ...,\n",
       "        [-1.96870579e-03,  1.38334883e-03,  1.68865069e-03, ...,\n",
       "          1.18336768e-03,  1.27355685e-04,  1.45303004e-03],\n",
       "        [-2.38847919e-03,  1.49386167e-03,  1.99873606e-03, ...,\n",
       "          1.52696995e-03,  2.01405914e-04,  1.65440096e-03],\n",
       "        [-2.77968380e-03,  1.59160991e-03,  2.26885104e-03, ...,\n",
       "          1.86440465e-03,  2.81908113e-04,  1.82204484e-03]],\n",
       "\n",
       "       [[-4.16395778e-07,  1.80750314e-04, -2.60765373e-04, ...,\n",
       "          6.30866780e-05,  6.56587436e-05,  1.33362264e-04],\n",
       "        [-1.62962882e-04,  1.30684100e-04, -1.68568076e-04, ...,\n",
       "          2.22953968e-04,  2.90193944e-04,  1.86547608e-04],\n",
       "        [-1.38049101e-04,  3.51886702e-04, -1.03505183e-04, ...,\n",
       "          3.35305784e-04,  4.44814039e-04,  1.36480026e-04],\n",
       "        ...,\n",
       "        [-1.16212072e-03,  1.49252103e-03,  5.59992564e-04, ...,\n",
       "          1.51673902e-03,  6.19882951e-04,  1.11964077e-03],\n",
       "        [-1.63451454e-03,  1.56977004e-03,  9.45198815e-04, ...,\n",
       "          1.71433622e-03,  6.15639321e-04,  1.35426561e-03],\n",
       "        [-2.08337558e-03,  1.64977671e-03,  1.30481320e-03, ...,\n",
       "          1.92949607e-03,  6.30892639e-04,  1.54695613e-03]],\n",
       "\n",
       "       [[-4.16395778e-07,  1.80750314e-04, -2.60765373e-04, ...,\n",
       "          6.30866780e-05,  6.56587436e-05,  1.33362264e-04],\n",
       "        [-1.08657849e-04,  1.15764298e-04, -5.47722331e-04, ...,\n",
       "          1.08496664e-04,  1.30485869e-05,  1.33267502e-04],\n",
       "        [-3.61653838e-05,  1.38951309e-05, -7.42380274e-04, ...,\n",
       "          1.66419311e-04, -1.09205779e-04,  3.17928243e-05],\n",
       "        ...,\n",
       "        [ 1.34122942e-03, -1.06282379e-04, -5.99948049e-04, ...,\n",
       "         -1.10357057e-03,  4.91144310e-04, -8.94212397e-04],\n",
       "        [ 1.03101751e-03,  5.32962222e-05, -5.22486807e-04, ...,\n",
       "         -1.01583614e-03,  3.79289762e-04, -7.58616603e-04],\n",
       "        [ 5.39306493e-04,  2.49188073e-04, -2.74343067e-04, ...,\n",
       "         -7.57752045e-04,  2.84302427e-04, -4.20127850e-04]],\n",
       "\n",
       "       ...,\n",
       "\n",
       "       [[-4.16395778e-07,  1.80750314e-04, -2.60765373e-04, ...,\n",
       "          6.30866780e-05,  6.56587436e-05,  1.33362264e-04],\n",
       "        [-2.46847892e-04,  2.22900853e-04, -5.78002713e-04, ...,\n",
       "          8.81521191e-06,  1.46322607e-04,  2.35017302e-04],\n",
       "        [-5.00430702e-04,  3.79851263e-04, -1.02757267e-03, ...,\n",
       "          1.17001291e-04,  2.83375248e-05,  3.22301436e-04],\n",
       "        ...,\n",
       "        [-9.28727968e-04,  1.73854918e-04, -5.43039059e-04, ...,\n",
       "          1.12683780e-03,  3.22276501e-05,  1.69156527e-04],\n",
       "        [-1.27638434e-03,  3.60385806e-04, -1.27405001e-04, ...,\n",
       "          1.18062412e-03,  4.44867292e-05,  5.19345573e-04],\n",
       "        [-1.65231200e-03,  5.59949491e-04,  3.16985155e-04, ...,\n",
       "          1.27241400e-03,  6.82185273e-05,  9.04593442e-04]],\n",
       "\n",
       "       [[-4.16395778e-07,  1.80750314e-04, -2.60765373e-04, ...,\n",
       "          6.30866780e-05,  6.56587436e-05,  1.33362264e-04],\n",
       "        [ 9.68632739e-05,  2.83682573e-04, -7.76323359e-05, ...,\n",
       "          2.13395484e-04,  1.96700930e-04,  1.46136532e-04],\n",
       "        [ 3.85021631e-05,  3.64469306e-04, -1.83557582e-04, ...,\n",
       "          4.08179360e-04,  2.39470013e-04, -5.02950606e-05],\n",
       "        ...,\n",
       "        [-1.61495269e-03,  6.40647253e-04,  1.51998363e-03, ...,\n",
       "          1.10271561e-03,  3.85239371e-04,  1.15213182e-03],\n",
       "        [-2.01236201e-03,  9.12926451e-04,  1.88748643e-03, ...,\n",
       "          1.28041080e-03,  4.37464798e-04,  1.44104147e-03],\n",
       "        [-2.39439635e-03,  1.15528912e-03,  2.19815434e-03, ...,\n",
       "          1.49388122e-03,  5.02000679e-04,  1.67499983e-03]],\n",
       "\n",
       "       [[-4.16395778e-07,  1.80750314e-04, -2.60765373e-04, ...,\n",
       "          6.30866780e-05,  6.56587436e-05,  1.33362264e-04],\n",
       "        [-1.18466581e-07,  4.66065074e-04, -5.85375645e-04, ...,\n",
       "          1.45428596e-04,  1.63433346e-04,  1.09330540e-04],\n",
       "        [ 8.87683418e-05,  7.28457991e-04, -6.34393597e-04, ...,\n",
       "          7.67448655e-05,  1.89187733e-04, -4.86011595e-05],\n",
       "        ...,\n",
       "        [-2.79140449e-03,  1.73085253e-03,  1.86696136e-03, ...,\n",
       "          1.69677951e-03,  5.50225435e-04,  1.53783569e-03],\n",
       "        [-3.13137565e-03,  1.83430326e-03,  2.12683226e-03, ...,\n",
       "          2.02623149e-03,  6.31978211e-04,  1.71562750e-03],\n",
       "        [-3.45015223e-03,  1.91581645e-03,  2.34892173e-03, ...,\n",
       "          2.34349584e-03,  7.03202968e-04,  1.85991114e-03]]],\n",
       "      dtype=float32)>"
      ]
     },
     "execution_count": 13,
     "metadata": {},
     "output_type": "execute_result"
    }
   ],
   "source": [
    "# 데이터셋에서 데이터 한 배치만 불러오는 방법\n",
    "for src_sample, tgt_sample in dataset.take(1): break\n",
    "\n",
    "model(src_sample)"
   ]
  },
  {
   "cell_type": "code",
   "execution_count": 14,
   "id": "e7c49c0b",
   "metadata": {},
   "outputs": [
    {
     "name": "stdout",
     "output_type": "stream",
     "text": [
      "Model: \"text_generator\"\n",
      "_________________________________________________________________\n",
      "Layer (type)                 Output Shape              Param #   \n",
      "=================================================================\n",
      "embedding (Embedding)        multiple                  3072256   \n",
      "_________________________________________________________________\n",
      "lstm (LSTM)                  multiple                  18882560  \n",
      "_________________________________________________________________\n",
      "lstm_1 (LSTM)                multiple                  33562624  \n",
      "_________________________________________________________________\n",
      "dense (Dense)                multiple                  24590049  \n",
      "=================================================================\n",
      "Total params: 80,107,489\n",
      "Trainable params: 80,107,489\n",
      "Non-trainable params: 0\n",
      "_________________________________________________________________\n"
     ]
    }
   ],
   "source": [
    "model.summary()"
   ]
  },
  {
   "cell_type": "code",
   "execution_count": 15,
   "id": "7b5dc62d",
   "metadata": {
    "scrolled": true
   },
   "outputs": [
    {
     "name": "stdout",
     "output_type": "stream",
     "text": [
      "Epoch 1/10\n",
      "488/488 [==============================] - 247s 501ms/step - loss: 3.4041 - val_loss: 3.0324\n",
      "Epoch 2/10\n",
      "488/488 [==============================] - 262s 537ms/step - loss: 2.8813 - val_loss: 2.8028\n",
      "Epoch 3/10\n",
      "488/488 [==============================] - 263s 540ms/step - loss: 2.6371 - val_loss: 2.6445\n",
      "Epoch 4/10\n",
      "488/488 [==============================] - 263s 539ms/step - loss: 2.4108 - val_loss: 2.5196\n",
      "Epoch 5/10\n",
      "488/488 [==============================] - 264s 541ms/step - loss: 2.1919 - val_loss: 2.4236\n",
      "Epoch 6/10\n",
      "488/488 [==============================] - 264s 541ms/step - loss: 1.9817 - val_loss: 2.3448\n",
      "Epoch 7/10\n",
      "488/488 [==============================] - 264s 541ms/step - loss: 1.7822 - val_loss: 2.2857\n",
      "Epoch 8/10\n",
      "488/488 [==============================] - 264s 541ms/step - loss: 1.5974 - val_loss: 2.2387\n",
      "Epoch 9/10\n",
      "488/488 [==============================] - 264s 542ms/step - loss: 1.4325 - val_loss: 2.2115\n",
      "Epoch 10/10\n",
      "488/488 [==============================] - 264s 541ms/step - loss: 1.2917 - val_loss: 2.2021\n"
     ]
    },
    {
     "data": {
      "text/plain": [
       "<keras.callbacks.History at 0x7fe39026b1f0>"
      ]
     },
     "execution_count": 15,
     "metadata": {},
     "output_type": "execute_result"
    }
   ],
   "source": [
    "#모델학습\n",
    "optimizer = tf.keras.optimizers.Adam()\n",
    "loss = tf.keras.losses.SparseCategoricalCrossentropy(\n",
    "    from_logits=True,\n",
    "    reduction='none'\n",
    ")\n",
    "\n",
    "model.compile(loss=loss, optimizer=optimizer)\n",
    "model.fit(enc_train, dec_train, epochs=10, batch_size=256, validation_data = (enc_val, dec_val))"
   ]
  },
  {
   "cell_type": "code",
   "execution_count": 16,
   "id": "76eb37e4",
   "metadata": {},
   "outputs": [],
   "source": [
    "def generate_text(model, tokenizer, init_sentence=\"<start>\", max_len=20):\n",
    "    # 테스트를 위해서 입력받은 init_sentence도 텐서로 변환\n",
    "    test_input = tokenizer.texts_to_sequences([init_sentence])\n",
    "    test_tensor = tf.convert_to_tensor(test_input, dtype=tf.int64)\n",
    "    end_token = tokenizer.word_index[\"<end>\"]\n",
    "\n",
    "    # 단어 하나씩 예측해 문장을 생성\n",
    "    # 입력받은 문장의 텐서를 입력\n",
    "    # 예측된 값 중 가장 높은 확률인 word index를 뽑아냅\n",
    "    # 예측된 word index를 문장 뒤에 붙입니다\n",
    "    # 모델이 <end>를 예측했거나, max_len에 도달했다면 문장 생성\n",
    "    while True:\n",
    "        # 1\n",
    "        predict = model(test_tensor) \n",
    "        # 2\n",
    "        predict_word = tf.argmax(tf.nn.softmax(predict, axis=-1), axis=-1)[:, -1] \n",
    "        # 3 \n",
    "        test_tensor = tf.concat([test_tensor, tf.expand_dims(predict_word, axis=0)], axis=-1)\n",
    "        # 4 max_len에 도달하지 않았다면, while 루프를 또 돌면서 다음 단어 예측\n",
    "        if predict_word.numpy()[0] == end_token: break\n",
    "        if test_tensor.shape[1] >= max_len: break\n",
    "\n",
    "    generated = \"\"\n",
    "    # tokenizer를 이용해 word index를 단어로 하나씩 변환 \n",
    "    for word_index in test_tensor[0].numpy():\n",
    "        generated += tokenizer.index_word[word_index] + \" \"\n",
    "\n",
    "    return generated"
   ]
  },
  {
   "cell_type": "code",
   "execution_count": 18,
   "id": "5250085d",
   "metadata": {
    "scrolled": true
   },
   "outputs": [
    {
     "name": "stdout",
     "output_type": "stream",
     "text": [
      "<start> i love ma little nasty girl <end> \n"
     ]
    }
   ],
   "source": [
    "test_sen = generate_text(model, tokenizer, init_sentence=\"<start> i love\", max_len = 20)\n",
    "print(test_sen)"
   ]
  },
  {
   "cell_type": "markdown",
   "id": "0f724ace",
   "metadata": {},
   "source": [
    "# 회고"
   ]
  },
  {
   "cell_type": "markdown",
   "id": "e9a23852",
   "metadata": {},
   "source": [
    "## 이번 프로젝트에서 어려웠던 점"
   ]
  },
  {
   "cell_type": "markdown",
   "id": "b178b2d3",
   "metadata": {},
   "source": [
    "### 모델 학습을 시키기 위해 epoch을 다 돌아가기까지 기다리는 시간이 너무 길었다. 이전의 프로젝트 들은 이렇게 오래도록 걸리지 않아서 몰랐지만 다른 분들께 들어보니 이 정도는  평범함 정도라고 하신다. epoch가 다 돌아간 후 Error가 뜨면 또 코드를 고치고 다시 돌리면 다시 기다려하는 것이 힘들었다. epoch 값을 10으로 맞추고 val_loss값을 2.2 이하로 맞추는 것이 너무 힘들었다. "
   ]
  },
  {
   "cell_type": "markdown",
   "id": "b257b9e2",
   "metadata": {},
   "source": [
    "## 프로젝트를 진행하면서 알아내거나 모호한 점"
   ]
  },
  {
   "cell_type": "markdown",
   "id": "9897d42e",
   "metadata": {},
   "source": [
    "### 모호한 점_ epoch를 계속 돌리다보면 val_loss 값이 떨어지다가 2,3 ~ 2.4 부분에서 다시 올라가는 이유에 대해 검색을 했을 때, 전처리 과정, 모델의 강제성, 학습 속도 등의 이유가 나왔다. 전처리 과정을 보았을 때는 잘 모르겠다. 아직 잘 모르는 부분이 많아서 그런 것 같다. 그리고 모델의 강제성 부분에서는 코드를 간결하게 하려고 해도 아직 내가 그 정도 수준이 되질 않아서 시도하지 못했다. 학습 속도는 epoch 값이 10이내 고정이라서 10으로 맞춰놓아서 아직 val_loss 값이 떨어지다가 다시 오르는 부분에 대한 나의 고민은 해결하지 못했다."
   ]
  },
  {
   "cell_type": "markdown",
   "id": "f1d83567",
   "metadata": {},
   "source": [
    "## 루브릭 평가 지표에 맞추기 위해 시도한 것"
   ]
  },
  {
   "cell_type": "markdown",
   "id": "bdf4bc84",
   "metadata": {},
   "source": [
    "### epoch 값을 10으로 맞추고 val_loss값을 2.2 이하로 맞추기 위해 embedding size, hidden size 값을 계속 1024, 2048, 128, 256 계속 이렇게도 해보고 저렇게도 해보고 val_loss 값이 2.2로 맞춰지는가 싶으면 다시 올라가서 오버피팅이 아닌가 싶어서 다시 처음부터 코드 치고 size 바꾸고 다시 해보고 하다보니 해결!! 되었습니다."
   ]
  },
  {
   "cell_type": "markdown",
   "id": "01dfbfa4",
   "metadata": {},
   "source": [
    "## 자기다짐 "
   ]
  },
  {
   "cell_type": "markdown",
   "id": "7e2f924f",
   "metadata": {},
   "source": [
    "### 자기다짐....을 매번 적지만 항상 못지킨다.. 오늘의 자기다짐은 '뱉은 말을 지키자.'"
   ]
  }
 ],
 "metadata": {
  "kernelspec": {
   "display_name": "Python 3 (ipykernel)",
   "language": "python",
   "name": "python3"
  },
  "language_info": {
   "codemirror_mode": {
    "name": "ipython",
    "version": 3
   },
   "file_extension": ".py",
   "mimetype": "text/x-python",
   "name": "python",
   "nbconvert_exporter": "python",
   "pygments_lexer": "ipython3",
   "version": "3.9.7"
  }
 },
 "nbformat": 4,
 "nbformat_minor": 5
}
